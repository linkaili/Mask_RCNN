{
 "cells": [
  {
   "cell_type": "markdown",
   "metadata": {},
   "source": [
    "# Mask R-CNN for DeepScore"
   ]
  },
  {
   "cell_type": "markdown",
   "metadata": {},
   "source": [
    "For our own dataset DeepScore"
   ]
  },
  {
   "cell_type": "code",
   "execution_count": 1,
   "metadata": {},
   "outputs": [
    {
     "name": "stderr",
     "output_type": "stream",
     "text": [
      "C:\\Users\\johnl\\Anaconda3\\lib\\site-packages\\h5py\\__init__.py:36: FutureWarning: Conversion of the second argument of issubdtype from `float` to `np.floating` is deprecated. In future, it will be treated as `np.float64 == np.dtype(float).type`.\n",
      "  from ._conv import register_converters as _register_converters\n",
      "Using TensorFlow backend.\n"
     ]
    }
   ],
   "source": [
    "import os\n",
    "import sys\n",
    "import itertools\n",
    "import math\n",
    "import logging\n",
    "import json\n",
    "import re\n",
    "import random\n",
    "from collections import OrderedDict\n",
    "import numpy as np\n",
    "import matplotlib\n",
    "import matplotlib.pyplot as plt\n",
    "import matplotlib.patches as patches\n",
    "import matplotlib.lines as lines\n",
    "from matplotlib.patches import Polygon\n",
    "\n",
    "# Root directory of the project\n",
    "ROOT_DIR = os.path.abspath(\"../\")\n",
    "\n",
    "# Import Mask RCNN\n",
    "sys.path.append(ROOT_DIR)  # To find local version of the library\n",
    "from mrcnn import utils\n",
    "from mrcnn import visualize\n",
    "from mrcnn.visualize import display_images\n",
    "import mrcnn.model as modellib\n",
    "from mrcnn.model import log\n",
    "from mrcnn.config import Config\n",
    "\n",
    "\n",
    "%matplotlib inline "
   ]
  },
  {
   "cell_type": "code",
   "execution_count": 2,
   "metadata": {},
   "outputs": [],
   "source": [
    "import datetime\n",
    "import numpy as np\n",
    "\n",
    "# Import Mask RCNN\n",
    "from mrcnn.config import Config\n",
    "from mrcnn import model as modellib, utils\n",
    "\n",
    "# for mask\n",
    "import pathlib\n",
    "from skimage.io import imread, imsave, imshow\n",
    "import numpy as np\n",
    "from scipy import ndimage\n",
    "import matplotlib.pyplot as plt\n",
    "import matplotlib.patches as patchess\n",
    "\n",
    "import skimage\n",
    "\n",
    "# process xml file\n",
    "import xml.etree.ElementTree\n",
    "\n",
    "# Local path to trained weights file\n",
    "COCO_MODEL_PATH = os.path.join(ROOT_DIR, \"mask_rcnn_coco.h5\")\n",
    "# Download COCO trained weights from Releases if needed\n",
    "if not os.path.exists(COCO_MODEL_PATH):\n",
    "    utils.download_trained_weights(COCO_MODEL_PATH)\n",
    "\n",
    "# Directory to save logs and trained model\n",
    "MODEL_DIR = os.path.join(ROOT_DIR, \"logs\")\n",
    "# through the command line argument --logs\n",
    "DEFAULT_LOGS_DIR = os.path.join(ROOT_DIR, \"logs\")"
   ]
  },
  {
   "cell_type": "markdown",
   "metadata": {},
   "source": [
    "## Configurations"
   ]
  },
  {
   "cell_type": "code",
   "execution_count": 3,
   "metadata": {
    "scrolled": false
   },
   "outputs": [
    {
     "name": "stdout",
     "output_type": "stream",
     "text": [
      "\n",
      "Configurations:\n",
      "BACKBONE                       resnet50\n",
      "BACKBONE_STRIDES               [4, 8, 16, 32, 64]\n",
      "BATCH_SIZE                     1\n",
      "BBOX_STD_DEV                   [0.1 0.1 0.2 0.2]\n",
      "DETECTION_MAX_INSTANCES        512\n",
      "DETECTION_MIN_CONFIDENCE       0.7\n",
      "DETECTION_NMS_THRESHOLD        0.3\n",
      "GPU_COUNT                      1\n",
      "GRADIENT_CLIP_NORM             5.0\n",
      "IMAGES_PER_GPU                 1\n",
      "IMAGE_MAX_DIM                  256\n",
      "IMAGE_META_SIZE                127\n",
      "IMAGE_MIN_DIM                  256\n",
      "IMAGE_MIN_SCALE                2.0\n",
      "IMAGE_RESIZE_MODE              crop\n",
      "IMAGE_SHAPE                    [256 256   3]\n",
      "LEARNING_MOMENTUM              0.9\n",
      "LEARNING_RATE                  0.001\n",
      "LOSS_WEIGHTS                   {'rpn_class_loss': 1.0, 'rpn_bbox_loss': 1.0, 'mrcnn_class_loss': 1.0, 'mrcnn_bbox_loss': 1.0, 'mrcnn_mask_loss': 1.0}\n",
      "MASK_POOL_SIZE                 14\n",
      "MASK_SHAPE                     [28, 28]\n",
      "MAX_GT_INSTANCES               512\n",
      "MEAN_PIXEL                     [123.7 116.8 103.9]\n",
      "MINI_MASK_SHAPE                (28, 28)\n",
      "NAME                           symbols\n",
      "NUM_CLASSES                    115\n",
      "POOL_SIZE                      7\n",
      "POST_NMS_ROIS_INFERENCE        2000\n",
      "POST_NMS_ROIS_TRAINING         1000\n",
      "ROI_POSITIVE_RATIO             0.33\n",
      "RPN_ANCHOR_RATIOS              [0.5, 1, 2]\n",
      "RPN_ANCHOR_SCALES              (8, 16, 32, 64, 128)\n",
      "RPN_ANCHOR_STRIDE              1\n",
      "RPN_BBOX_STD_DEV               [0.1 0.1 0.2 0.2]\n",
      "RPN_NMS_THRESHOLD              0.7\n",
      "RPN_TRAIN_ANCHORS_PER_IMAGE    256\n",
      "STEPS_PER_EPOCH                1000.0\n",
      "TRAIN_BN                       False\n",
      "TRAIN_ROIS_PER_IMAGE           512\n",
      "USE_MINI_MASK                  True\n",
      "USE_RPN_ROIS                   True\n",
      "VALIDATION_STEPS               50.0\n",
      "WEIGHT_DECAY                   0.0001\n",
      "\n",
      "\n"
     ]
    }
   ],
   "source": [
    "class ScoreConfig(Config):\n",
    "    \"\"\"Configuration for training on the toy shapes dataset.\n",
    "    Derives from the base Config class and overrides values specific\n",
    "    to the toy shapes dataset.\n",
    "    \"\"\"\n",
    "    # Give the configuration a recognizable name\n",
    "    NAME = \"symbols\"\n",
    "\n",
    "    # Backbone network architecture\n",
    "    # Supported values are: resnet50, resnet101\n",
    "    BACKBONE = \"resnet50\"\n",
    "    \n",
    "    # Input image resizing\n",
    "    # Random crops of size 512x512\n",
    "    IMAGE_RESIZE_MODE = \"crop\"\n",
    "    IMAGE_MIN_DIM = 256\n",
    "    IMAGE_MAX_DIM = 256\n",
    "    IMAGE_MIN_SCALE = 2.0\n",
    "    \n",
    "    # Train on 1 GPU and 8 images per GPU. We can put multiple images on each\n",
    "    # GPU because the images are small. Batch size is 8 (GPUs * images/GPU).\n",
    "    GPU_COUNT = 1\n",
    "    IMAGES_PER_GPU = 1\n",
    "    \n",
    "    # If enabled, resizes instance masks to a smaller size to reduce\n",
    "    # memory load. Recommended when using high-resolution images.\n",
    "    USE_MINI_MASK = True\n",
    "    MINI_MASK_SHAPE = (28, 28)  # (height, width) of the mini-mask\n",
    "    \n",
    "    # ROIs kept after non-maximum supression (training and inference)\n",
    "    POST_NMS_ROIS_TRAINING = 1000\n",
    "    POST_NMS_ROIS_INFERENCE = 2000\n",
    "    \n",
    "    # Number of training and validation steps per epoch\n",
    "    STEPS_PER_EPOCH = 1000/IMAGES_PER_GPU\n",
    "    VALIDATION_STEPS = 50/IMAGES_PER_GPU\n",
    "\n",
    "    # Number of classes (including background)\n",
    "    NUM_CLASSES = 1 + 114  # background + 114 symbols\n",
    "\n",
    "    # Use smaller anchors because our image and objects are small\n",
    "    RPN_ANCHOR_SCALES = (8, 16, 32, 64, 128)  # anchor side in pixels\n",
    "    \n",
    "    # Number of ROIs per image to feed to classifier/mask heads\n",
    "    # The Mask RCNN paper uses 512 but often the RPN doesn't generate\n",
    "    # enough positive proposals to fill this and keep a positive:negative\n",
    "    # ratio of 1:3. You can increase the number of proposals by adjusting\n",
    "    # the RPN NMS threshold.\n",
    "    TRAIN_ROIS_PER_IMAGE = 512\n",
    "\n",
    "    # Maximum number of ground truth instances to use in one image\n",
    "    MAX_GT_INSTANCES = 512\n",
    "\n",
    "    # Max number of final detections per image\n",
    "    DETECTION_MAX_INSTANCES = 512\n",
    "\n",
    "    \n",
    "config = ScoreConfig()\n",
    "config.display()"
   ]
  },
  {
   "cell_type": "markdown",
   "metadata": {},
   "source": [
    "## Notebook Preferences"
   ]
  },
  {
   "cell_type": "code",
   "execution_count": 4,
   "metadata": {},
   "outputs": [],
   "source": [
    "def get_ax(rows=1, cols=1, size=8):\n",
    "    \"\"\"Return a Matplotlib Axes array to be used in\n",
    "    all visualizations in the notebook. Provide a\n",
    "    central point to control graph sizes.\n",
    "    \n",
    "    Change the default size attribute to control the size\n",
    "    of rendered images\n",
    "    \"\"\"\n",
    "    _, ax = plt.subplots(rows, cols, figsize=(size*cols, size*rows))\n",
    "    return ax"
   ]
  },
  {
   "cell_type": "markdown",
   "metadata": {},
   "source": [
    "## Dataset\n",
    "\n",
    "Create a synthetic dataset\n",
    "\n",
    "Extend the Dataset class and add a method to load the shapes dataset, `load_shapes()`, and override the following methods:\n",
    "\n",
    "* load_image()\n",
    "* load_mask()\n",
    "* image_reference()"
   ]
  },
  {
   "cell_type": "code",
   "execution_count": 5,
   "metadata": {},
   "outputs": [],
   "source": [
    "class ScoreDataset(utils.Dataset):\n",
    "    \"\"\"Generates the shapes synthetic dataset. The dataset consists of simple\n",
    "    shapes (triangles, squares, circles) placed randomly on a blank surface.\n",
    "    The images are generated on the fly. No file access required.\n",
    "    \"\"\"\n",
    "\n",
    "    def load_score(self, dataset_dir, subset, split):\n",
    "        \"\"\"Load a subset of the DeepScore dataset.\n",
    "        dataset_dir: Root directory of the dataset.\n",
    "        subset: Subset to load: train or val\n",
    "        \"\"\"\n",
    "    \n",
    "        for key, value in class_dict.items():\n",
    "            self.add_class(\"symbol\", value, key)\n",
    "        # Train or validation dataset? \n",
    "        assert subset in [\"train\", \"val\"]\n",
    "        img_dir = pathlib.Path(dataset_dir).glob('*/images_png/*.png')       \n",
    "        img_sorted = sorted([x for x in img_dir])\n",
    "        xml_dir = pathlib.Path(dataset_dir).glob('*/xml_annotations/*.xml')       \n",
    "        xml_sorted = sorted([x for x in xml_dir])\n",
    "        mask_dir = pathlib.Path(dataset_dir).glob('*/pix_annotations_png/*.png')\n",
    "        mask_sorted = sorted([x for x in mask_dir])\n",
    "        if subset == \"train\":\n",
    "            img_sorted = img_sorted[:split]\n",
    "            xml_sorted = xml_sorted[:split]\n",
    "            mask_sorted = mask_sorted[:split]\n",
    "        if subset == \"val\":\n",
    "            img_sorted = img_sorted[split:]\n",
    "            xml_sorted = xml_sorted[split:]\n",
    "            mask_sorted = mask_sorted[split:]\n",
    "        \n",
    "        # add images\n",
    "        for i, image_path in enumerate(img_sorted):\n",
    "#             image = imread(str(image_path))\n",
    "#             height, width = image.shape[:2]\n",
    "            image_name = os.path.basename(image_path)\n",
    "            xml_path = xml_sorted[i]\n",
    "            symbols, _, height, width = get_symbol_info(xml_path)\n",
    "            \n",
    "            mask_path = str(mask_sorted[i])\n",
    "            # only select scores with less than 500 symbols\n",
    "            if len(symbols) < 500:\n",
    "                self.add_image(\n",
    "                    \"symbol\",\n",
    "                    image_id=image_name,\n",
    "                    path=image_path,\n",
    "                    width=width, height=height,\n",
    "                    symbols=symbols, mask_path=mask_path)\n",
    "\n",
    "\n",
    "    def image_reference(self, image_id):\n",
    "        \"\"\"Return the score data of the image.\"\"\"\n",
    "        info = self.image_info[image_id]\n",
    "        if info[\"source\"] == \"symbol\":\n",
    "            return info[\"path\"]\n",
    "        else:\n",
    "            super(self.__class__).image_reference(self, image_id)\n",
    "\n",
    "    def load_mask(self, image_id):\n",
    "        \"\"\"Generate instance masks for an image.\n",
    "        Returns:\n",
    "        masks: A bool array of shape [height, width, instance count] with\n",
    "            one mask per instance.\n",
    "        class_ids: a 1D array of class IDs of the instance masks.\n",
    "        \"\"\"        \n",
    "        image_info = self.image_info[image_id]\n",
    "        if image_info[\"source\"] != \"symbol\":\n",
    "            return super(self.__class__, self).load_mask(image_id)\n",
    "\n",
    "        # image_id == xml_id\n",
    "        symbols = image_info['symbols']\n",
    "        mask = imread(image_info['mask_path'])\n",
    "        masks = np.zeros([image_info['height'], image_info['width'], len(symbols)], dtype=np.uint8)\n",
    "        for i, symbol in enumerate(symbols):\n",
    "            # coords are row, col, so we should put (y, x), instead of (x, y)\n",
    "            xmin, xmax, ymin, ymax = symbol[1], symbol[2], symbol[3], symbol[4]\n",
    "            masks[ymin:ymax+1, xmin:xmax+1, i] = mask[ymin:ymax+1, xmin:xmax+1]\n",
    "        \n",
    "        # Map class names to class IDs.\n",
    "        class_ids = np.array([self.class_names.index(s[0]) for s in symbols])\n",
    "            \n",
    "        \n",
    "        return masks.astype(np.bool), class_ids.astype(np.int32)"
   ]
  },
  {
   "cell_type": "code",
   "execution_count": 6,
   "metadata": {},
   "outputs": [],
   "source": [
    "def train(model):\n",
    "    \"\"\"Train the model.\"\"\"\n",
    "    # Training dataset.\n",
    "    dataset_train = ScoreDataset()\n",
    "    dataset_train.load_score(dataset_dir, \"train\", split)\n",
    "    dataset_train.prepare()\n",
    "\n",
    "    # Validation dataset\n",
    "    dataset_val = ScoreDataset()\n",
    "    dataset_val.load_score(dataset_dir, \"val\", split)\n",
    "    dataset_val.prepare()\n",
    "\n",
    "    # *** This training schedule is an example. Update to your needs ***\n",
    "    # Since we're using a very small dataset, and starting from\n",
    "    # COCO trained weights, we don't need to train too long. Also,\n",
    "    # no need to train all layers, just the heads should do it.\n",
    "    print(\"Training network heads\")\n",
    "    model.train(dataset_train, dataset_val,\n",
    "                learning_rate=config.LEARNING_RATE,\n",
    "                epochs=30,\n",
    "                layers='heads')"
   ]
  },
  {
   "cell_type": "markdown",
   "metadata": {},
   "source": [
    "## Load Data"
   ]
  },
  {
   "cell_type": "code",
   "execution_count": 7,
   "metadata": {},
   "outputs": [
    {
     "name": "stdout",
     "output_type": "stream",
     "text": [
      "..\\..\\Mask_RCNN\\images_png\\lg-127568901-aug-beethoven--page-71.png\n",
      "10000\n",
      "..\\..\\Mask_RCNN\\pix_annotations_png\\lg-127568901-aug-beethoven--page-71.png\n",
      "..\\..\\Mask_RCNN\\xml_annotations\\lg-127568901-aug-beethoven--page-71.xml\n"
     ]
    }
   ],
   "source": [
    "# Glob the training data and load a single image path\n",
    "img_paths = pathlib.Path('../../').glob('*/images_png/*.png')\n",
    "img_sorted = sorted([x for x in img_paths])\n",
    "\n",
    "# mask and xml files\n",
    "mask_paths = pathlib.Path('../../').glob('*/pix_annotations_png/*.png')\n",
    "mask_sorted = sorted([x for x in mask_paths])\n",
    "\n",
    "xml_paths = pathlib.Path('../../').glob('*/xml_annotations/*.xml')\n",
    "xml_sorted = sorted([x for x in xml_paths])\n",
    "\n",
    "# check the image, mask and xml path names are in the same order\n",
    "rand_img = 1000\n",
    "im_path = img_sorted[rand_img]\n",
    "mask_path = mask_sorted[rand_img]\n",
    "xml_path = xml_sorted[rand_img]\n",
    "num_samples = len(img_sorted)\n",
    "print(im_path)\n",
    "print(len(img_sorted))\n",
    "print(mask_path)\n",
    "print(xml_path)\n",
    "im = imread(str(im_path))\n",
    "mask = imread(str(mask_path))\n",
    "root = xml.etree.ElementTree.parse(str(xml_path)).getroot()\n",
    "size = root.findall('size')\n",
    "width = float(size[0][0].text)\n",
    "height = float(size[0][1].text)"
   ]
  },
  {
   "cell_type": "code",
   "execution_count": 8,
   "metadata": {},
   "outputs": [],
   "source": [
    "# get the information of all symbols in one image\n",
    "def get_symbol_info(xml_path):\n",
    "    root = xml.etree.ElementTree.parse(str(xml_path)).getroot()\n",
    "    size = root.findall('size')\n",
    "    width = float(size[0][0].text)\n",
    "    height = float(size[0][1].text)\n",
    "\n",
    "    symbols = []\n",
    "    symbol_names = set() # use a set to store unique symbol names\n",
    "    rectangles = []\n",
    "\n",
    "    # get the bounding box for each object, multiply with its width and height to get the real pixel coords\n",
    "    for symbol in root.findall('object'):\n",
    "        name = symbol.find('name').text\n",
    "        xmin = round(float(symbol.find('bndbox')[0].text)*width)\n",
    "        xmax = round(float(symbol.find('bndbox')[1].text)*width)\n",
    "        ymin = round(float(symbol.find('bndbox')[2].text)*height)\n",
    "        ymax = round(float(symbol.find('bndbox')[3].text)*height)\n",
    "\n",
    "#         current_rectangle = name, (xmin, ymin), xmax - xmin, ymax - ymin\n",
    "        current_symbol = name, xmin, xmax, ymin, ymax\n",
    "#         rectangles.append(current_rectangle)\n",
    "        symbols.append(current_symbol)\n",
    "        symbol_names.add(name)\n",
    "    return symbols, symbol_names, int(height), int(width)"
   ]
  },
  {
   "cell_type": "code",
   "execution_count": 11,
   "metadata": {},
   "outputs": [],
   "source": [
    "# uncomment the whole cell if you want to regenerate symbol set\n",
    "# class_dict = {}\n",
    "# symbol_type = set()\n",
    "# # form a universal symbol set fot the whole dataset, this can take 2 ~ 3 min\n",
    "# for x in xml_sorted:\n",
    "#     _, symbol_names,_ = get_symbol_info(x)\n",
    "#     symbol_type = symbol_type.union(symbol_names)\n",
    "\n",
    "# # save the symbol_type set for convenience# save t \n",
    "# np.save('symbol_type.npy', symbol_type) \n",
    "# # Load the dictionary\n",
    "# symbol_type = np.load('symbol_type.npy').item()\n",
    "# print('Total num of symbols in the dictionary: %d' % (len(symbol_type)))\n",
    "# i = 0\n",
    "# for item in symbol_type:\n",
    "#     class_dict[item] = i\n",
    "#     i += 1\n",
    "# print(class_dict['fClef'])\n",
    "# # save the class dictionary for futre use so that the integer class label does not change every time\n",
    "# np.save('class_dict.npy', class_dict)"
   ]
  },
  {
   "cell_type": "code",
   "execution_count": 12,
   "metadata": {},
   "outputs": [
    {
     "name": "stdout",
     "output_type": "stream",
     "text": [
      "Total number of symbols in the whole dataset: 114\n",
      "The integer value for fClef is: 85\n"
     ]
    }
   ],
   "source": [
    "# uncomment this cell if you want to load previous symbol dict\n",
    "class_dict = np.load('class_dict.npy').item()\n",
    "print('Total number of symbols in the whole dataset:', len(class_dict))\n",
    "print('The integer value for fClef is:', class_dict['fClef'])"
   ]
  },
  {
   "cell_type": "markdown",
   "metadata": {},
   "source": [
    "# Create Dataset"
   ]
  },
  {
   "cell_type": "code",
   "execution_count": 13,
   "metadata": {},
   "outputs": [],
   "source": [
    "# load dataset\n",
    "# the directory where deepscore folder is in\n",
    "dataset_dir = '../../'\n",
    "# The former split number of data used as training data\n",
    "# The latter num_samples - split number of data used as validation data\n",
    "split = 8000"
   ]
  },
  {
   "cell_type": "code",
   "execution_count": 14,
   "metadata": {},
   "outputs": [],
   "source": [
    "# the dataset is very large, can take 1~3 minutes\n",
    "# Training dataset\n",
    "dataset_train = ScoreDataset()\n",
    "dataset_train.load_score(dataset_dir, \"train\", split)\n",
    "dataset_train.prepare()\n",
    "\n",
    "# Validation dataset\n",
    "dataset_val = ScoreDataset()\n",
    "dataset_val.load_score(dataset_dir, \"val\", split)\n",
    "dataset_val.prepare()"
   ]
  },
  {
   "cell_type": "code",
   "execution_count": 15,
   "metadata": {},
   "outputs": [
    {
     "name": "stdout",
     "output_type": "stream",
     "text": [
      "Image Count in training set: 7544\n",
      "Class Count: 115\n"
     ]
    }
   ],
   "source": [
    "print(\"Image Count in training set: {}\".format(len(dataset_train.image_ids)))\n",
    "print(\"Class Count: {}\".format(dataset_train.num_classes))\n",
    "# for i, info in enumerate(dataset_train.class_info):\n",
    "#     print(\"{:3}. {:50}\".format(i, info['name']))"
   ]
  },
  {
   "cell_type": "code",
   "execution_count": 16,
   "metadata": {},
   "outputs": [
    {
     "name": "stdout",
     "output_type": "stream",
     "text": [
      "Image Count in validation set: 1868\n",
      "Class Count: 115\n"
     ]
    }
   ],
   "source": [
    "print(\"Image Count in validation set: {}\".format(len(dataset_val.image_ids)))\n",
    "print(\"Class Count: {}\".format(dataset_val.num_classes))\n",
    "# for i, info in enumerate(dataset_val.class_info):\n",
    "#     print(\"{:3}. {:50}\".format(i, info['name']))"
   ]
  },
  {
   "cell_type": "code",
   "execution_count": 82,
   "metadata": {},
   "outputs": [
    {
     "data": {
      "image/png": "[encoded data removed]",
      "text/plain": [
       "<matplotlib.figure.Figure at 0x1999a4115c0>"
      ]
     },
     "metadata": {},
     "output_type": "display_data"
    },
    {
     "name": "stdout",
     "output_type": "stream",
     "text": [
      "There are 92 symbols in the score\n"
     ]
    }
   ],
   "source": [
    "# Load and display random samples\n",
    "image_ids = np.random.choice(dataset_train.image_ids, 1)\n",
    "for image_id in image_ids:\n",
    "    image = dataset_train.load_image(image_id)\n",
    "    mask, class_ids = dataset_train.load_mask(image_id)\n",
    "    visualize.display_top_masks(image, mask, class_ids, dataset_train.class_names)\n",
    "    print('There are %d symbols in the score' %(mask.shape[2]))"
   ]
  },
  {
   "cell_type": "markdown",
   "metadata": {},
   "source": [
    "## Bounding Boxes\n",
    "\n",
    "Rather than using bounding box coordinates provided by the source datasets, we compute the bounding boxes from masks instead. This allows us to handle bounding boxes consistently regardless of the source dataset, and it also makes it easier to resize, rotate, or crop images because we simply generate the bounding boxes from the updates masks rather than computing bounding box transformation for each type of image transformation."
   ]
  },
  {
   "cell_type": "code",
   "execution_count": 83,
   "metadata": {},
   "outputs": [
    {
     "name": "stdout",
     "output_type": "stream",
     "text": [
      "image_id  5117 ..\\..\\Mask_RCNN\\images_png\\lg-370134430365617854-aug-gutenberg1939--page-29.png\n",
      "image                    shape: (3828, 2707, 3)       min:    0.00000  max:  255.00000  uint8\n",
      "mask                     shape: (3828, 2707, 160)     min:    0.00000  max:    1.00000  bool\n",
      "class_ids                shape: (160,)                min:    3.00000  max:  112.00000  int32\n",
      "bbox                     shape: (160, 4)              min:  140.00000  max: 3521.00000  int32\n"
     ]
    },
    {
     "data": {
      "image/png": "[encoded data removed]",
      "text/plain": [
       "<matplotlib.figure.Figure at 0x1999a411588>"
      ]
     },
     "metadata": {},
     "output_type": "display_data"
    }
   ],
   "source": [
    "# Load random image and mask.\n",
    "image_id = random.choice(dataset_train.image_ids)\n",
    "image = dataset_train.load_image(image_id)\n",
    "mask, class_ids = dataset_train.load_mask(image_id)\n",
    "# Compute Bounding box\n",
    "bbox = utils.extract_bboxes(mask)\n",
    "\n",
    "# Display image and additional stats\n",
    "print(\"image_id \", image_id, dataset_train.image_reference(image_id))\n",
    "log(\"image\", image)\n",
    "log(\"mask\", mask)\n",
    "log(\"class_ids\", class_ids)\n",
    "log(\"bbox\", bbox)\n",
    "# Display image and instances\n",
    "visualize.display_instances(image, bbox, mask, class_ids, dataset_train.class_names)"
   ]
  },
  {
   "cell_type": "markdown",
   "metadata": {},
   "source": [
    "## Ceate Model"
   ]
  },
  {
   "cell_type": "code",
   "execution_count": 17,
   "metadata": {},
   "outputs": [],
   "source": [
    "# Create model in training mode\n",
    "model = modellib.MaskRCNN(mode=\"training\", config=config,\n",
    "                          model_dir=MODEL_DIR)"
   ]
  },
  {
   "cell_type": "code",
   "execution_count": 18,
   "metadata": {},
   "outputs": [],
   "source": [
    "# initialize weights from pretrained model instead of from scratch\n",
    "# Which weights to start with?\n",
    "init_with = \"coco\"  # imagenet, coco, or last\n",
    "\n",
    "if init_with == \"imagenet\":\n",
    "    model.load_weights(model.get_imagenet_weights(), by_name=True)\n",
    "elif init_with == \"coco\":\n",
    "    # Load weights trained on MS COCO, but skip layers that\n",
    "    # are different due to the different number of classes\n",
    "    # See README for instructions to download the COCO weights\n",
    "    model.load_weights(COCO_MODEL_PATH, by_name=True,\n",
    "                       exclude=[\"mrcnn_class_logits\", \"mrcnn_bbox_fc\", \n",
    "                                \"mrcnn_bbox\", \"mrcnn_mask\"])\n",
    "elif init_with == \"last\":\n",
    "    # Load the last model you trained and continue training\n",
    "    model.load_weights(model.find_last()[1], by_name=True)"
   ]
  },
  {
   "cell_type": "markdown",
   "metadata": {},
   "source": [
    "## Training\n",
    "\n",
    "Train in two stages:\n",
    "1. Only the heads. Here we're freezing all the backbone layers and training only the randomly initialized layers (i.e. the ones that we didn't use pre-trained weights from MS COCO). To train only the head layers, pass `layers='heads'` to the `train()` function.\n",
    "\n",
    "2. Fine-tune all layers. For this simple example it's not necessary, but we're including it to show the process. Simply pass `layers=\"all` to train all layers."
   ]
  },
  {
   "cell_type": "code",
   "execution_count": 41,
   "metadata": {
    "scrolled": true
   },
   "outputs": [
    {
     "name": "stdout",
     "output_type": "stream",
     "text": [
      "\n",
      "Starting at epoch 0. LR=0.001\n",
      "\n",
      "Checkpoint Path: D:\\Downloads\\DeepScores_archive0\\Mask_RCNN\\logs\\symbols20180602T1504\\mask_rcnn_symbols_{epoch:04d}.h5\n",
      "Selecting layers to train\n",
      "fpn_c5p5               (Conv2D)\n",
      "fpn_c4p4               (Conv2D)\n",
      "fpn_c3p3               (Conv2D)\n",
      "fpn_c2p2               (Conv2D)\n",
      "fpn_p5                 (Conv2D)\n",
      "fpn_p2                 (Conv2D)\n",
      "fpn_p3                 (Conv2D)\n",
      "fpn_p4                 (Conv2D)\n",
      "In model:  rpn_model\n",
      "    rpn_conv_shared        (Conv2D)\n",
      "    rpn_class_raw          (Conv2D)\n",
      "    rpn_bbox_pred          (Conv2D)\n",
      "mrcnn_mask_conv1       (TimeDistributed)\n",
      "mrcnn_mask_bn1         (TimeDistributed)\n",
      "mrcnn_mask_conv2       (TimeDistributed)\n",
      "mrcnn_mask_bn2         (TimeDistributed)\n",
      "mrcnn_class_conv1      (TimeDistributed)\n",
      "mrcnn_class_bn1        (TimeDistributed)\n",
      "mrcnn_mask_conv3       (TimeDistributed)\n",
      "mrcnn_mask_bn3         (TimeDistributed)\n",
      "mrcnn_class_conv2      (TimeDistributed)\n",
      "mrcnn_class_bn2        (TimeDistributed)\n",
      "mrcnn_mask_conv4       (TimeDistributed)\n",
      "mrcnn_mask_bn4         (TimeDistributed)\n",
      "mrcnn_bbox_fc          (TimeDistributed)\n",
      "mrcnn_mask_deconv      (TimeDistributed)\n",
      "mrcnn_class_logits     (TimeDistributed)\n",
      "mrcnn_mask             (TimeDistributed)\n"
     ]
    },
    {
     "name": "stderr",
     "output_type": "stream",
     "text": [
      "C:\\Users\\johnl\\Anaconda3\\lib\\site-packages\\tensorflow\\python\\ops\\gradients_impl.py:100: UserWarning: Converting sparse IndexedSlices to a dense Tensor of unknown shape. This may consume a large amount of memory.\n",
      "  \"Converting sparse IndexedSlices to a dense Tensor of unknown shape. \"\n"
     ]
    },
    {
     "name": "stdout",
     "output_type": "stream",
     "text": [
      "Epoch 1/1\n"
     ]
    },
    {
     "name": "stderr",
     "output_type": "stream",
     "text": [
      "ERROR:root:Error processing image {'id': 'lg-1616506508031197-aug-gutenberg1939--page-1.png', 'source': 'symbol', 'path': WindowsPath('../../Mask_RCNN/images_png/lg-1616506508031197-aug-gutenberg1939--page-1.png'), 'width': 2707, 'height': 3828, 'symbols': [('noteheadBlack', 1913, 1936, 632, 655), ('rest16th', 1912, 1938, 480, 538), ('augmentationDot', 1957, 1967, 438, 447), ('noteheadBlack', 2030, 2053, 454, 476), ('noteheadBlack', 1976, 1999, 442, 465), ('restQuarter', 1661, 1682, 437, 496), ('noteheadBlack', 1662, 1686, 408, 431), ('noteheadBlack', 1608, 1632, 397, 419), ('noteheadBlack', 1771, 1794, 431, 454), ('noteheadBlack', 1825, 1848, 442, 465), ('noteheadHalf', 1913, 1947, 430, 454), ('noteheadBlack', 1716, 1740, 419, 442), ('noteheadBlack', 2523, 2546, 643, 666), ('noteheadBlack', 2463, 2486, 666, 689), ('noteheadBlack', 2192, 2216, 632, 655), ('noteheadBlack', 2138, 2162, 632, 655), ('noteheadHalf', 2138, 2173, 453, 477), ('noteheadBlack', 2084, 2107, 465, 488), ('noteheadBlack', 2415, 2438, 621, 643), ('noteheadBlack', 2355, 2378, 643, 666), ('noteheadBlack', 2301, 2324, 655, 678), ('noteheadBlack', 2247, 2270, 643, 666), ('noteheadBlack', 951, 974, 431, 454), ('noteheadBlack', 951, 974, 408, 431), ('flag8thDown', 868, 888, 498, 525), ('noteheadBlack', 866, 889, 442, 465), ('rest8th', 783, 804, 480, 520), ('noteheadBlack', 783, 806, 408, 431), ('flag8thUp', 719, 738, 354, 381), ('noteheadBlack', 1113, 1137, 431, 454), ('noteheadBlack', 1005, 1028, 408, 431), ('timeSig3', 534, 564, 609, 655), ('timeSig4', 530, 568, 656, 701), ('keySharp', 420, 441, 602, 661), ('keySharp', 441, 462, 637, 695), ('keySharp', 462, 483, 591, 649), ('keySharp', 483, 504, 625, 684), ('fClef', 341, 400, 613, 672), ('noteheadHalf', 614, 648, 632, 656), ('timeSig3', 534, 564, 385, 431), ('timeSig4', 530, 568, 431, 477), ('keySharp', 420, 441, 355, 414), ('keySharp', 441, 462, 390, 448), ('keySharp', 462, 483, 344, 403), ('keySharp', 483, 504, 378, 437), ('gClef', 341, 399, 365, 502), ('restQuarter', 613, 634, 460, 519), ('rest8th', 614, 636, 366, 406), ('brace', 291, 315, 384, 702), ('noteheadBlack', 698, 721, 419, 442), ('noteheadBlack', 1059, 1082, 419, 442), ('augmentationDot', 658, 668, 639, 648), ('noteheadBlack', 1278, 1301, 431, 454), ('flag8thDown', 1442, 1462, 498, 525), ('noteheadBlack', 1386, 1409, 454, 476), ('noteheadBlack', 1440, 1463, 419, 442), ('noteheadBlack', 1440, 1463, 442, 465), ('noteheadBlack', 1332, 1355, 442, 465), ('noteheadBlack', 1494, 1518, 419, 442), ('noteheadHalf', 1201, 1235, 632, 656), ('noteheadBlack', 1224, 1247, 431, 454), ('noteheadBlack', 1201, 1224, 419, 442), ('noteheadBlack', 1554, 1577, 385, 408), ('rest8th', 1554, 1576, 457, 497), ('augmentationDot', 1245, 1255, 639, 648), ('augmentationDot', 1872, 1882, 1344, 1354), ('rest8th', 1331, 1353, 1065, 1104), ('noteheadBlack', 1996, 2020, 1130, 1152), ('noteheadBlack', 1935, 1958, 1118, 1141), ('noteheadBlack', 1873, 1896, 1107, 1130), ('noteheadBlack', 1530, 1554, 1280, 1303), ('noteheadBlack', 1530, 1554, 1107, 1130), ('flag8thUp', 1452, 1470, 1059, 1085), ('noteheadBlack', 1430, 1453, 1118, 1141), ('noteheadBlack', 1331, 1354, 1280, 1303), ('noteheadBlack', 1811, 1834, 1292, 1314), ('noteheadHalf', 1828, 1862, 1337, 1361), ('noteheadBlack', 1811, 1834, 1107, 1130), ('noteheadBlack', 1716, 1739, 1303, 1326), ('noteheadBlack', 1654, 1677, 1292, 1314), ('noteheadBlack', 1592, 1615, 1280, 1303), ('noteheadBlack', 2512, 2535, 1198, 1221), ('noteheadBlack', 2450, 2473, 1187, 1209), ('noteheadBlack', 2202, 2226, 1141, 1164), ('rest8th', 2202, 2224, 1065, 1104), ('noteheadBlack', 2141, 2164, 1152, 1175), ('flag8thUp', 2080, 2099, 1059, 1085), ('noteheadBlack', 2058, 2082, 1292, 1314), ('noteheadBlack', 2058, 2082, 1118, 1141), ('restQuarter', 2325, 2346, 1044, 1103), ('noteheadBlack', 2388, 2411, 1175, 1198), ('noteheadBlack', 2326, 2350, 1164, 1187), ('noteheadBlack', 2264, 2288, 1152, 1175), ('noteheadBlack', 659, 682, 1175, 1198), ('noteheadBlack', 574, 597, 1383, 1406), ('noteheadBlack', 597, 620, 1175, 1198), ('noteheadBlack', 574, 597, 1164, 1187), ('noteheadBlack', 845, 868, 1360, 1383), ('noteheadBlack', 845, 868, 1187, 1209), ('noteheadBlack', 845, 868, 1164, 1187), ('noteheadBlack', 783, 806, 1198, 1221), ('noteheadBlack', 721, 744, 1372, 1394), ('noteheadBlack', 721, 744, 1187, 1209), ('keySharp', 227, 248, 1353, 1412), ('keySharp', 248, 269, 1387, 1446), ('keySharp', 269, 290, 1342, 1400), ('keySharp', 290, 311, 1376, 1435), ('fClef', 147, 206, 1364, 1423), ('keySharp', 227, 248, 1077, 1136), ('keySharp', 248, 269, 1111, 1170), ('keySharp', 269, 290, 1066, 1124), ('keySharp', 290, 311, 1100, 1158), ('gClef', 147, 206, 1086, 1223), ('brace', 97, 121, 1106, 1453), ('noteheadBlack', 463, 486, 1463, 1486), ('noteheadBlack', 368, 391, 1383, 1406), ('noteheadBlack', 368, 391, 1175, 1198), ('noteheadBlack', 368, 391, 1152, 1175), ('noteheadHalf', 1131, 1165, 1337, 1361), ('rest8th', 1131, 1153, 1247, 1287), ('noteheadBlack', 1131, 1154, 1198, 1221), ('noteheadBlack', 1030, 1054, 1187, 1209), ('augmentationDot', 1175, 1185, 1344, 1354), ('flag8thUp', 1153, 1172, 1130, 1157), ('noteheadBlack', 907, 930, 1164, 1187), ('flag8thDown', 1232, 1252, 1378, 1406), ('flag8thDown', 846, 866, 1239, 1267), ('rest8th', 1231, 1253, 1065, 1104), ('noteheadBlack', 969, 992, 1349, 1372), ('rest8th', 969, 990, 1225, 1264), ('noteheadBlack', 1231, 1254, 1292, 1314), ('noteheadBlack', 969, 992, 1175, 1198), ('noteheadBlack', 1957, 1981, 1915, 1938), ('noteheadBlack', 1957, 1981, 2085, 2108), ('noteheadBlack', 1900, 1923, 1903, 1926), ('accidentalSharp', 2059, 2080, 1919, 1978), ('noteheadBlack', 2088, 2112, 2074, 2097), ('noteheadBlack', 2088, 2112, 1938, 1960), ('noteheadBlack', 2015, 2038, 1926, 1949), ('flag8thDown', 1959, 1979, 2149, 2177), ('noteheadBlack', 1700, 1724, 2074, 2097), ('noteheadBlack', 1643, 1666, 2063, 2085), ('noteheadBlack', 1585, 1608, 2074, 2097), ('noteheadBlack', 1585, 1608, 1892, 1915), ('accidentalSharp', 1498, 1519, 1885, 1944), ('augmentationDot', 1886, 1896, 2104, 2113), ('noteheadHalf', 1842, 1876, 2096, 2120), ('rest8th', 1842, 1864, 2021, 2061), ('noteheadBlack', 1842, 1865, 1892, 1915), ('noteheadBlack', 1758, 1781, 2085, 2108), ('noteheadBlack', 2513, 2536, 1892, 1915), ('noteheadBlack', 2455, 2479, 2040, 2063), ('noteheadBlack', 2455, 2479, 1880, 1903), ('noteheadBlack', 2282, 2306, 2040, 2063), ('noteheadBlack', 2282, 2306, 1869, 1892), ('accidentalNatural', 2184, 2201, 2030, 2093), ('accidentalNatural', 2257, 2274, 1848, 1911), ('noteheadBlack', 2209, 2233, 2051, 2074), ('noteheadBlack', 2209, 2233, 1892, 1915), ('noteheadBlack', 2398, 2421, 1869, 1892), ('noteheadBlack', 2146, 2169, 1926, 1949), ('noteheadBlack', 2340, 2363, 2028, 2051), ('noteheadBlack', 2340, 2363, 1869, 1892), ('accidentalSharp', 2253, 2274, 2021, 2080), ('noteheadBlack', 600, 623, 2074, 2097), ('noteheadBlack', 658, 681, 2074, 2097), ('noteheadHalf', 600, 634, 1880, 1904), ('noteheadBlack', 542, 566, 1892, 1915), ('noteheadBlack', 485, 508, 1880, 1903), ('noteheadBlack', 910, 933, 2063, 2085), ('noteheadBlack', 846, 870, 2085, 2108), ('noteheadBlack', 789, 812, 2097, 2120), ('accidentalSharp', 702, 723, 2067, 2126), ('noteheadBlack', 731, 754, 2085, 2108), ('keySharp', 227, 248, 2090, 2148), ('keySharp', 248, 269, 2124, 2183), ('keySharp', 269, 290, 2078, 2137), ('keySharp', 290, 311, 2113, 2171), ('fClef', 147, 206, 2100, 2160), ('keySharp', 227, 248, 1828, 1886), ('keySharp', 248, 269, 1862, 1921), ('keySharp', 269, 290, 1816, 1875), ('keySharp', 290, 311, 1851, 1909), ('gClef', 147, 206, 1837, 1974), ('brace', 97, 121, 1857, 2189), ('noteheadBlack', 427, 450, 1869, 1892), ('augmentationDot', 412, 422, 1933, 1942), ('noteheadBlack', 368, 391, 2074, 2097), ('noteheadHalf', 368, 402, 1937, 1961), ('rest16th', 367, 393, 1815, 1874), ('noteheadBlack', 1339, 1362, 1880, 1903), ('noteheadBlack', 1281, 1305, 1960, 1983), ('noteheadBlack', 1224, 1247, 1949, 1972), ('noteheadHalf', 1339, 1373, 1949, 1972), ('noteheadBlack', 1527, 1551, 1903, 1926), ('noteheadBlack', 1454, 1478, 1892, 1915), ('noteheadBlack', 1166, 1189, 1938, 1960), ('noteheadBlack', 1397, 1420, 1880, 1903), ('noteheadBlack', 1025, 1048, 2085, 2108), ('noteheadHalf', 1108, 1143, 2074, 2097), ('noteheadBlack', 1108, 1132, 1938, 1960), ('noteheadBlack', 1108, 1132, 1880, 1903), ('noteheadBlack', 962, 985, 2108, 2131), ('restQuarter', 2102, 2123, 2669, 2728), ('noteheadBlack', 2103, 2127, 2848, 2871), ('noteheadBlack', 1868, 1891, 2836, 2859), ('noteheadBlack', 1868, 1891, 2617, 2640), ('rest8th', 1868, 1890, 2530, 2569), ('noteheadBlack', 1983, 2006, 2651, 2674), ('noteheadBlack', 2046, 2069, 2836, 2859), ('flag8thUp', 2005, 2023, 2583, 2610), ('noteheadBlack', 1983, 2006, 2859, 2882), ('noteheadBlack', 1925, 1948, 2848, 2871), ('noteheadBlack', 2103, 2127, 2617, 2640), ('noteheadBlack', 1611, 1635, 2813, 2836), ('noteheadBlack', 1611, 1635, 2617, 2640), ('noteheadBlack', 1554, 1577, 2813, 2836), ('noteheadBlack', 1554, 1577, 2629, 2651), ('noteheadBlack', 1493, 1517, 2836, 2859), ('noteheadBlack', 1493, 1517, 2640, 2663), ('noteheadBlack', 1726, 1750, 2825, 2848), ('noteheadBlack', 1784, 1807, 2836, 2859), ('noteheadBlack', 1726, 1750, 2629, 2651), ('noteheadBlack', 1669, 1692, 2813, 2836), ('noteheadBlack', 2517, 2541, 2768, 2791), ('noteheadBlack', 2517, 2541, 2617, 2640), ('noteheadBlack', 2460, 2483, 2779, 2802), ('noteheadBlack', 2460, 2483, 2629, 2651), ('noteheadBlack', 2230, 2253, 2791, 2813), ('noteheadBlack', 2230, 2253, 2594, 2617), ('noteheadBlack', 2293, 2316, 2768, 2791), ('noteheadBlack', 2167, 2190, 2825, 2848), ('noteheadBlack', 2402, 2426, 2791, 2813), ('accidentalNatural', 2300, 2317, 2631, 2693), ('accidentalSharp', 2321, 2342, 2622, 2680), ('noteheadBlack', 2350, 2374, 2768, 2791), ('noteheadBlack', 2374, 2397, 2651, 2674), ('noteheadBlack', 2350, 2374, 2640, 2663), ('noteheadBlack', 673, 696, 2617, 2640), ('noteheadBlack', 736, 760, 2583, 2606), ('noteheadBlack', 736, 760, 2768, 2791), ('noteheadBlack', 610, 633, 2756, 2779), ('noteheadBlack', 610, 633, 2640, 2663), ('noteheadBlack', 552, 576, 2629, 2651), ('accidentalSharp', 460, 481, 2749, 2808), ('noteheadBlack', 909, 932, 2583, 2606), ('noteheadBlack', 857, 880, 2779, 2802), ('noteheadBlack', 857, 880, 2560, 2583), ('noteheadBlack', 800, 823, 2560, 2583), ('accidentalNatural', 711, 728, 2747, 2809), ('gClef', 147, 206, 2574, 2711), ('keySharp', 227, 248, 2565, 2623), ('keySharp', 248, 269, 2599, 2657), ('keySharp', 269, 290, 2553, 2612), ('keySharp', 290, 311, 2587, 2646), ('fClef', 147, 206, 2828, 2888), ('keySharp', 227, 248, 2818, 2877), ('keySharp', 248, 269, 2852, 2911), ('keySharp', 269, 290, 2807, 2865), ('keySharp', 290, 311, 2841, 2899), ('noteheadBlack', 374, 398, 2629, 2651), ('noteheadHalf', 374, 408, 2836, 2860), ('noteheadBlack', 374, 398, 2768, 2791), ('brace', 97, 121, 2593, 2917), ('noteheadBlack', 489, 513, 2768, 2791), ('noteheadBlack', 489, 513, 2651, 2674), ('noteheadBlack', 432, 455, 2640, 2663), ('accidentalSharp', 345, 366, 2749, 2808), ('augmentationDot', 418, 428, 2832, 2841), ('noteheadBlack', 1246, 1269, 2859, 2882), ('noteheadBlack', 1246, 1269, 2674, 2697), ('noteheadBlack', 1246, 1269, 2617, 2640), ('noteheadBlack', 1188, 1212, 2848, 2871), ('noteheadBlack', 1430, 1454, 2859, 2882), ('accidentalNatural', 1347, 1364, 2850, 2912), ('noteheadBlack', 1373, 1396, 2871, 2893), ('noteheadBlack', 1373, 1396, 2663, 2686), ('noteheadHalf', 1373, 1407, 2605, 2629), ('noteheadBlack', 1303, 1327, 2871, 2893), ('noteheadBlack', 1131, 1154, 2836, 2859), ('noteheadBlack', 1131, 1154, 2686, 2708), ('noteheadBlack', 1131, 1154, 2629, 2651), ('noteheadBlack', 1024, 1047, 2560, 2583), ('accidentalSharp', 1102, 1123, 2610, 2669), ('noteheadBlack', 966, 990, 2791, 2813), ('noteheadBlack', 966, 990, 2572, 2594), ('noteheadBlack', 1894, 1917, 3391, 3414), ('noteheadBlack', 1894, 1917, 3605, 3627), ('noteheadBlack', 2095, 2118, 3357, 3379), ('accidentalSharp', 1996, 2017, 3350, 3408), ('noteheadBlack', 2025, 2048, 3582, 3605), ('noteheadBlack', 2025, 2048, 3368, 3391), ('noteheadBlack', 2095, 2118, 3334, 3357), ('noteheadBlack', 1952, 1975, 3593, 3616), ('noteheadBlack', 1952, 1975, 3379, 3402), ('noteheadBlack', 2095, 2118, 3570, 3593), ('noteheadBlack', 1524, 1547, 3490, 3513), ('restQuarter', 1580, 1602, 3622, 3681), ('noteheadBlack', 1582, 1605, 3368, 3391), ('noteheadBlack', 1466, 1489, 3502, 3525), ('noteheadBlack', 1408, 1431, 3513, 3536), ('rest16th', 1835, 1860, 3551, 3609), ('noteheadBlack', 1835, 1859, 3379, 3402), ('noteheadBlack', 1835, 1859, 3334, 3357), ('noteheadBlack', 1749, 1773, 3391, 3414), ('noteheadBlack', 1697, 1721, 3368, 3391), ('noteheadBlack', 1640, 1663, 3379, 3402), ('noteheadBlack', 2469, 2492, 3357, 3379), ('noteheadBlack', 2521, 2544, 3548, 3570), ('noteheadBlack', 2469, 2492, 3525, 3548), ('noteheadBlack', 2411, 2434, 3536, 3559), ('accidentalNatural', 2328, 2345, 3504, 3566), ('accidentalSharp', 2324, 2345, 3384, 3443), ('noteheadBlack', 2226, 2249, 3548, 3570), ('noteheadBlack', 2226, 2249, 3379, 3402), ('noteheadBlack', 2226, 2249, 3357, 3379), ('accidentalSharp', 2139, 2160, 3541, 3599), ('noteheadBlack', 2168, 2191, 3559, 3582), ('accidentalNatural', 2069, 2086, 3313, 3375), ('noteheadBlack', 2353, 2376, 3525, 3548), ('noteheadBlack', 2353, 2376, 3402, 3425), ('noteheadBlack', 2353, 2376, 3379, 3402), ('noteheadBlack', 2284, 2307, 3536, 3559), ('accidentalSharp', 596, 617, 3350, 3408), ('noteheadBlack', 625, 648, 3502, 3525), ('restQuarter', 623, 645, 3420, 3479), ('noteheadBlack', 625, 648, 3368, 3391), ('noteheadBlack', 551, 575, 3379, 3402), ('restQuarter', 855, 876, 3420, 3479), ('noteheadBlack', 856, 879, 3322, 3345), ('noteheadBlack', 798, 821, 3334, 3357), ('noteheadBlack', 740, 764, 3536, 3559), ('noteheadBlack', 740, 764, 3345, 3368), ('noteheadBlack', 683, 706, 3357, 3379), ('gClef', 147, 206, 3302, 3439), ('noteheadBlack', 374, 398, 3559, 3582), ('noteheadBlack', 374, 398, 3391, 3414), ('noteheadBlack', 374, 398, 3345, 3368), ('keySharp', 227, 248, 3563, 3622), ('keySharp', 248, 269, 3598, 3656), ('keySharp', 269, 290, 3552, 3611), ('keySharp', 290, 311, 3586, 3645), ('fClef', 147, 206, 3574, 3634), ('keySharp', 227, 248, 3293, 3351), ('keySharp', 248, 269, 3327, 3386), ('keySharp', 269, 290, 3281, 3340), ('keySharp', 290, 311, 3315, 3374), ('brace', 97, 121, 3321, 3663), ('accidentalSharp', 345, 366, 3541, 3599), ('noteheadBlack', 494, 517, 3536, 3559), ('rest8th', 494, 516, 3440, 3480), ('noteheadBlack', 494, 517, 3391, 3414), ('accidentalSharp', 407, 428, 3384, 3443), ('noteheadBlack', 436, 459, 3402, 3425), ('flag8thDown', 376, 396, 3443, 3471), ('flag8thDown', 1117, 1137, 3611, 3639), ('noteheadBlack', 1177, 1200, 3559, 3582), ('noteheadBlack', 856, 879, 3559, 3582), ('noteheadBlack', 1350, 1374, 3525, 3548), ('restQuarter', 1349, 1370, 3622, 3681), ('noteheadBlack', 1293, 1316, 3536, 3559), ('noteheadBlack', 1235, 1258, 3548, 3570), ('rest8th', 1235, 1257, 3643, 3682), ('accidentalSharp', 1148, 1169, 3541, 3599), ('noteheadBlack', 972, 995, 3322, 3345), ('noteheadBlack', 972, 995, 3582, 3605), ('noteheadBlack', 914, 937, 3334, 3357), ('augmentationDot', 1160, 1169, 3329, 3339), ('noteheadBlack', 1115, 1139, 3548, 3570), ('rest16th', 1115, 1140, 3440, 3498), ('noteheadHalf', 1115, 1150, 3333, 3357), ('noteheadBlack', 1024, 1047, 3345, 3368)], 'mask_path': '..\\\\..\\\\Mask_RCNN\\\\pix_annotations_png\\\\lg-1616506508031197-aug-gutenberg1939--page-1.png'}\n",
      "Traceback (most recent call last):\n",
      "  File \"C:\\Users\\johnl\\Anaconda3\\lib\\site-packages\\mask_rcnn-2.1-py3.6.egg\\mrcnn\\model.py\", line 1695, in data_generator\n",
      "    use_mini_mask=config.USE_MINI_MASK)\n",
      "  File \"C:\\Users\\johnl\\Anaconda3\\lib\\site-packages\\mask_rcnn-2.1-py3.6.egg\\mrcnn\\model.py\", line 1218, in load_image_gt\n",
      "    mask = utils.resize_mask(mask, scale, padding, crop)\n",
      "  File \"C:\\Users\\johnl\\Anaconda3\\lib\\site-packages\\mask_rcnn-2.1-py3.6.egg\\mrcnn\\utils.py\", line 513, in resize_mask\n",
      "    mask = scipy.ndimage.zoom(mask, zoom=[scale, scale, 1], order=0)\n",
      "  File \"C:\\Users\\johnl\\Anaconda3\\lib\\site-packages\\scipy\\ndimage\\interpolation.py\", line 626, in zoom\n",
      "    shape=output_shape)\n",
      "  File \"C:\\Users\\johnl\\Anaconda3\\lib\\site-packages\\scipy\\ndimage\\_ni_support.py\", line 75, in _get_output\n",
      "    output = numpy.zeros(shape, dtype=input.dtype.name)\n",
      "MemoryError\n"
     ]
    },
    {
     "name": "stderr",
     "output_type": "stream",
     "text": [
      "ERROR:root:Error processing image {'id': 'lg-398525122645378443-aug-beethoven--page-57.png', 'source': 'symbol', 'path': WindowsPath('../../Mask_RCNN/images_png/lg-398525122645378443-aug-beethoven--page-57.png'), 'width': 2707, 'height': 3828, 'symbols': [('noteheadBlack', 2141, 2170, 2834, 2859), ('noteheadBlack', 2141, 2170, 2868, 2893), ('noteheadBlack', 2141, 2170, 2914, 2939), ('rest8th', 2114, 2142, 2424, 2467), ('rest64th', 2141, 2185, 3097, 3204), ('noteheadBlack', 2191, 2220, 2868, 2893), ('noteheadBlack', 2191, 2220, 2834, 2859), ('flag8thUp', 2045, 2069, 159, 225), ('noteheadBlack', 2044, 2073, 2868, 2893), ('flag16thDown', 2019, 2045, 3191, 3258), ('flag16thUp', 2045, 2070, 3105, 3183), ('noteheadBlack', 2044, 2073, 698, 723), ('noteheadBlack', 2044, 2073, 652, 677), ('noteheadBlack', 2072, 2101, 641, 666), ('noteheadBlack', 2044, 2073, 595, 620), ('noteheadBlack', 2044, 2073, 2914, 2939), ('noteheadBlack', 2088, 2117, 2914, 2939), ('noteheadBlack', 2088, 2117, 2868, 2893), ('noteheadBlack', 2088, 2117, 2834, 2859), ('noteheadBlack', 2346, 2375, 226, 251), ('noteheadBlack', 2355, 2384, 2419, 2444), ('noteheadBlack', 2383, 2412, 2465, 2490), ('noteheadBlack', 2383, 2412, 306, 331), ('noteheadBlack', 2383, 2412, 2408, 2433), ('noteheadBlack', 2319, 2348, 595, 620), ('noteheadBlack', 2347, 2376, 641, 666), ('noteheadBlack', 2319, 2348, 652, 677), ('noteheadBlack', 2383, 2412, 3169, 3194), ('noteheadBlack', 2409, 2437, 3169, 3194), ('noteheadBlack', 2383, 2412, 3169, 3194), ('noteheadBlack', 2383, 2412, 2834, 2859), ('noteheadBlack', 2383, 2412, 2868, 2893), ('noteheadBlack', 2383, 2412, 2914, 2939), ('noteheadBlack', 2383, 2412, 2362, 2387), ('rest16th', 2276, 2307, 2794, 2859), ('noteheadBlack', 2234, 2263, 2834, 2859), ('rest16th', 2276, 2307, 3118, 3182), ('rest32nd', 2191, 2229, 3098, 3182), ('noteheadBlack', 2293, 2321, 226, 251), ('noteheadBlack', 2319, 2348, 698, 723), ('rest64th', 1736, 1779, 2404, 2511), ('noteheadBlack', 1820, 1849, 2408, 2433), ('noteheadBlack', 1792, 1821, 2419, 2444), ('noteheadBlack', 1792, 1821, 2465, 2490), ('noteheadBlack', 1792, 1821, 2522, 2547), ('noteheadBlack', 1792, 1821, 2362, 2387), ('flag32ndUp', 1705, 1730, 2415, 2513), ('noteheadBlack', 1818, 1847, 3169, 3194), ('noteheadBlack', 1792, 1821, 3169, 3194), ('noteheadBlack', 1792, 1821, 2834, 2859), ('noteheadBlack', 1792, 1821, 2868, 2893), ('noteheadBlack', 1792, 1821, 2914, 2939), ('noteheadBlack', 1619, 1647, 2834, 2859), ('noteheadBlack', 1619, 1647, 2868, 2893), ('rest32nd', 1592, 1630, 3098, 3182), ('rest64th', 1535, 1578, 3097, 3204), ('rest16th', 1661, 1692, 2794, 2859), ('rest16th', 1661, 1692, 3118, 3182), ('noteheadBlack', 1677, 1706, 237, 262), ('noteheadBlack', 1677, 1706, 2499, 2524), ('rest64th', 1961, 2004, 3097, 3204), ('rest32nd', 1961, 1999, 2774, 2859), ('rest16th', 1961, 1992, 2425, 2489), ('noteheadBlack', 2017, 2046, 3169, 3194), ('noteheadBlack', 2043, 2072, 3169, 3194), ('noteheadBlack', 2017, 2046, 3169, 3194), ('noteheadBlack', 2017, 2046, 226, 251), ('noteheadBlack', 1855, 1884, 2868, 2893), ('noteheadBlack', 1855, 1884, 2914, 2939), ('noteheadBlack', 1855, 1884, 2362, 2387), ('noteheadBlack', 1883, 1912, 2408, 2433), ('noteheadBlack', 1855, 1884, 2419, 2444), ('noteheadBlack', 1855, 1884, 2465, 2490), ('noteheadBlack', 1855, 1884, 2522, 2547), ('noteheadBlack', 1855, 1884, 2834, 2859), ('noteheadBlack', 1824, 1853, 237, 262), ('flag16thUp', 1820, 1845, 3105, 3183), ('rest32nd', 1919, 1957, 189, 273), ('noteheadBlack', 1919, 1948, 2408, 2433), ('noteheadBlack', 1919, 1948, 2362, 2387), ('noteheadBlack', 1919, 1948, 2868, 2893), ('noteheadBlack', 1919, 1948, 2834, 2859), ('rest64th', 2524, 2567, 2773, 2880), ('noteheadBlack', 2524, 2553, 2362, 2387), ('rest64th', 2524, 2567, 3097, 3204), ('noteheadBlack', 2482, 2511, 2868, 2893), ('rest32nd', 2482, 2520, 558, 643), ('flag16thUp', 2410, 2436, 3105, 3183), ('noteheadBlack', 2438, 2467, 306, 331), ('noteheadBlack', 2438, 2467, 698, 723), ('noteheadBlack', 2438, 2467, 595, 620), ('noteheadBlack', 2438, 2467, 2868, 2893), ('noteheadBlack', 2438, 2467, 2834, 2859), ('rest32nd', 2482, 2520, 189, 273), ('noteheadBlack', 634, 663, 698, 723), ('noteheadBlack', 607, 636, 2442, 2467), ('rest32nd', 607, 645, 189, 273), ('noteheadBlack', 697, 726, 2914, 2939), ('noteheadBlack', 725, 754, 561, 586), ('noteheadBlack', 697, 726, 572, 598), ('noteheadBlack', 697, 726, 595, 620), ('noteheadBlack', 725, 754, 641, 666), ('noteheadBlack', 697, 726, 652, 677), ('noteheadBlack', 697, 726, 698, 723), ('noteheadBlack', 697, 726, 351, 377), ('noteheadBlack', 634, 663, 595, 620), ('noteheadBlack', 662, 691, 641, 666), ('noteheadBlack', 634, 663, 652, 677), ('noteheadBlack', 506, 535, 2868, 2893), ('rest16th', 548, 579, 3118, 3182), ('rest16th', 548, 579, 2794, 2859), ('noteheadBlack', 506, 535, 2834, 2859), ('noteheadBlack', 506, 535, 2914, 2939), ('rest32nd', 479, 517, 3098, 3182), ('noteheadBlack', 565, 594, 272, 297), ('noteheadBlack', 565, 594, 595, 620), ('noteheadBlack', 593, 621, 641, 666), ('noteheadBlack', 565, 594, 652, 677), ('noteheadBlack', 565, 594, 698, 723), ('noteheadBlack', 697, 726, 2868, 2893), ('noteheadBlack', 824, 853, 2868, 2893), ('noteheadBlack', 851, 880, 561, 586), ('noteheadBlack', 761, 790, 2834, 2859), ('noteheadBlack', 824, 853, 595, 620), ('noteheadBlack', 824, 853, 652, 677), ('noteheadBlack', 824, 853, 698, 723), ('rest32nd', 824, 862, 189, 273), ('noteheadBlack', 697, 726, 3169, 3194), ('noteheadBlack', 697, 726, 2834, 2859), ('flag16thUp', 725, 750, 3105, 3183), ('noteheadBlack', 761, 790, 351, 377), ('noteheadBlack', 761, 790, 698, 723), ('noteheadBlack', 761, 790, 652, 677), ('noteheadBlack', 788, 817, 641, 666), ('noteheadBlack', 761, 790, 595, 620), ('noteheadBlack', 761, 790, 572, 598), ('noteheadBlack', 788, 817, 561, 586), ('noteheadBlack', 761, 790, 2442, 2467), ('noteheadBlack', 761, 790, 2914, 2939), ('noteheadBlack', 761, 790, 2868, 2893), ('keyFlat', 231, 252, 924, 982), ('keyFlat', 231, 252, 1663, 1721), ('gClef', 151, 213, 1612, 1785), ('keyFlat', 231, 252, 1293, 1352), ('gClef', 151, 213, 1243, 1416), ('gClef', 151, 213, 874, 1047), ('keyFlat', 231, 252, 555, 613), ('gClef', 151, 213, 505, 677), ('unpitchedPercussionClef1', 166, 193, 3158, 3205), ('keyFlat', 231, 252, 2771, 2829), ('gClef', 151, 213, 2720, 2893), ('keyFlat', 231, 252, 208, 267), ('keyFlat', 231, 252, 2401, 2460), ('gClef', 151, 213, 2351, 2524), ('keyFlat', 231, 252, 2032, 2090), ('gClef', 151, 213, 1982, 2155), ('restWhole', 1398, 1428, 1312, 1325), ('restWhole', 1398, 1428, 1682, 1694), ('fClef', 147, 212, 180, 259), ('flag16thUp', 334, 359, 3105, 3183), ('noteheadBlack', 362, 391, 2442, 2467), ('noteheadBlack', 389, 418, 2834, 2859), ('rest64th', 423, 466, 3097, 3204), ('noteheadBlack', 389, 418, 2868, 2893), ('noteheadBlack', 389, 418, 2914, 2939), ('noteheadBlack', 306, 335, 595, 620), ('noteheadBlack', 306, 335, 3169, 3194), ('noteheadBlack', 332, 361, 3169, 3194), ('noteheadBlack', 306, 335, 3169, 3194), ('rest32nd', 306, 344, 2774, 2859), ('rest64th', 306, 349, 2404, 2511), ('noteheadWhole', 306, 346, 2072, 2098), ('noteheadWhole', 340, 380, 2118, 2144), ('noteheadWhole', 306, 346, 2129, 2155), ('noteheadBlack', 334, 362, 641, 666), ('noteheadBlack', 306, 335, 652, 677), ('noteheadBlack', 306, 335, 698, 723), ('noteheadBlack', 306, 335, 272, 297), ('noteheadBlack', 824, 853, 572, 598), ('flag8thUp', 334, 358, 529, 594), ('noteheadBlack', 1268, 1297, 2914, 2939), ('rest32nd', 1311, 1349, 189, 273), ('noteheadBlack', 1268, 1297, 2834, 2859), ('noteheadBlack', 1268, 1297, 2868, 2893), ('rest32nd', 1311, 1349, 2405, 2489), ('noteheadBlack', 1311, 1340, 2868, 2893), ('noteheadBlack', 1311, 1340, 2834, 2859), ('noteheadBlack', 1214, 1243, 2914, 2939), ('noteheadBlack', 1214, 1243, 2868, 2893), ('noteheadBlack', 1214, 1243, 2834, 2859), ('noteheadBlack', 1214, 1243, 3169, 3194), ('noteheadBlack', 1239, 1268, 3169, 3194), ('noteheadBlack', 1214, 1243, 3169, 3194), ('noteheadBlack', 1353, 1382, 698, 723), ('flag16thUp', 1241, 1267, 3105, 3183), ('noteheadBlack', 1241, 1270, 249, 274), ('noteheadBlack', 1241, 1270, 2487, 2513), ('flag64thUp', 1439, 1465, 540, 658), ('flag8thUp', 1439, 1463, 2432, 2498), ('flag16thUp', 1439, 1465, 3105, 3183), ('noteheadBlack', 1475, 1504, 698, 723), ('noteheadBlack', 1475, 1504, 652, 677), ('noteheadBlack', 1502, 1531, 641, 666), ('noteheadBlack', 1475, 1504, 595, 620), ('noteheadBlack', 1502, 1531, 2914, 2939), ('noteheadBlack', 1502, 1531, 2868, 2893), ('noteheadBlack', 1502, 1531, 2834, 2859), ('noteheadBlack', 1353, 1382, 652, 677), ('rest64th', 1353, 1396, 2773, 2880), ('rest64th', 1353, 1396, 3097, 3204), ('flag64thUp', 1381, 1406, 552, 670), ('noteheadBlack', 1412, 1440, 237, 262), ('noteheadBlack', 1412, 1440, 698, 723), ('noteheadBlack', 1412, 1440, 652, 677), ('noteheadBlack', 1439, 1468, 641, 666), ('noteheadBlack', 1412, 1440, 2499, 2524), ('rest32nd', 1412, 1450, 2774, 2859), ('noteheadBlack', 1412, 1440, 3169, 3194), ('noteheadBlack', 1437, 1466, 3169, 3194), ('noteheadBlack', 1412, 1440, 3169, 3194), ('noteheadBlack', 988, 1017, 2914, 2939), ('flag16thUp', 945, 970, 3105, 3183), ('noteheadBlack', 944, 973, 2868, 2893), ('noteheadBlack', 988, 1017, 2868, 2893), ('noteheadBlack', 988, 1017, 2834, 2859), ('rest64th', 1021, 1064, 3097, 3204), ('noteheadBlack', 917, 946, 249, 274), ('noteheadBlack', 917, 946, 2487, 2513), ('noteheadBlack', 917, 946, 3169, 3194), ('noteheadBlack', 943, 972, 3169, 3194), ('noteheadBlack', 917, 946, 3169, 3194), ('noteheadBlack', 945, 974, 3169, 3194), ('rest16th', 1147, 1178, 3118, 3182), ('noteheadBlack', 1163, 1192, 249, 274), ('rest16th', 1147, 1178, 2794, 2859), ('rest64th', 867, 910, 3097, 3204), ('rest32nd', 867, 905, 2774, 2859), ('rest32nd', 1078, 1116, 3098, 3182), ('noteheadBlack', 867, 896, 2442, 2467), ('noteheadBlack', 1104, 1133, 2914, 2939), ('noteheadBlack', 867, 896, 652, 677), ('noteheadBlack', 1104, 1133, 2868, 2893), ('noteheadBlack', 867, 896, 698, 723), ('noteheadBlack', 1104, 1133, 2834, 2859), ('noteheadBlack', 1163, 1192, 2487, 2513)], 'mask_path': '..\\\\..\\\\Mask_RCNN\\\\pix_annotations_png\\\\lg-398525122645378443-aug-beethoven--page-57.png'}\n",
      "Traceback (most recent call last):\n",
      "  File \"C:\\Users\\johnl\\Anaconda3\\lib\\site-packages\\mask_rcnn-2.1-py3.6.egg\\mrcnn\\model.py\", line 1695, in data_generator\n",
      "    use_mini_mask=config.USE_MINI_MASK)\n",
      "  File \"C:\\Users\\johnl\\Anaconda3\\lib\\site-packages\\mask_rcnn-2.1-py3.6.egg\\mrcnn\\model.py\", line 1218, in load_image_gt\n",
      "    mask = utils.resize_mask(mask, scale, padding, crop)\n",
      "  File \"C:\\Users\\johnl\\Anaconda3\\lib\\site-packages\\mask_rcnn-2.1-py3.6.egg\\mrcnn\\utils.py\", line 513, in resize_mask\n",
      "    mask = scipy.ndimage.zoom(mask, zoom=[scale, scale, 1], order=0)\n",
      "  File \"C:\\Users\\johnl\\Anaconda3\\lib\\site-packages\\scipy\\ndimage\\interpolation.py\", line 626, in zoom\n",
      "    shape=output_shape)\n",
      "  File \"C:\\Users\\johnl\\Anaconda3\\lib\\site-packages\\scipy\\ndimage\\_ni_support.py\", line 75, in _get_output\n",
      "    output = numpy.zeros(shape, dtype=input.dtype.name)\n",
      "MemoryError\n"
     ]
    },
    {
     "name": "stderr",
     "output_type": "stream",
     "text": [
      "ERROR:root:Error processing image {'id': 'lg-148271825-aug-beethoven--page-21.png', 'source': 'symbol', 'path': WindowsPath('../../Mask_RCNN/images_png/lg-148271825-aug-beethoven--page-21.png'), 'width': 2707, 'height': 3828, 'symbols': [('flag8thDown', 1868, 1891, 1871, 1938), ('flag8thDown', 1754, 1776, 1826, 1892), ('noteheadBlack', 1867, 1896, 961, 986), ('noteheadBlack', 1867, 1896, 1823, 1849), ('noteheadBlack', 1867, 1896, 1846, 1871), ('articStaccatoAbove', 1877, 1886, 1490, 1499), ('noteheadBlack', 1867, 1896, 1504, 1529), ('noteheadBlack', 1867, 1896, 1527, 1552), ('noteheadBlack', 1867, 1896, 1549, 1575), ('noteheadBlack', 1867, 1896, 1189, 1214), ('noteheadBlack', 1867, 1896, 1269, 1294), ('articStaccatoBelow', 1877, 1886, 990, 999), ('noteheadBlack', 1867, 1896, 915, 940), ('noteheadBlack', 1867, 1896, 938, 963), ('noteheadBlack', 1867, 1896, 1800, 1826), ('noteheadBlack', 1867, 1896, 566, 591), ('noteheadBlack', 1867, 1896, 171, 196), ('flag8thUp', 1780, 1804, 3250, 3315), ('noteheadHalf', 1867, 1898, 3453, 3478), ('noteheadHalf', 1867, 1898, 3019, 3045), ('noteheadBlack', 1897, 1926, 2602, 2627), ('noteheadBlack', 1867, 1897, 2602, 2627), ('noteheadBlack', 1867, 1896, 2264, 2289), ('articStaccatoAbove', 1877, 1886, 1787, 1796), ('flag8thDown', 1951, 1974, 1871, 1938), ('noteheadBlack', 1950, 1980, 2602, 2627), ('articStaccatoAbove', 1960, 1969, 1787, 1796), ('noteheadBlack', 1950, 1979, 1800, 1826), ('noteheadBlack', 1950, 1979, 1823, 1849), ('noteheadBlack', 1950, 1979, 1846, 1871), ('articStaccatoAbove', 1960, 1969, 1490, 1499), ('noteheadBlack', 1950, 1979, 1504, 1529), ('noteheadBlack', 1950, 1979, 1527, 1552), ('noteheadBlack', 2033, 2062, 1189, 1214), ('restQuarter', 2032, 2055, 2654, 2723), ('noteheadBlack', 2060, 2090, 2602, 2627), ('noteheadBlack', 2034, 2063, 2602, 2627), ('noteheadBlack', 2033, 2062, 2252, 2278), ('articStaccatoAbove', 2043, 2052, 1776, 1785), ('noteheadBlack', 2033, 2062, 1789, 1814), ('noteheadBlack', 2033, 2062, 1823, 1849), ('noteheadBlack', 2033, 2062, 1846, 1871), ('articStaccatoAbove', 2043, 2052, 1479, 1488), ('noteheadBlack', 2033, 2062, 1492, 1518), ('noteheadBlack', 2033, 2062, 1527, 1552), ('noteheadBlack', 2033, 2062, 1549, 1575), ('noteheadBlack', 1950, 1979, 1549, 1575), ('noteheadBlack', 2033, 2062, 1269, 1294), ('articStaccatoBelow', 2043, 2052, 990, 999), ('noteheadBlack', 2033, 2062, 903, 929), ('noteheadBlack', 2033, 2062, 938, 963), ('noteheadBlack', 2033, 2062, 961, 986), ('noteheadBlack', 2033, 2062, 554, 579), ('noteheadBlack', 2033, 2062, 159, 185), ('augmentationDot', 1909, 1920, 3015, 3026), ('noteheadBlack', 1950, 1979, 1189, 1214), ('noteheadBlack', 1950, 1979, 1269, 1294), ('articStaccatoBelow', 1960, 1969, 990, 999), ('noteheadBlack', 1950, 1979, 915, 940), ('noteheadBlack', 1950, 1979, 938, 963), ('noteheadBlack', 1950, 1979, 961, 986), ('augmentationDot', 1909, 1920, 3449, 3460), ('flag8thDown', 1571, 1593, 568, 634), ('flag8thDown', 1571, 1593, 2266, 2333), ('flag8thDown', 1571, 1593, 173, 240), ('rest8th', 1569, 1597, 2664, 2707), ('noteheadBlack', 1569, 1599, 2602, 2627), ('noteheadBlack', 1569, 1598, 2241, 2266), ('noteheadBlack', 1569, 1598, 543, 568), ('noteheadBlack', 1569, 1598, 148, 173), ('articStaccatoAbove', 1620, 1629, 1776, 1785), ('noteheadBlack', 1610, 1639, 1789, 1814), ('articStaccatoAbove', 1620, 1629, 1479, 1488), ('noteheadBlack', 1610, 1639, 1492, 1518), ('noteheadBlack', 1610, 1639, 1189, 1214), ('noteheadBlack', 1610, 1639, 1269, 1294), ('articStaccatoBelow', 1620, 1629, 990, 999), ('noteheadBlack', 1610, 1639, 903, 929), ('noteheadBlack', 1610, 1639, 938, 963), ('noteheadBlack', 1610, 1639, 961, 986), ('articStaccatoBelow', 1538, 1547, 990, 999), ('noteheadBlack', 1528, 1557, 915, 940), ('noteheadBlack', 1528, 1557, 938, 963), ('noteheadBlack', 1528, 1557, 961, 986), ('flag8thDown', 1519, 1542, 2624, 2690), ('noteheadBlack', 1528, 1557, 1269, 1294), ('noteheadBlack', 1518, 1547, 2602, 2627), ('noteheadBlack', 1488, 1518, 2602, 2627), ('flag8thDown', 1449, 1471, 1871, 1938), ('flag8thDown', 1530, 1552, 1871, 1938), ('articStaccatoAbove', 1538, 1547, 1787, 1796), ('noteheadBlack', 1528, 1557, 1800, 1826), ('noteheadBlack', 1528, 1557, 1823, 1849), ('noteheadBlack', 1528, 1557, 1846, 1871), ('articStaccatoAbove', 1538, 1547, 1490, 1499), ('noteheadBlack', 1528, 1557, 1504, 1529), ('noteheadBlack', 1528, 1557, 1527, 1552), ('noteheadBlack', 1528, 1557, 1549, 1575), ('noteheadBlack', 1528, 1557, 1189, 1214), ('noteheadBlack', 1752, 1781, 961, 986), ('flag8thUp', 1695, 1719, 3250, 3315), ('noteheadBlack', 1752, 1781, 938, 963), ('noteheadBlack', 1752, 1781, 3396, 3421), ('noteheadBlack', 1752, 1781, 2962, 2987), ('noteheadBlack', 1752, 1783, 2602, 2627), ('articStaccatoAbove', 1762, 1771, 1787, 1796), ('noteheadBlack', 1752, 1781, 1800, 1826), ('articStaccatoAbove', 1762, 1771, 1490, 1499), ('noteheadBlack', 1752, 1781, 1504, 1529), ('noteheadBlack', 1752, 1781, 1189, 1214), ('noteheadBlack', 1752, 1781, 1269, 1294), ('articStaccatoBelow', 1762, 1771, 990, 999), ('noteheadBlack', 1752, 1781, 915, 940), ('articStaccatoBelow', 1677, 1686, 990, 999), ('noteheadBlack', 1667, 1696, 3373, 3398), ('noteheadBlack', 1667, 1696, 2939, 2965), ('restQuarter', 1666, 1689, 2654, 2723), ('noteheadBlack', 1694, 1724, 2602, 2627), ('noteheadBlack', 1668, 1697, 2602, 2627), ('noteheadBlack', 1667, 1696, 2287, 2312), ('articStaccatoAbove', 1677, 1686, 1753, 1762), ('noteheadBlack', 1667, 1696, 1766, 1791), ('articStaccatoAbove', 1677, 1686, 1456, 1465), ('noteheadBlack', 1667, 1696, 1470, 1495), ('noteheadBlack', 1667, 1696, 1189, 1214), ('noteheadBlack', 1667, 1696, 1269, 1294), ('noteheadBlack', 1667, 1696, 881, 906), ('noteheadBlack', 1667, 1696, 938, 963), ('noteheadBlack', 1667, 1696, 961, 986), ('noteheadBlack', 1667, 1696, 589, 614), ('noteheadBlack', 1667, 1696, 194, 219), ('flag16thDown', 1611, 1638, 1814, 1881), ('flag8thDown', 1669, 1691, 1814, 1881), ('noteheadBlack', 2489, 2518, 1504, 1529), ('noteheadBlack', 2489, 2518, 1189, 1214), ('noteheadBlack', 2489, 2518, 1269, 1294), ('articStaccatoBelow', 2499, 2508, 990, 999), ('noteheadBlack', 2489, 2518, 915, 940), ('noteheadBlack', 2489, 2518, 938, 963), ('noteheadBlack', 2489, 2518, 961, 986), ('noteheadBlack', 2489, 2518, 566, 591), ('noteheadBlack', 2489, 2518, 251, 276), ('flag8thUp', 2432, 2456, 3250, 3315), ('articStaccatoAbove', 2499, 2508, 1490, 1499), ('noteheadBlack', 2489, 2518, 3396, 3421), ('noteheadBlack', 2489, 2518, 2962, 2987), ('noteheadBlack', 2489, 2519, 2602, 2627), ('noteheadBlack', 2489, 2518, 2344, 2369), ('articStaccatoAbove', 2499, 2508, 1787, 1796), ('noteheadBlack', 2489, 2518, 1800, 1826), ('restQuarter', 2403, 2427, 2654, 2723), ('noteheadBlack', 2405, 2434, 3373, 3398), ('noteheadBlack', 2405, 2434, 2939, 2965), ('noteheadBlack', 2431, 2462, 2602, 2627), ('noteheadBlack', 2406, 2435, 2602, 2627), ('noteheadBlack', 2405, 2434, 2332, 2358), ('articStaccatoAbove', 2415, 2424, 1753, 1762), ('noteheadBlack', 2405, 2434, 1766, 1791), ('articStaccatoAbove', 2415, 2424, 1456, 1465), ('noteheadBlack', 2405, 2434, 1470, 1495), ('noteheadBlack', 2405, 2434, 1189, 1214), ('noteheadBlack', 2405, 2434, 1269, 1294), ('articStaccatoBelow', 2415, 2424, 990, 999), ('noteheadBlack', 2405, 2434, 881, 906), ('noteheadBlack', 2405, 2434, 938, 963), ('noteheadBlack', 2405, 2434, 961, 986), ('flag8thDown', 2406, 2428, 1814, 1881), ('flag8thDown', 2491, 2513, 1826, 1892), ('noteheadBlack', 2405, 2434, 554, 579), ('flag8thUp', 2517, 2541, 3250, 3315), ('noteheadBlack', 2185, 2214, 1527, 1552), ('articStaccatoAbove', 2195, 2204, 1787, 1796), ('noteheadBlack', 2185, 2214, 1800, 1826), ('noteheadBlack', 2185, 2214, 1823, 1849), ('noteheadBlack', 2185, 2214, 1846, 1871), ('articStaccatoAbove', 2195, 2204, 1490, 1499), ('noteheadBlack', 2185, 2214, 1504, 1529), ('noteheadBlack', 2185, 2214, 1549, 1575), ('noteheadBlack', 2185, 2214, 1189, 1214), ('noteheadBlack', 2185, 2214, 1269, 1294), ('articStaccatoBelow', 2195, 2204, 990, 999), ('noteheadBlack', 2185, 2214, 915, 940), ('noteheadBlack', 2185, 2214, 938, 963), ('noteheadBlack', 2185, 2214, 961, 986), ('noteheadBlack', 2171, 2201, 2602, 2627), ('noteheadBlack', 2225, 2254, 2332, 2358), ('noteheadBlack', 2255, 2284, 2602, 2627), ('noteheadBlack', 2225, 2255, 2602, 2627), ('noteheadBlack', 2145, 2174, 2602, 2627), ('noteheadBlack', 2225, 2254, 554, 579), ('noteheadBlack', 2225, 2254, 239, 265), ('flag8thDown', 2186, 2208, 1871, 1938), ('augmentationDot', 2073, 2084, 1556, 1568), ('augmentationDot', 2073, 2084, 1196, 1207), ('augmentationDot', 2073, 2084, 1264, 1275), ('augmentationDot', 2073, 2084, 911, 922), ('augmentationDot', 2073, 2084, 933, 944), ('augmentationDot', 2073, 2084, 956, 967), ('augmentationDot', 2073, 2084, 1785, 1796), ('augmentationDot', 2073, 2084, 1830, 1841), ('flag8thDown', 2035, 2057, 1871, 1938), ('augmentationDot', 2073, 2084, 1853, 1864), ('augmentationDot', 2073, 2084, 1488, 1499), ('augmentationDot', 2073, 2084, 1534, 1545), ('noteheadBlack', 2347, 2376, 1189, 1214), ('noteheadBlack', 2347, 2376, 1269, 1294), ('articStaccatoBelow', 2357, 2366, 990, 999), ('noteheadBlack', 2347, 2376, 903, 929), ('noteheadBlack', 2347, 2376, 938, 963), ('noteheadBlack', 2347, 2376, 961, 986), ('noteheadBlack', 2347, 2376, 1492, 1518), ('noteheadBlack', 2405, 2434, 239, 265), ('flag16thDown', 2349, 2375, 1814, 1881), ('articStaccatoAbove', 2357, 2366, 1776, 1785), ('noteheadBlack', 2347, 2376, 1789, 1814), ('articStaccatoAbove', 2357, 2366, 1479, 1488), ('noteheadBlack', 2266, 2295, 1800, 1826), ('noteheadBlack', 2266, 2295, 1823, 1849), ('noteheadBlack', 2266, 2295, 1846, 1871), ('articStaccatoAbove', 2276, 2285, 1490, 1499), ('noteheadBlack', 2266, 2295, 1504, 1529), ('noteheadBlack', 2266, 2295, 1527, 1552), ('noteheadBlack', 2266, 2295, 1549, 1575), ('noteheadBlack', 2266, 2295, 1189, 1214), ('noteheadBlack', 2266, 2295, 1269, 1294), ('articStaccatoBelow', 2276, 2285, 990, 999), ('noteheadBlack', 2266, 2295, 915, 940), ('noteheadBlack', 2266, 2295, 938, 963), ('noteheadBlack', 2266, 2295, 961, 986), ('articStaccatoAbove', 2276, 2285, 1787, 1796), ('flag8thDown', 2257, 2279, 2624, 2690), ('rest8th', 2307, 2334, 2664, 2707), ('noteheadBlack', 2307, 2337, 2602, 2627), ('noteheadBlack', 2307, 2336, 2321, 2346), ('noteheadBlack', 2307, 2336, 543, 568), ('noteheadBlack', 2307, 2336, 228, 253), ('flag8thDown', 2267, 2290, 1871, 1938), ('rest8th', 773, 800, 210, 253), ('flag8thDown', 734, 756, 1883, 1949), ('rest8th', 773, 800, 560, 602), ('articStaccatoAbove', 742, 751, 1798, 1807), ('noteheadBlack', 732, 761, 1812, 1837), ('noteheadBlack', 732, 761, 1835, 1860), ('noteheadBlack', 732, 761, 1858, 1883), ('articStaccatoAbove', 742, 751, 1502, 1511), ('noteheadBlack', 732, 761, 1515, 1540), ('noteheadBlack', 732, 761, 1538, 1563), ('noteheadBlack', 813, 842, 972, 997), ('flag8thDown', 804, 827, 2624, 2690), ('noteheadBlack', 732, 761, 1561, 1586), ('noteheadBlack', 803, 832, 2602, 2627), ('noteheadBlack', 773, 803, 2602, 2627), ('rest8th', 773, 800, 2246, 2289), ('flag8thDown', 582, 604, 1883, 1949), ('augmentationDot', 621, 632, 1853, 1864), ('augmentationDot', 621, 632, 1511, 1522), ('augmentationDot', 621, 632, 1534, 1545), ('augmentationDot', 621, 632, 1556, 1568), ('augmentationDot', 621, 632, 1196, 1207), ('augmentationDot', 621, 632, 1287, 1298), ('augmentationDot', 621, 632, 911, 922), ('augmentationDot', 621, 632, 956, 967), ('noteheadBlack', 732, 761, 1200, 1225), ('noteheadBlack', 732, 761, 1280, 1305), ('articStaccatoBelow', 742, 751, 1002, 1011), ('noteheadBlack', 732, 761, 926, 952), ('noteheadBlack', 732, 761, 949, 974), ('noteheadBlack', 732, 761, 972, 997), ('noteheadBlack', 718, 748, 2602, 2627), ('noteheadBlack', 693, 721, 2602, 2627), ('noteheadBlack', 813, 842, 949, 974), ('augmentationDot', 621, 632, 1808, 1819), ('augmentationDot', 621, 632, 1830, 1841), ('noteheadBlack', 895, 924, 1538, 1563), ('articStaccatoAbove', 905, 914, 1798, 1807), ('noteheadBlack', 895, 924, 1812, 1837), ('noteheadBlack', 895, 924, 1835, 1860), ('noteheadBlack', 895, 924, 1858, 1883), ('articStaccatoAbove', 905, 914, 1502, 1511), ('noteheadBlack', 895, 924, 1515, 1540), ('noteheadBlack', 895, 924, 1561, 1586), ('noteheadBlack', 895, 924, 1200, 1225), ('noteheadBlack', 895, 924, 1280, 1305), ('articStaccatoBelow', 905, 914, 1002, 1011), ('noteheadBlack', 895, 924, 926, 952), ('noteheadBlack', 895, 924, 949, 974), ('noteheadBlack', 895, 924, 972, 997), ('noteheadBlack', 952, 981, 972, 997), ('restQuarter', 951, 974, 2654, 2723), ('noteheadBlack', 979, 1009, 2602, 2627), ('noteheadBlack', 953, 982, 2602, 2627), ('noteheadBlack', 952, 981, 2264, 2289), ('articStaccatoAbove', 962, 971, 1776, 1785), ('noteheadBlack', 952, 981, 1789, 1814), ('articStaccatoAbove', 962, 971, 1479, 1488), ('noteheadBlack', 952, 981, 1492, 1518), ('noteheadBlack', 952, 981, 1200, 1225), ('articStaccatoBelow', 962, 971, 1002, 1011), ('noteheadBlack', 952, 981, 903, 929), ('noteheadBlack', 952, 981, 949, 974), ('noteheadBlack', 952, 981, 486, 511), ('noteheadBlack', 952, 981, 171, 196), ('flag16thDown', 896, 923, 1882, 1949), ('articStaccatoAbove', 823, 832, 1798, 1807), ('noteheadBlack', 813, 842, 1812, 1837), ('noteheadBlack', 813, 842, 1835, 1860), ('noteheadBlack', 813, 842, 1858, 1883), ('articStaccatoAbove', 823, 832, 1502, 1511), ('noteheadBlack', 813, 842, 1515, 1540), ('noteheadBlack', 813, 842, 1538, 1563), ('noteheadBlack', 813, 842, 1561, 1586), ('noteheadBlack', 813, 842, 1200, 1225), ('noteheadBlack', 813, 842, 1280, 1305), ('articStaccatoBelow', 823, 832, 1002, 1011), ('noteheadBlack', 813, 842, 926, 952), ('rest8th', 854, 882, 2664, 2707), ('noteheadBlack', 854, 884, 2602, 2627), ('noteheadBlack', 854, 883, 2287, 2312), ('noteheadBlack', 854, 883, 509, 534), ('noteheadBlack', 854, 883, 194, 219), ('flag8thDown', 815, 837, 1883, 1949), ('unpitchedPercussionClef1', 166, 193, 2591, 2638), ('keySharp', 231, 256, 3180, 3248), ('keySharp', 256, 280, 3215, 3283), ('keySharp', 280, 305, 3169, 3237), ('keySharp', 231, 256, 2906, 2974), ('keySharp', 256, 280, 2941, 3009), ('keySharp', 280, 305, 2895, 2963), ('clef8', 162, 194, 3016, 3038), ('fClef', 147, 212, 2917, 2995), ('keySharp', 231, 256, 2185, 2253), ('keySharp', 256, 280, 2219, 2287), ('keySharp', 280, 305, 2174, 2242), ('gClef', 151, 213, 2173, 2346), ('keySharp', 231, 256, 1813, 1881), ('keySharp', 256, 280, 1847, 1915), ('keySharp', 280, 305, 1802, 1870), ('keySharp', 231, 256, 1516, 1584), ('keySharp', 256, 280, 1551, 1619), ('keySharp', 280, 305, 1505, 1573), ('noteheadBlack', 414, 443, 1538, 1563), ('noteheadHalf', 414, 446, 3385, 3410), ('noteheadHalf', 414, 446, 2951, 2976), ('noteheadBlack', 444, 473, 2602, 2627), ('noteheadBlack', 414, 444, 2602, 2627), ('dynamicForte', 400, 450, 2326, 2381), ('restHalf', 414, 444, 2252, 2265), ('articStaccatoAbove', 424, 433, 1798, 1807), ('noteheadBlack', 414, 443, 1812, 1837), ('noteheadBlack', 414, 443, 1835, 1860), ('noteheadBlack', 414, 443, 1858, 1883), ('articStaccatoAbove', 424, 433, 1502, 1511), ('noteheadBlack', 414, 443, 1515, 1540), ('clef8', 165, 197, 1679, 1701), ('noteheadBlack', 414, 443, 1561, 1586), ('noteheadBlack', 414, 443, 1200, 1225), ('noteheadBlack', 414, 443, 1280, 1305), ('articStaccatoBelow', 424, 433, 1002, 1011), ('noteheadBlack', 414, 443, 926, 952), ('noteheadBlack', 414, 443, 949, 974), ('noteheadBlack', 414, 443, 972, 997), ('dynamicForte', 400, 450, 639, 694), ('restHalf', 414, 444, 566, 578), ('dynamicForte', 400, 450, 290, 345), ('restHalf', 414, 444, 216, 229), ('brace', 98, 121, 1549, 1941), ('brace', 99, 121, 2916, 3285), ('brace', 100, 122, 881, 1260), ('keySharp', 231, 256, 498, 566), ('keySharp', 256, 280, 533, 601), ('keySharp', 280, 305, 487, 555), ('keySharp', 305, 330, 521, 589), ('keySharp', 330, 355, 556, 624), ('gClef', 151, 213, 1504, 1677), ('keySharp', 231, 256, 1156, 1224), ('keySharp', 256, 280, 1190, 1258), ('keySharp', 280, 305, 1144, 1212), ('fClef', 147, 212, 1166, 1245), ('keySharp', 231, 256, 848, 916), ('keySharp', 256, 280, 882, 950), ('keySharp', 280, 305, 836, 904), ('clef8', 175, 206, 813, 835), ('gClef', 151, 213, 836, 1009), ('gClef', 151, 213, 486, 659), ('keySharp', 231, 256, 149, 217), ('keySharp', 256, 280, 184, 251), ('keySharp', 280, 305, 138, 206), ('keySharp', 305, 330, 172, 240), ('keySharp', 330, 355, 206, 274), ('keySharp', 355, 380, 161, 229), ('gClef', 151, 213, 137, 310), ('noteheadBlack', 497, 528, 2602, 2627), ('articStaccatoAbove', 507, 516, 1798, 1807), ('noteheadBlack', 497, 526, 1812, 1837), ('noteheadBlack', 497, 526, 1835, 1860), ('noteheadBlack', 497, 526, 1858, 1883), ('articStaccatoAbove', 507, 516, 1502, 1511), ('noteheadBlack', 497, 526, 1515, 1540), ('noteheadBlack', 497, 526, 1538, 1563), ('noteheadBlack', 497, 526, 1561, 1586), ('noteheadBlack', 497, 526, 1200, 1225), ('noteheadBlack', 497, 526, 1280, 1305), ('articStaccatoBelow', 507, 516, 1002, 1011), ('noteheadBlack', 581, 610, 1200, 1225), ('augmentationDot', 621, 632, 979, 990), ('restQuarter', 579, 602, 2654, 2723), ('noteheadBlack', 607, 637, 2602, 2627), ('noteheadBlack', 582, 611, 2602, 2627), ('articStaccatoAbove', 591, 600, 1787, 1796), ('noteheadBlack', 581, 610, 1800, 1826), ('noteheadBlack', 581, 610, 1835, 1860), ('noteheadBlack', 581, 610, 1858, 1883), ('articStaccatoAbove', 591, 600, 1490, 1499), ('noteheadBlack', 581, 610, 1504, 1529), ('noteheadBlack', 581, 610, 1538, 1563), ('noteheadBlack', 581, 610, 1561, 1586), ('noteheadBlack', 497, 526, 926, 952), ('noteheadBlack', 581, 610, 1280, 1305), ('articStaccatoBelow', 591, 600, 1002, 1011), ('noteheadBlack', 581, 610, 915, 940), ('noteheadBlack', 581, 610, 949, 974), ('noteheadBlack', 581, 610, 972, 997), ('flag8thDown', 499, 521, 1883, 1949), ('flag8thDown', 416, 438, 1883, 1949), ('noteheadBlack', 497, 526, 949, 974), ('noteheadBlack', 497, 526, 972, 997), ('augmentationDot', 457, 468, 3380, 3391), ('noteheadBlack', 952, 981, 1280, 1305), ('augmentationDot', 457, 468, 2946, 2958), ('noteheadBlack', 1233, 1263, 2602, 2627), ('noteheadBlack', 1233, 1262, 2230, 2255), ('articStaccatoAbove', 1243, 1252, 1787, 1796), ('noteheadBlack', 1233, 1262, 1800, 1826), ('noteheadBlack', 1233, 1262, 1823, 1849), ('noteheadBlack', 1317, 1345, 1492, 1518), ('noteheadBlack', 1317, 1345, 1527, 1552), ('noteheadBlack', 1317, 1345, 1549, 1575), ('noteheadBlack', 1317, 1345, 1189, 1214), ('noteheadBlack', 1317, 1345, 1269, 1294), ('articStaccatoBelow', 1327, 1335, 990, 999), ('noteheadBlack', 1317, 1345, 903, 929), ('noteheadBlack', 1317, 1345, 938, 963), ('noteheadBlack', 1317, 1345, 961, 986), ('noteheadBlack', 1317, 1345, 543, 568), ('noteheadBlack', 1317, 1345, 148, 173), ('noteheadBlack', 1233, 1262, 1846, 1871), ('flag8thDown', 1235, 1257, 1871, 1938), ('augmentationDot', 1193, 1204, 3015, 3026), ('augmentationDot', 1193, 1204, 3449, 3460), ('noteheadBlack', 952, 981, 2962, 2987), ('articStaccatoAbove', 1243, 1252, 1490, 1499), ('noteheadBlack', 1233, 1262, 1504, 1529), ('noteheadBlack', 1233, 1262, 1527, 1552), ('noteheadBlack', 1233, 1262, 1549, 1575), ('noteheadBlack', 1233, 1262, 1189, 1214), ('noteheadBlack', 1233, 1262, 1269, 1294), ('articStaccatoBelow', 1243, 1252, 990, 999), ('noteheadBlack', 1233, 1262, 915, 940), ('noteheadBlack', 1233, 1262, 938, 963), ('noteheadBlack', 1233, 1262, 961, 986), ('noteheadBlack', 1233, 1262, 531, 557), ('noteheadBlack', 1233, 1262, 137, 162), ('articStaccatoAbove', 1327, 1335, 1479, 1488), ('noteheadBlack', 1406, 1435, 2252, 2278), ('noteheadBlack', 1433, 1463, 2602, 2627), ('noteheadBlack', 1408, 1436, 2602, 2627), ('noteheadBlack', 1406, 1435, 554, 579), ('noteheadBlack', 1406, 1435, 159, 185), ('articStaccatoAbove', 1457, 1466, 1490, 1499), ('articStaccatoAbove', 1457, 1466, 1787, 1796), ('noteheadBlack', 1447, 1476, 1800, 1826), ('noteheadBlack', 1447, 1476, 1823, 1849), ('noteheadBlack', 1447, 1476, 1846, 1871), ('noteheadBlack', 1447, 1476, 1504, 1529), ('noteheadBlack', 1447, 1476, 1527, 1552), ('noteheadBlack', 1447, 1476, 1549, 1575), ('noteheadBlack', 1447, 1476, 1189, 1214), ('noteheadBlack', 1447, 1476, 1269, 1294), ('articStaccatoBelow', 1457, 1466, 990, 999), ('noteheadBlack', 1447, 1476, 915, 940), ('noteheadBlack', 1447, 1476, 938, 963), ('noteheadBlack', 1447, 1476, 961, 986), ('augmentationDot', 1357, 1368, 1264, 1275), ('augmentationDot', 1357, 1368, 911, 922), ('augmentationDot', 1357, 1368, 933, 944), ('augmentationDot', 1357, 1368, 956, 967), ('restQuarter', 1315, 1338, 2654, 2723), ('noteheadBlack', 1343, 1373, 2602, 2627), ('noteheadBlack', 1318, 1347, 2602, 2627), ('noteheadBlack', 1317, 1345, 2241, 2266), ('articStaccatoAbove', 1327, 1335, 1776, 1785), ('noteheadBlack', 1317, 1345, 1789, 1814), ('noteheadBlack', 1317, 1345, 1823, 1849), ('noteheadBlack', 1317, 1345, 1846, 1871), ('augmentationDot', 1357, 1368, 1785, 1796), ('augmentationDot', 1357, 1368, 1830, 1841), ('flag8thDown', 1318, 1340, 1871, 1938), ('augmentationDot', 1357, 1368, 1853, 1864), ('augmentationDot', 1357, 1368, 1488, 1499), ('augmentationDot', 1357, 1368, 1534, 1545), ('augmentationDot', 1357, 1368, 1556, 1568), ('augmentationDot', 1357, 1368, 1196, 1207), ('articStaccatoAbove', 1046, 1055, 1490, 1499), ('noteheadBlack', 1036, 1065, 3407, 3433), ('noteheadBlack', 1036, 1065, 2974, 2999), ('noteheadBlack', 1036, 1066, 2602, 2627), ('noteheadBlack', 1036, 1065, 2287, 2312), ('articStaccatoAbove', 1046, 1055, 1787, 1796), ('noteheadBlack', 1036, 1065, 1800, 1826), ('noteheadBlack', 1036, 1065, 1504, 1529), ('noteheadBlack', 1036, 1065, 1200, 1225), ('noteheadBlack', 1036, 1065, 1280, 1305), ('articStaccatoBelow', 1046, 1055, 1002, 1011), ('noteheadBlack', 1036, 1065, 915, 940), ('noteheadBlack', 1036, 1065, 949, 974), ('noteheadBlack', 1036, 1065, 972, 997), ('noteheadBlack', 1036, 1065, 509, 534), ('noteheadBlack', 1036, 1065, 194, 219), ('flag8thUp', 980, 1004, 3250, 3315), ('noteheadBlack', 952, 981, 3396, 3421), ('flag8thDown', 1038, 1060, 1826, 1892), ('flag8thDown', 954, 976, 1814, 1881), ('noteheadHalf', 1150, 1182, 3453, 3478), ('noteheadHalf', 1150, 1182, 3019, 3045), ('noteheadBlack', 1180, 1209, 2602, 2627), ('flag8thDown', 1152, 1174, 1871, 1938), ('noteheadBlack', 1150, 1180, 2602, 2627), ('noteheadBlack', 1150, 1179, 1549, 1575), ('noteheadBlack', 1150, 1179, 1189, 1214), ('articStaccatoBelow', 1160, 1169, 990, 999), ('noteheadBlack', 1150, 1179, 915, 940), ('noteheadBlack', 1150, 1179, 938, 963), ('noteheadBlack', 1150, 1179, 961, 986), ('noteheadBlack', 1150, 1179, 1269, 1294), ('dynamicForte', 1136, 1186, 639, 694), ('noteheadBlack', 1150, 1179, 520, 545), ('dynamicForte', 1136, 1186, 290, 345), ('noteheadBlack', 1150, 1179, 125, 150), ('flag8thUp', 1064, 1088, 3250, 3315), ('dynamicForte', 1136, 1186, 2334, 2389), ('noteheadBlack', 1150, 1179, 2218, 2243), ('articStaccatoAbove', 1160, 1169, 1787, 1796), ('noteheadBlack', 1150, 1179, 1800, 1826), ('noteheadBlack', 1150, 1179, 1823, 1849), ('noteheadBlack', 1150, 1179, 1846, 1871), ('articStaccatoAbove', 1160, 1169, 1490, 1499), ('noteheadBlack', 1150, 1179, 1504, 1529), ('noteheadBlack', 1150, 1179, 1527, 1552)], 'mask_path': '..\\\\..\\\\Mask_RCNN\\\\pix_annotations_png\\\\lg-148271825-aug-beethoven--page-21.png'}\n",
      "Traceback (most recent call last):\n",
      "  File \"C:\\Users\\johnl\\Anaconda3\\lib\\site-packages\\mask_rcnn-2.1-py3.6.egg\\mrcnn\\model.py\", line 1695, in data_generator\n",
      "    use_mini_mask=config.USE_MINI_MASK)\n",
      "  File \"C:\\Users\\johnl\\Anaconda3\\lib\\site-packages\\mask_rcnn-2.1-py3.6.egg\\mrcnn\\model.py\", line 1218, in load_image_gt\n",
      "    mask = utils.resize_mask(mask, scale, padding, crop)\n",
      "  File \"C:\\Users\\johnl\\Anaconda3\\lib\\site-packages\\mask_rcnn-2.1-py3.6.egg\\mrcnn\\utils.py\", line 513, in resize_mask\n",
      "    mask = scipy.ndimage.zoom(mask, zoom=[scale, scale, 1], order=0)\n",
      "  File \"C:\\Users\\johnl\\Anaconda3\\lib\\site-packages\\scipy\\ndimage\\interpolation.py\", line 626, in zoom\n",
      "    shape=output_shape)\n",
      "  File \"C:\\Users\\johnl\\Anaconda3\\lib\\site-packages\\scipy\\ndimage\\_ni_support.py\", line 75, in _get_output\n",
      "    output = numpy.zeros(shape, dtype=input.dtype.name)\n",
      "MemoryError\n"
     ]
    },
    {
     "ename": "ResourceExhaustedError",
     "evalue": "OOM when allocating tensor with shape[512,256,28,28] and type float on /job:localhost/replica:0/task:0/device:GPU:0 by allocator GPU_0_bfc\n\t [[Node: mrcnn_mask_deconv_1/conv2d_transpose = Conv2DBackpropInput[T=DT_FLOAT, _class=[\"loc:@train...propFilter\"], data_format=\"NCHW\", dilations=[1, 1, 1, 1], padding=\"VALID\", strides=[1, 1, 2, 2], use_cudnn_on_gpu=true, _device=\"/job:localhost/replica:0/task:0/device:GPU:0\"](mrcnn_mask_deconv_1/conv2d_transpose-0-VecPermuteNHWCToNCHW-LayoutOptimizer/_5653, mrcnn_mask_deconv_1/kernel/read, mrcnn_mask_deconv_1/conv2d_transpose-2-TransposeNHWCToNCHW-LayoutOptimizer)]]\nHint: If you want to see a list of allocated tensors when OOM happens, add report_tensor_allocations_upon_oom to RunOptions for current allocation info.\n\n\t [[Node: mul_103/_5937 = _Recv[client_terminated=false, recv_device=\"/job:localhost/replica:0/task:0/device:CPU:0\", send_device=\"/job:localhost/replica:0/task:0/device:GPU:0\", send_device_incarnation=1, tensor_name=\"edge_8539_mul_103\", tensor_type=DT_FLOAT, _device=\"/job:localhost/replica:0/task:0/device:CPU:0\"]()]]\nHint: If you want to see a list of allocated tensors when OOM happens, add report_tensor_allocations_upon_oom to RunOptions for current allocation info.\n\n\nCaused by op 'mrcnn_mask_deconv_1/conv2d_transpose', defined at:\n  File \"C:\\Users\\johnl\\Anaconda3\\lib\\runpy.py\", line 193, in _run_module_as_main\n    \"__main__\", mod_spec)\n  File \"C:\\Users\\johnl\\Anaconda3\\lib\\runpy.py\", line 85, in _run_code\n    exec(code, run_globals)\n  File \"C:\\Users\\johnl\\Anaconda3\\lib\\site-packages\\ipykernel_launcher.py\", line 16, in <module>\n    app.launch_new_instance()\n  File \"C:\\Users\\johnl\\Anaconda3\\lib\\site-packages\\traitlets\\config\\application.py\", line 658, in launch_instance\n    app.start()\n  File \"C:\\Users\\johnl\\Anaconda3\\lib\\site-packages\\ipykernel\\kernelapp.py\", line 486, in start\n    self.io_loop.start()\n  File \"C:\\Users\\johnl\\Anaconda3\\lib\\site-packages\\zmq\\eventloop\\ioloop.py\", line 177, in start\n    super(ZMQIOLoop, self).start()\n  File \"C:\\Users\\johnl\\Anaconda3\\lib\\site-packages\\tornado\\ioloop.py\", line 888, in start\n    handler_func(fd_obj, events)\n  File \"C:\\Users\\johnl\\Anaconda3\\lib\\site-packages\\tornado\\stack_context.py\", line 277, in null_wrapper\n    return fn(*args, **kwargs)\n  File \"C:\\Users\\johnl\\Anaconda3\\lib\\site-packages\\zmq\\eventloop\\zmqstream.py\", line 440, in _handle_events\n    self._handle_recv()\n  File \"C:\\Users\\johnl\\Anaconda3\\lib\\site-packages\\zmq\\eventloop\\zmqstream.py\", line 472, in _handle_recv\n    self._run_callback(callback, msg)\n  File \"C:\\Users\\johnl\\Anaconda3\\lib\\site-packages\\zmq\\eventloop\\zmqstream.py\", line 414, in _run_callback\n    callback(*args, **kwargs)\n  File \"C:\\Users\\johnl\\Anaconda3\\lib\\site-packages\\tornado\\stack_context.py\", line 277, in null_wrapper\n    return fn(*args, **kwargs)\n  File \"C:\\Users\\johnl\\Anaconda3\\lib\\site-packages\\ipykernel\\kernelbase.py\", line 283, in dispatcher\n    return self.dispatch_shell(stream, msg)\n  File \"C:\\Users\\johnl\\Anaconda3\\lib\\site-packages\\ipykernel\\kernelbase.py\", line 233, in dispatch_shell\n    handler(stream, idents, msg)\n  File \"C:\\Users\\johnl\\Anaconda3\\lib\\site-packages\\ipykernel\\kernelbase.py\", line 399, in execute_request\n    user_expressions, allow_stdin)\n  File \"C:\\Users\\johnl\\Anaconda3\\lib\\site-packages\\ipykernel\\ipkernel.py\", line 208, in do_execute\n    res = shell.run_cell(code, store_history=store_history, silent=silent)\n  File \"C:\\Users\\johnl\\Anaconda3\\lib\\site-packages\\ipykernel\\zmqshell.py\", line 537, in run_cell\n    return super(ZMQInteractiveShell, self).run_cell(*args, **kwargs)\n  File \"C:\\Users\\johnl\\Anaconda3\\lib\\site-packages\\IPython\\core\\interactiveshell.py\", line 2728, in run_cell\n    interactivity=interactivity, compiler=compiler, result=result)\n  File \"C:\\Users\\johnl\\Anaconda3\\lib\\site-packages\\IPython\\core\\interactiveshell.py\", line 2850, in run_ast_nodes\n    if self.run_code(code, result):\n  File \"C:\\Users\\johnl\\Anaconda3\\lib\\site-packages\\IPython\\core\\interactiveshell.py\", line 2910, in run_code\n    exec(code_obj, self.user_global_ns, self.user_ns)\n  File \"<ipython-input-39-7928c4edfc77>\", line 3, in <module>\n    model_dir=MODEL_DIR)\n  File \"C:\\Users\\johnl\\Anaconda3\\lib\\site-packages\\mask_rcnn-2.1-py3.6.egg\\mrcnn\\model.py\", line 1823, in __init__\n    self.keras_model = self.build(mode=mode, config=config)\n  File \"C:\\Users\\johnl\\Anaconda3\\lib\\site-packages\\mask_rcnn-2.1-py3.6.egg\\mrcnn\\model.py\", line 1985, in build\n    train_bn=config.TRAIN_BN)\n  File \"C:\\Users\\johnl\\Anaconda3\\lib\\site-packages\\mask_rcnn-2.1-py3.6.egg\\mrcnn\\model.py\", line 996, in build_fpn_mask_graph\n    name=\"mrcnn_mask_deconv\")(x)\n  File \"C:\\Users\\johnl\\Anaconda3\\lib\\site-packages\\keras\\engine\\topology.py\", line 619, in __call__\n    output = self.call(inputs, **kwargs)\n  File \"C:\\Users\\johnl\\Anaconda3\\lib\\site-packages\\keras\\layers\\wrappers.py\", line 213, in call\n    y = self.layer.call(inputs, **kwargs)\n  File \"C:\\Users\\johnl\\Anaconda3\\lib\\site-packages\\keras\\layers\\convolutional.py\", line 781, in call\n    data_format=self.data_format)\n  File \"C:\\Users\\johnl\\Anaconda3\\lib\\site-packages\\keras\\backend\\tensorflow_backend.py\", line 3394, in conv2d_transpose\n    data_format=tf_data_format)\n  File \"C:\\Users\\johnl\\Anaconda3\\lib\\site-packages\\tensorflow\\python\\ops\\nn_ops.py\", line 1254, in conv2d_transpose\n    name=name)\n  File \"C:\\Users\\johnl\\Anaconda3\\lib\\site-packages\\tensorflow\\python\\ops\\gen_nn_ops.py\", line 1340, in conv2d_backprop_input\n    dilations=dilations, name=name)\n  File \"C:\\Users\\johnl\\Anaconda3\\lib\\site-packages\\tensorflow\\python\\framework\\op_def_library.py\", line 787, in _apply_op_helper\n    op_def=op_def)\n  File \"C:\\Users\\johnl\\Anaconda3\\lib\\site-packages\\tensorflow\\python\\framework\\ops.py\", line 3392, in create_op\n    op_def=op_def)\n  File \"C:\\Users\\johnl\\Anaconda3\\lib\\site-packages\\tensorflow\\python\\framework\\ops.py\", line 1718, in __init__\n    self._traceback = self._graph._extract_stack()  # pylint: disable=protected-access\n\nResourceExhaustedError (see above for traceback): OOM when allocating tensor with shape[512,256,28,28] and type float on /job:localhost/replica:0/task:0/device:GPU:0 by allocator GPU_0_bfc\n\t [[Node: mrcnn_mask_deconv_1/conv2d_transpose = Conv2DBackpropInput[T=DT_FLOAT, _class=[\"loc:@train...propFilter\"], data_format=\"NCHW\", dilations=[1, 1, 1, 1], padding=\"VALID\", strides=[1, 1, 2, 2], use_cudnn_on_gpu=true, _device=\"/job:localhost/replica:0/task:0/device:GPU:0\"](mrcnn_mask_deconv_1/conv2d_transpose-0-VecPermuteNHWCToNCHW-LayoutOptimizer/_5653, mrcnn_mask_deconv_1/kernel/read, mrcnn_mask_deconv_1/conv2d_transpose-2-TransposeNHWCToNCHW-LayoutOptimizer)]]\nHint: If you want to see a list of allocated tensors when OOM happens, add report_tensor_allocations_upon_oom to RunOptions for current allocation info.\n\n\t [[Node: mul_103/_5937 = _Recv[client_terminated=false, recv_device=\"/job:localhost/replica:0/task:0/device:CPU:0\", send_device=\"/job:localhost/replica:0/task:0/device:GPU:0\", send_device_incarnation=1, tensor_name=\"edge_8539_mul_103\", tensor_type=DT_FLOAT, _device=\"/job:localhost/replica:0/task:0/device:CPU:0\"]()]]\nHint: If you want to see a list of allocated tensors when OOM happens, add report_tensor_allocations_upon_oom to RunOptions for current allocation info.\n\n",
     "output_type": "error",
     "traceback": [
      "\u001b[1;31m---------------------------------------------------------------------------\u001b[0m",
      "\u001b[1;31mResourceExhaustedError\u001b[0m                    Traceback (most recent call last)",
      "\u001b[1;32m~\\Anaconda3\\lib\\site-packages\\tensorflow\\python\\client\\session.py\u001b[0m in \u001b[0;36m_do_call\u001b[1;34m(self, fn, *args)\u001b[0m\n\u001b[0;32m   1321\u001b[0m     \u001b[1;32mtry\u001b[0m\u001b[1;33m:\u001b[0m\u001b[1;33m\u001b[0m\u001b[0m\n\u001b[1;32m-> 1322\u001b[1;33m       \u001b[1;32mreturn\u001b[0m \u001b[0mfn\u001b[0m\u001b[1;33m(\u001b[0m\u001b[1;33m*\u001b[0m\u001b[0margs\u001b[0m\u001b[1;33m)\u001b[0m\u001b[1;33m\u001b[0m\u001b[0m\n\u001b[0m\u001b[0;32m   1323\u001b[0m     \u001b[1;32mexcept\u001b[0m \u001b[0merrors\u001b[0m\u001b[1;33m.\u001b[0m\u001b[0mOpError\u001b[0m \u001b[1;32mas\u001b[0m \u001b[0me\u001b[0m\u001b[1;33m:\u001b[0m\u001b[1;33m\u001b[0m\u001b[0m\n",
      "\u001b[1;32m~\\Anaconda3\\lib\\site-packages\\tensorflow\\python\\client\\session.py\u001b[0m in \u001b[0;36m_run_fn\u001b[1;34m(feed_dict, fetch_list, target_list, options, run_metadata)\u001b[0m\n\u001b[0;32m   1306\u001b[0m       return self._call_tf_sessionrun(\n\u001b[1;32m-> 1307\u001b[1;33m           options, feed_dict, fetch_list, target_list, run_metadata)\n\u001b[0m\u001b[0;32m   1308\u001b[0m \u001b[1;33m\u001b[0m\u001b[0m\n",
      "\u001b[1;32m~\\Anaconda3\\lib\\site-packages\\tensorflow\\python\\client\\session.py\u001b[0m in \u001b[0;36m_call_tf_sessionrun\u001b[1;34m(self, options, feed_dict, fetch_list, target_list, run_metadata)\u001b[0m\n\u001b[0;32m   1408\u001b[0m           \u001b[0mself\u001b[0m\u001b[1;33m.\u001b[0m\u001b[0m_session\u001b[0m\u001b[1;33m,\u001b[0m \u001b[0moptions\u001b[0m\u001b[1;33m,\u001b[0m \u001b[0mfeed_dict\u001b[0m\u001b[1;33m,\u001b[0m \u001b[0mfetch_list\u001b[0m\u001b[1;33m,\u001b[0m \u001b[0mtarget_list\u001b[0m\u001b[1;33m,\u001b[0m\u001b[1;33m\u001b[0m\u001b[0m\n\u001b[1;32m-> 1409\u001b[1;33m           run_metadata)\n\u001b[0m\u001b[0;32m   1410\u001b[0m     \u001b[1;32melse\u001b[0m\u001b[1;33m:\u001b[0m\u001b[1;33m\u001b[0m\u001b[0m\n",
      "\u001b[1;31mResourceExhaustedError\u001b[0m: OOM when allocating tensor with shape[512,256,28,28] and type float on /job:localhost/replica:0/task:0/device:GPU:0 by allocator GPU_0_bfc\n\t [[Node: mrcnn_mask_deconv_1/conv2d_transpose = Conv2DBackpropInput[T=DT_FLOAT, _class=[\"loc:@train...propFilter\"], data_format=\"NCHW\", dilations=[1, 1, 1, 1], padding=\"VALID\", strides=[1, 1, 2, 2], use_cudnn_on_gpu=true, _device=\"/job:localhost/replica:0/task:0/device:GPU:0\"](mrcnn_mask_deconv_1/conv2d_transpose-0-VecPermuteNHWCToNCHW-LayoutOptimizer/_5653, mrcnn_mask_deconv_1/kernel/read, mrcnn_mask_deconv_1/conv2d_transpose-2-TransposeNHWCToNCHW-LayoutOptimizer)]]\nHint: If you want to see a list of allocated tensors when OOM happens, add report_tensor_allocations_upon_oom to RunOptions for current allocation info.\n\n\t [[Node: mul_103/_5937 = _Recv[client_terminated=false, recv_device=\"/job:localhost/replica:0/task:0/device:CPU:0\", send_device=\"/job:localhost/replica:0/task:0/device:GPU:0\", send_device_incarnation=1, tensor_name=\"edge_8539_mul_103\", tensor_type=DT_FLOAT, _device=\"/job:localhost/replica:0/task:0/device:CPU:0\"]()]]\nHint: If you want to see a list of allocated tensors when OOM happens, add report_tensor_allocations_upon_oom to RunOptions for current allocation info.\n",
      "\nDuring handling of the above exception, another exception occurred:\n",
      "\u001b[1;31mResourceExhaustedError\u001b[0m                    Traceback (most recent call last)",
      "\u001b[1;32m<ipython-input-41-83fb3ae74319>\u001b[0m in \u001b[0;36m<module>\u001b[1;34m()\u001b[0m\n\u001b[0;32m      6\u001b[0m             \u001b[0mlearning_rate\u001b[0m\u001b[1;33m=\u001b[0m\u001b[0mconfig\u001b[0m\u001b[1;33m.\u001b[0m\u001b[0mLEARNING_RATE\u001b[0m\u001b[1;33m,\u001b[0m\u001b[1;33m\u001b[0m\u001b[0m\n\u001b[0;32m      7\u001b[0m             \u001b[0mepochs\u001b[0m\u001b[1;33m=\u001b[0m\u001b[1;36m1\u001b[0m\u001b[1;33m,\u001b[0m\u001b[1;33m\u001b[0m\u001b[0m\n\u001b[1;32m----> 8\u001b[1;33m             layers='heads')\n\u001b[0m",
      "\u001b[1;32m~\\Anaconda3\\lib\\site-packages\\mask_rcnn-2.1-py3.6.egg\\mrcnn\\model.py\u001b[0m in \u001b[0;36mtrain\u001b[1;34m(self, train_dataset, val_dataset, learning_rate, epochs, layers, augmentation)\u001b[0m\n\u001b[0;32m   2326\u001b[0m             \u001b[0mmax_queue_size\u001b[0m\u001b[1;33m=\u001b[0m\u001b[1;36m100\u001b[0m\u001b[1;33m,\u001b[0m\u001b[1;33m\u001b[0m\u001b[0m\n\u001b[0;32m   2327\u001b[0m             \u001b[0mworkers\u001b[0m\u001b[1;33m=\u001b[0m\u001b[0mworkers\u001b[0m\u001b[1;33m,\u001b[0m\u001b[1;33m\u001b[0m\u001b[0m\n\u001b[1;32m-> 2328\u001b[1;33m             \u001b[0muse_multiprocessing\u001b[0m\u001b[1;33m=\u001b[0m\u001b[1;32mTrue\u001b[0m\u001b[1;33m,\u001b[0m\u001b[1;33m\u001b[0m\u001b[0m\n\u001b[0m\u001b[0;32m   2329\u001b[0m         )\n\u001b[0;32m   2330\u001b[0m         \u001b[0mself\u001b[0m\u001b[1;33m.\u001b[0m\u001b[0mepoch\u001b[0m \u001b[1;33m=\u001b[0m \u001b[0mmax\u001b[0m\u001b[1;33m(\u001b[0m\u001b[0mself\u001b[0m\u001b[1;33m.\u001b[0m\u001b[0mepoch\u001b[0m\u001b[1;33m,\u001b[0m \u001b[0mepochs\u001b[0m\u001b[1;33m)\u001b[0m\u001b[1;33m\u001b[0m\u001b[0m\n",
      "\u001b[1;32m~\\Anaconda3\\lib\\site-packages\\keras\\legacy\\interfaces.py\u001b[0m in \u001b[0;36mwrapper\u001b[1;34m(*args, **kwargs)\u001b[0m\n\u001b[0;32m     89\u001b[0m                 warnings.warn('Update your `' + object_name +\n\u001b[0;32m     90\u001b[0m                               '` call to the Keras 2 API: ' + signature, stacklevel=2)\n\u001b[1;32m---> 91\u001b[1;33m             \u001b[1;32mreturn\u001b[0m \u001b[0mfunc\u001b[0m\u001b[1;33m(\u001b[0m\u001b[1;33m*\u001b[0m\u001b[0margs\u001b[0m\u001b[1;33m,\u001b[0m \u001b[1;33m**\u001b[0m\u001b[0mkwargs\u001b[0m\u001b[1;33m)\u001b[0m\u001b[1;33m\u001b[0m\u001b[0m\n\u001b[0m\u001b[0;32m     92\u001b[0m         \u001b[0mwrapper\u001b[0m\u001b[1;33m.\u001b[0m\u001b[0m_original_function\u001b[0m \u001b[1;33m=\u001b[0m \u001b[0mfunc\u001b[0m\u001b[1;33m\u001b[0m\u001b[0m\n\u001b[0;32m     93\u001b[0m         \u001b[1;32mreturn\u001b[0m \u001b[0mwrapper\u001b[0m\u001b[1;33m\u001b[0m\u001b[0m\n",
      "\u001b[1;32m~\\Anaconda3\\lib\\site-packages\\keras\\engine\\training.py\u001b[0m in \u001b[0;36mfit_generator\u001b[1;34m(self, generator, steps_per_epoch, epochs, verbose, callbacks, validation_data, validation_steps, class_weight, max_queue_size, workers, use_multiprocessing, shuffle, initial_epoch)\u001b[0m\n\u001b[0;32m   2228\u001b[0m                     outs = self.train_on_batch(x, y,\n\u001b[0;32m   2229\u001b[0m                                                \u001b[0msample_weight\u001b[0m\u001b[1;33m=\u001b[0m\u001b[0msample_weight\u001b[0m\u001b[1;33m,\u001b[0m\u001b[1;33m\u001b[0m\u001b[0m\n\u001b[1;32m-> 2230\u001b[1;33m                                                class_weight=class_weight)\n\u001b[0m\u001b[0;32m   2231\u001b[0m \u001b[1;33m\u001b[0m\u001b[0m\n\u001b[0;32m   2232\u001b[0m                     \u001b[1;32mif\u001b[0m \u001b[1;32mnot\u001b[0m \u001b[0misinstance\u001b[0m\u001b[1;33m(\u001b[0m\u001b[0mouts\u001b[0m\u001b[1;33m,\u001b[0m \u001b[0mlist\u001b[0m\u001b[1;33m)\u001b[0m\u001b[1;33m:\u001b[0m\u001b[1;33m\u001b[0m\u001b[0m\n",
      "\u001b[1;32m~\\Anaconda3\\lib\\site-packages\\keras\\engine\\training.py\u001b[0m in \u001b[0;36mtrain_on_batch\u001b[1;34m(self, x, y, sample_weight, class_weight)\u001b[0m\n\u001b[0;32m   1881\u001b[0m             \u001b[0mins\u001b[0m \u001b[1;33m=\u001b[0m \u001b[0mx\u001b[0m \u001b[1;33m+\u001b[0m \u001b[0my\u001b[0m \u001b[1;33m+\u001b[0m \u001b[0msample_weights\u001b[0m\u001b[1;33m\u001b[0m\u001b[0m\n\u001b[0;32m   1882\u001b[0m         \u001b[0mself\u001b[0m\u001b[1;33m.\u001b[0m\u001b[0m_make_train_function\u001b[0m\u001b[1;33m(\u001b[0m\u001b[1;33m)\u001b[0m\u001b[1;33m\u001b[0m\u001b[0m\n\u001b[1;32m-> 1883\u001b[1;33m         \u001b[0moutputs\u001b[0m \u001b[1;33m=\u001b[0m \u001b[0mself\u001b[0m\u001b[1;33m.\u001b[0m\u001b[0mtrain_function\u001b[0m\u001b[1;33m(\u001b[0m\u001b[0mins\u001b[0m\u001b[1;33m)\u001b[0m\u001b[1;33m\u001b[0m\u001b[0m\n\u001b[0m\u001b[0;32m   1884\u001b[0m         \u001b[1;32mif\u001b[0m \u001b[0mlen\u001b[0m\u001b[1;33m(\u001b[0m\u001b[0moutputs\u001b[0m\u001b[1;33m)\u001b[0m \u001b[1;33m==\u001b[0m \u001b[1;36m1\u001b[0m\u001b[1;33m:\u001b[0m\u001b[1;33m\u001b[0m\u001b[0m\n\u001b[0;32m   1885\u001b[0m             \u001b[1;32mreturn\u001b[0m \u001b[0moutputs\u001b[0m\u001b[1;33m[\u001b[0m\u001b[1;36m0\u001b[0m\u001b[1;33m]\u001b[0m\u001b[1;33m\u001b[0m\u001b[0m\n",
      "\u001b[1;32m~\\Anaconda3\\lib\\site-packages\\keras\\backend\\tensorflow_backend.py\u001b[0m in \u001b[0;36m__call__\u001b[1;34m(self, inputs)\u001b[0m\n\u001b[0;32m   2480\u001b[0m         \u001b[0msession\u001b[0m \u001b[1;33m=\u001b[0m \u001b[0mget_session\u001b[0m\u001b[1;33m(\u001b[0m\u001b[1;33m)\u001b[0m\u001b[1;33m\u001b[0m\u001b[0m\n\u001b[0;32m   2481\u001b[0m         updated = session.run(fetches=fetches, feed_dict=feed_dict,\n\u001b[1;32m-> 2482\u001b[1;33m                               **self.session_kwargs)\n\u001b[0m\u001b[0;32m   2483\u001b[0m         \u001b[1;32mreturn\u001b[0m \u001b[0mupdated\u001b[0m\u001b[1;33m[\u001b[0m\u001b[1;33m:\u001b[0m\u001b[0mlen\u001b[0m\u001b[1;33m(\u001b[0m\u001b[0mself\u001b[0m\u001b[1;33m.\u001b[0m\u001b[0moutputs\u001b[0m\u001b[1;33m)\u001b[0m\u001b[1;33m]\u001b[0m\u001b[1;33m\u001b[0m\u001b[0m\n\u001b[0;32m   2484\u001b[0m \u001b[1;33m\u001b[0m\u001b[0m\n",
      "\u001b[1;32m~\\Anaconda3\\lib\\site-packages\\tensorflow\\python\\client\\session.py\u001b[0m in \u001b[0;36mrun\u001b[1;34m(self, fetches, feed_dict, options, run_metadata)\u001b[0m\n\u001b[0;32m    898\u001b[0m     \u001b[1;32mtry\u001b[0m\u001b[1;33m:\u001b[0m\u001b[1;33m\u001b[0m\u001b[0m\n\u001b[0;32m    899\u001b[0m       result = self._run(None, fetches, feed_dict, options_ptr,\n\u001b[1;32m--> 900\u001b[1;33m                          run_metadata_ptr)\n\u001b[0m\u001b[0;32m    901\u001b[0m       \u001b[1;32mif\u001b[0m \u001b[0mrun_metadata\u001b[0m\u001b[1;33m:\u001b[0m\u001b[1;33m\u001b[0m\u001b[0m\n\u001b[0;32m    902\u001b[0m         \u001b[0mproto_data\u001b[0m \u001b[1;33m=\u001b[0m \u001b[0mtf_session\u001b[0m\u001b[1;33m.\u001b[0m\u001b[0mTF_GetBuffer\u001b[0m\u001b[1;33m(\u001b[0m\u001b[0mrun_metadata_ptr\u001b[0m\u001b[1;33m)\u001b[0m\u001b[1;33m\u001b[0m\u001b[0m\n",
      "\u001b[1;32m~\\Anaconda3\\lib\\site-packages\\tensorflow\\python\\client\\session.py\u001b[0m in \u001b[0;36m_run\u001b[1;34m(self, handle, fetches, feed_dict, options, run_metadata)\u001b[0m\n\u001b[0;32m   1133\u001b[0m     \u001b[1;32mif\u001b[0m \u001b[0mfinal_fetches\u001b[0m \u001b[1;32mor\u001b[0m \u001b[0mfinal_targets\u001b[0m \u001b[1;32mor\u001b[0m \u001b[1;33m(\u001b[0m\u001b[0mhandle\u001b[0m \u001b[1;32mand\u001b[0m \u001b[0mfeed_dict_tensor\u001b[0m\u001b[1;33m)\u001b[0m\u001b[1;33m:\u001b[0m\u001b[1;33m\u001b[0m\u001b[0m\n\u001b[0;32m   1134\u001b[0m       results = self._do_run(handle, final_targets, final_fetches,\n\u001b[1;32m-> 1135\u001b[1;33m                              feed_dict_tensor, options, run_metadata)\n\u001b[0m\u001b[0;32m   1136\u001b[0m     \u001b[1;32melse\u001b[0m\u001b[1;33m:\u001b[0m\u001b[1;33m\u001b[0m\u001b[0m\n\u001b[0;32m   1137\u001b[0m       \u001b[0mresults\u001b[0m \u001b[1;33m=\u001b[0m \u001b[1;33m[\u001b[0m\u001b[1;33m]\u001b[0m\u001b[1;33m\u001b[0m\u001b[0m\n",
      "\u001b[1;32m~\\Anaconda3\\lib\\site-packages\\tensorflow\\python\\client\\session.py\u001b[0m in \u001b[0;36m_do_run\u001b[1;34m(self, handle, target_list, fetch_list, feed_dict, options, run_metadata)\u001b[0m\n\u001b[0;32m   1314\u001b[0m     \u001b[1;32mif\u001b[0m \u001b[0mhandle\u001b[0m \u001b[1;32mis\u001b[0m \u001b[1;32mNone\u001b[0m\u001b[1;33m:\u001b[0m\u001b[1;33m\u001b[0m\u001b[0m\n\u001b[0;32m   1315\u001b[0m       return self._do_call(_run_fn, feeds, fetches, targets, options,\n\u001b[1;32m-> 1316\u001b[1;33m                            run_metadata)\n\u001b[0m\u001b[0;32m   1317\u001b[0m     \u001b[1;32melse\u001b[0m\u001b[1;33m:\u001b[0m\u001b[1;33m\u001b[0m\u001b[0m\n\u001b[0;32m   1318\u001b[0m       \u001b[1;32mreturn\u001b[0m \u001b[0mself\u001b[0m\u001b[1;33m.\u001b[0m\u001b[0m_do_call\u001b[0m\u001b[1;33m(\u001b[0m\u001b[0m_prun_fn\u001b[0m\u001b[1;33m,\u001b[0m \u001b[0mhandle\u001b[0m\u001b[1;33m,\u001b[0m \u001b[0mfeeds\u001b[0m\u001b[1;33m,\u001b[0m \u001b[0mfetches\u001b[0m\u001b[1;33m)\u001b[0m\u001b[1;33m\u001b[0m\u001b[0m\n",
      "\u001b[1;32m~\\Anaconda3\\lib\\site-packages\\tensorflow\\python\\client\\session.py\u001b[0m in \u001b[0;36m_do_call\u001b[1;34m(self, fn, *args)\u001b[0m\n\u001b[0;32m   1333\u001b[0m         \u001b[1;32mexcept\u001b[0m \u001b[0mKeyError\u001b[0m\u001b[1;33m:\u001b[0m\u001b[1;33m\u001b[0m\u001b[0m\n\u001b[0;32m   1334\u001b[0m           \u001b[1;32mpass\u001b[0m\u001b[1;33m\u001b[0m\u001b[0m\n\u001b[1;32m-> 1335\u001b[1;33m       \u001b[1;32mraise\u001b[0m \u001b[0mtype\u001b[0m\u001b[1;33m(\u001b[0m\u001b[0me\u001b[0m\u001b[1;33m)\u001b[0m\u001b[1;33m(\u001b[0m\u001b[0mnode_def\u001b[0m\u001b[1;33m,\u001b[0m \u001b[0mop\u001b[0m\u001b[1;33m,\u001b[0m \u001b[0mmessage\u001b[0m\u001b[1;33m)\u001b[0m\u001b[1;33m\u001b[0m\u001b[0m\n\u001b[0m\u001b[0;32m   1336\u001b[0m \u001b[1;33m\u001b[0m\u001b[0m\n\u001b[0;32m   1337\u001b[0m   \u001b[1;32mdef\u001b[0m \u001b[0m_extend_graph\u001b[0m\u001b[1;33m(\u001b[0m\u001b[0mself\u001b[0m\u001b[1;33m)\u001b[0m\u001b[1;33m:\u001b[0m\u001b[1;33m\u001b[0m\u001b[0m\n",
      "\u001b[1;31mResourceExhaustedError\u001b[0m: OOM when allocating tensor with shape[512,256,28,28] and type float on /job:localhost/replica:0/task:0/device:GPU:0 by allocator GPU_0_bfc\n\t [[Node: mrcnn_mask_deconv_1/conv2d_transpose = Conv2DBackpropInput[T=DT_FLOAT, _class=[\"loc:@train...propFilter\"], data_format=\"NCHW\", dilations=[1, 1, 1, 1], padding=\"VALID\", strides=[1, 1, 2, 2], use_cudnn_on_gpu=true, _device=\"/job:localhost/replica:0/task:0/device:GPU:0\"](mrcnn_mask_deconv_1/conv2d_transpose-0-VecPermuteNHWCToNCHW-LayoutOptimizer/_5653, mrcnn_mask_deconv_1/kernel/read, mrcnn_mask_deconv_1/conv2d_transpose-2-TransposeNHWCToNCHW-LayoutOptimizer)]]\nHint: If you want to see a list of allocated tensors when OOM happens, add report_tensor_allocations_upon_oom to RunOptions for current allocation info.\n\n\t [[Node: mul_103/_5937 = _Recv[client_terminated=false, recv_device=\"/job:localhost/replica:0/task:0/device:CPU:0\", send_device=\"/job:localhost/replica:0/task:0/device:GPU:0\", send_device_incarnation=1, tensor_name=\"edge_8539_mul_103\", tensor_type=DT_FLOAT, _device=\"/job:localhost/replica:0/task:0/device:CPU:0\"]()]]\nHint: If you want to see a list of allocated tensors when OOM happens, add report_tensor_allocations_upon_oom to RunOptions for current allocation info.\n\n\nCaused by op 'mrcnn_mask_deconv_1/conv2d_transpose', defined at:\n  File \"C:\\Users\\johnl\\Anaconda3\\lib\\runpy.py\", line 193, in _run_module_as_main\n    \"__main__\", mod_spec)\n  File \"C:\\Users\\johnl\\Anaconda3\\lib\\runpy.py\", line 85, in _run_code\n    exec(code, run_globals)\n  File \"C:\\Users\\johnl\\Anaconda3\\lib\\site-packages\\ipykernel_launcher.py\", line 16, in <module>\n    app.launch_new_instance()\n  File \"C:\\Users\\johnl\\Anaconda3\\lib\\site-packages\\traitlets\\config\\application.py\", line 658, in launch_instance\n    app.start()\n  File \"C:\\Users\\johnl\\Anaconda3\\lib\\site-packages\\ipykernel\\kernelapp.py\", line 486, in start\n    self.io_loop.start()\n  File \"C:\\Users\\johnl\\Anaconda3\\lib\\site-packages\\zmq\\eventloop\\ioloop.py\", line 177, in start\n    super(ZMQIOLoop, self).start()\n  File \"C:\\Users\\johnl\\Anaconda3\\lib\\site-packages\\tornado\\ioloop.py\", line 888, in start\n    handler_func(fd_obj, events)\n  File \"C:\\Users\\johnl\\Anaconda3\\lib\\site-packages\\tornado\\stack_context.py\", line 277, in null_wrapper\n    return fn(*args, **kwargs)\n  File \"C:\\Users\\johnl\\Anaconda3\\lib\\site-packages\\zmq\\eventloop\\zmqstream.py\", line 440, in _handle_events\n    self._handle_recv()\n  File \"C:\\Users\\johnl\\Anaconda3\\lib\\site-packages\\zmq\\eventloop\\zmqstream.py\", line 472, in _handle_recv\n    self._run_callback(callback, msg)\n  File \"C:\\Users\\johnl\\Anaconda3\\lib\\site-packages\\zmq\\eventloop\\zmqstream.py\", line 414, in _run_callback\n    callback(*args, **kwargs)\n  File \"C:\\Users\\johnl\\Anaconda3\\lib\\site-packages\\tornado\\stack_context.py\", line 277, in null_wrapper\n    return fn(*args, **kwargs)\n  File \"C:\\Users\\johnl\\Anaconda3\\lib\\site-packages\\ipykernel\\kernelbase.py\", line 283, in dispatcher\n    return self.dispatch_shell(stream, msg)\n  File \"C:\\Users\\johnl\\Anaconda3\\lib\\site-packages\\ipykernel\\kernelbase.py\", line 233, in dispatch_shell\n    handler(stream, idents, msg)\n  File \"C:\\Users\\johnl\\Anaconda3\\lib\\site-packages\\ipykernel\\kernelbase.py\", line 399, in execute_request\n    user_expressions, allow_stdin)\n  File \"C:\\Users\\johnl\\Anaconda3\\lib\\site-packages\\ipykernel\\ipkernel.py\", line 208, in do_execute\n    res = shell.run_cell(code, store_history=store_history, silent=silent)\n  File \"C:\\Users\\johnl\\Anaconda3\\lib\\site-packages\\ipykernel\\zmqshell.py\", line 537, in run_cell\n    return super(ZMQInteractiveShell, self).run_cell(*args, **kwargs)\n  File \"C:\\Users\\johnl\\Anaconda3\\lib\\site-packages\\IPython\\core\\interactiveshell.py\", line 2728, in run_cell\n    interactivity=interactivity, compiler=compiler, result=result)\n  File \"C:\\Users\\johnl\\Anaconda3\\lib\\site-packages\\IPython\\core\\interactiveshell.py\", line 2850, in run_ast_nodes\n    if self.run_code(code, result):\n  File \"C:\\Users\\johnl\\Anaconda3\\lib\\site-packages\\IPython\\core\\interactiveshell.py\", line 2910, in run_code\n    exec(code_obj, self.user_global_ns, self.user_ns)\n  File \"<ipython-input-39-7928c4edfc77>\", line 3, in <module>\n    model_dir=MODEL_DIR)\n  File \"C:\\Users\\johnl\\Anaconda3\\lib\\site-packages\\mask_rcnn-2.1-py3.6.egg\\mrcnn\\model.py\", line 1823, in __init__\n    self.keras_model = self.build(mode=mode, config=config)\n  File \"C:\\Users\\johnl\\Anaconda3\\lib\\site-packages\\mask_rcnn-2.1-py3.6.egg\\mrcnn\\model.py\", line 1985, in build\n    train_bn=config.TRAIN_BN)\n  File \"C:\\Users\\johnl\\Anaconda3\\lib\\site-packages\\mask_rcnn-2.1-py3.6.egg\\mrcnn\\model.py\", line 996, in build_fpn_mask_graph\n    name=\"mrcnn_mask_deconv\")(x)\n  File \"C:\\Users\\johnl\\Anaconda3\\lib\\site-packages\\keras\\engine\\topology.py\", line 619, in __call__\n    output = self.call(inputs, **kwargs)\n  File \"C:\\Users\\johnl\\Anaconda3\\lib\\site-packages\\keras\\layers\\wrappers.py\", line 213, in call\n    y = self.layer.call(inputs, **kwargs)\n  File \"C:\\Users\\johnl\\Anaconda3\\lib\\site-packages\\keras\\layers\\convolutional.py\", line 781, in call\n    data_format=self.data_format)\n  File \"C:\\Users\\johnl\\Anaconda3\\lib\\site-packages\\keras\\backend\\tensorflow_backend.py\", line 3394, in conv2d_transpose\n    data_format=tf_data_format)\n  File \"C:\\Users\\johnl\\Anaconda3\\lib\\site-packages\\tensorflow\\python\\ops\\nn_ops.py\", line 1254, in conv2d_transpose\n    name=name)\n  File \"C:\\Users\\johnl\\Anaconda3\\lib\\site-packages\\tensorflow\\python\\ops\\gen_nn_ops.py\", line 1340, in conv2d_backprop_input\n    dilations=dilations, name=name)\n  File \"C:\\Users\\johnl\\Anaconda3\\lib\\site-packages\\tensorflow\\python\\framework\\op_def_library.py\", line 787, in _apply_op_helper\n    op_def=op_def)\n  File \"C:\\Users\\johnl\\Anaconda3\\lib\\site-packages\\tensorflow\\python\\framework\\ops.py\", line 3392, in create_op\n    op_def=op_def)\n  File \"C:\\Users\\johnl\\Anaconda3\\lib\\site-packages\\tensorflow\\python\\framework\\ops.py\", line 1718, in __init__\n    self._traceback = self._graph._extract_stack()  # pylint: disable=protected-access\n\nResourceExhaustedError (see above for traceback): OOM when allocating tensor with shape[512,256,28,28] and type float on /job:localhost/replica:0/task:0/device:GPU:0 by allocator GPU_0_bfc\n\t [[Node: mrcnn_mask_deconv_1/conv2d_transpose = Conv2DBackpropInput[T=DT_FLOAT, _class=[\"loc:@train...propFilter\"], data_format=\"NCHW\", dilations=[1, 1, 1, 1], padding=\"VALID\", strides=[1, 1, 2, 2], use_cudnn_on_gpu=true, _device=\"/job:localhost/replica:0/task:0/device:GPU:0\"](mrcnn_mask_deconv_1/conv2d_transpose-0-VecPermuteNHWCToNCHW-LayoutOptimizer/_5653, mrcnn_mask_deconv_1/kernel/read, mrcnn_mask_deconv_1/conv2d_transpose-2-TransposeNHWCToNCHW-LayoutOptimizer)]]\nHint: If you want to see a list of allocated tensors when OOM happens, add report_tensor_allocations_upon_oom to RunOptions for current allocation info.\n\n\t [[Node: mul_103/_5937 = _Recv[client_terminated=false, recv_device=\"/job:localhost/replica:0/task:0/device:CPU:0\", send_device=\"/job:localhost/replica:0/task:0/device:GPU:0\", send_device_incarnation=1, tensor_name=\"edge_8539_mul_103\", tensor_type=DT_FLOAT, _device=\"/job:localhost/replica:0/task:0/device:CPU:0\"]()]]\nHint: If you want to see a list of allocated tensors when OOM happens, add report_tensor_allocations_upon_oom to RunOptions for current allocation info.\n\n"
     ]
    }
   ],
   "source": [
    "# Train the head branches\n",
    "# Passing layers=\"heads\" freezes all layers except the head\n",
    "# layers. You can also pass a regular expression to select\n",
    "# which layers to train by name pattern.\n",
    "model.train(dataset_train, dataset_val, \n",
    "            learning_rate=config.LEARNING_RATE, \n",
    "            epochs=1, \n",
    "            layers='heads')"
   ]
  },
  {
   "cell_type": "code",
   "execution_count": null,
   "metadata": {},
   "outputs": [],
   "source": [
    "# Fine tune all layers\n",
    "# Passing layers=\"all\" trains all layers. You can also \n",
    "# pass a regular expression to select which layers to\n",
    "# train by name pattern.\n",
    "model.train(dataset_train, dataset_val, \n",
    "            learning_rate=config.LEARNING_RATE / 10,\n",
    "            epochs=2, \n",
    "            layers=\"all\")"
   ]
  },
  {
   "cell_type": "markdown",
   "metadata": {},
   "source": [
    "## Detection"
   ]
  },
  {
   "cell_type": "code",
   "execution_count": null,
   "metadata": {},
   "outputs": [],
   "source": [
    "class InferenceConfig(ShapesConfig):\n",
    "    GPU_COUNT = 1\n",
    "    IMAGES_PER_GPU = 1\n",
    "\n",
    "inference_config = InferenceConfig()\n",
    "\n",
    "# Recreate the model in inference mode\n",
    "model = modellib.MaskRCNN(mode=\"inference\", \n",
    "                          config=inference_config,\n",
    "                          model_dir=MODEL_DIR)\n",
    "\n",
    "# Get path to saved weights\n",
    "# Either set a specific path or find last trained weights\n",
    "# model_path = os.path.join(ROOT_DIR, \".h5 file name here\")\n",
    "model_path = model.find_last()[1]\n",
    "\n",
    "# Load trained weights (fill in path to trained weights here)\n",
    "assert model_path != \"\", \"Provide path to trained weights\"\n",
    "print(\"Loading weights from \", model_path)\n",
    "model.load_weights(model_path, by_name=True)"
   ]
  },
  {
   "cell_type": "code",
   "execution_count": null,
   "metadata": {},
   "outputs": [],
   "source": [
    "# Test on a random image\n",
    "image_id = random.choice(dataset_val.image_ids)\n",
    "original_image, image_meta, gt_class_id, gt_bbox, gt_mask =\\\n",
    "    modellib.load_image_gt(dataset_val, inference_config, \n",
    "                           image_id, use_mini_mask=False)\n",
    "\n",
    "log(\"original_image\", original_image)\n",
    "log(\"image_meta\", image_meta)\n",
    "log(\"gt_class_id\", gt_class_id)\n",
    "log(\"gt_bbox\", gt_bbox)\n",
    "log(\"gt_mask\", gt_mask)\n",
    "\n",
    "visualize.display_instances(original_image, gt_bbox, gt_mask, gt_class_id, \n",
    "                            dataset_train.class_names, figsize=(8, 8))"
   ]
  },
  {
   "cell_type": "code",
   "execution_count": null,
   "metadata": {},
   "outputs": [],
   "source": [
    "results = model.detect([original_image], verbose=1)\n",
    "\n",
    "r = results[0]\n",
    "visualize.display_instances(original_image, r['rois'], r['masks'], r['class_ids'], \n",
    "                            dataset_val.class_names, r['scores'], ax=get_ax())"
   ]
  },
  {
   "cell_type": "markdown",
   "metadata": {},
   "source": [
    "## Evaluation"
   ]
  },
  {
   "cell_type": "code",
   "execution_count": null,
   "metadata": {},
   "outputs": [],
   "source": [
    "# Compute VOC-Style mAP @ IoU=0.5\n",
    "# Running on 10 images. Increase for better accuracy.\n",
    "image_ids = np.random.choice(dataset_val.image_ids, 10)\n",
    "APs = []\n",
    "for image_id in image_ids:\n",
    "    # Load image and ground truth data\n",
    "    image, image_meta, gt_class_id, gt_bbox, gt_mask =\\\n",
    "        modellib.load_image_gt(dataset_val, inference_config,\n",
    "                               image_id, use_mini_mask=False)\n",
    "    molded_images = np.expand_dims(modellib.mold_image(image, inference_config), 0)\n",
    "    # Run object detection\n",
    "    results = model.detect([image], verbose=0)\n",
    "    r = results[0]\n",
    "    # Compute AP\n",
    "    AP, precisions, recalls, overlaps =\\\n",
    "        utils.compute_ap(gt_bbox, gt_class_id, gt_mask,\n",
    "                         r[\"rois\"], r[\"class_ids\"], r[\"scores\"], r['masks'])\n",
    "    APs.append(AP)\n",
    "    \n",
    "print(\"mAP: \", np.mean(APs))"
   ]
  }
 ],
 "metadata": {
  "kernelspec": {
   "display_name": "Python 3",
   "language": "python",
   "name": "python3"
  },
  "language_info": {
   "codemirror_mode": {
    "name": "ipython",
    "version": 3
   },
   "file_extension": ".py",
   "mimetype": "text/x-python",
   "name": "python",
   "nbconvert_exporter": "python",
   "pygments_lexer": "ipython3",
   "version": "3.6.4"
  }
 },
 "nbformat": 4,
 "nbformat_minor": 2
}
