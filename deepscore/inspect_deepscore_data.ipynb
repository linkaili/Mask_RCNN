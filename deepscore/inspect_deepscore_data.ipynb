{
 "cells": [
  {
   "cell_type": "markdown",
   "metadata": {},
   "source": [
    "# Mask R-CNN for DeepScore"
   ]
  },
  {
   "cell_type": "markdown",
   "metadata": {},
   "source": [
    "For our own dataset DeepScore"
   ]
  },
  {
   "cell_type": "code",
   "execution_count": 1,
   "metadata": {},
   "outputs": [
    {
     "name": "stderr",
     "output_type": "stream",
     "text": [
      "/anaconda3/lib/python3.6/site-packages/h5py/__init__.py:36: FutureWarning: Conversion of the second argument of issubdtype from `float` to `np.floating` is deprecated. In future, it will be treated as `np.float64 == np.dtype(float).type`.\n",
      "  from ._conv import register_converters as _register_converters\n",
      "Using TensorFlow backend.\n"
     ]
    }
   ],
   "source": [
    "import os\n",
    "import sys\n",
    "import itertools\n",
    "import math\n",
    "import logging\n",
    "import json\n",
    "import re\n",
    "import random\n",
    "from collections import OrderedDict\n",
    "import numpy as np\n",
    "import matplotlib\n",
    "import matplotlib.pyplot as plt\n",
    "import matplotlib.patches as patches\n",
    "import matplotlib.lines as lines\n",
    "from matplotlib.patches import Polygon\n",
    "\n",
    "# Root directory of the project\n",
    "ROOT_DIR = os.path.abspath(\"../\")\n",
    "\n",
    "# Import Mask RCNN\n",
    "sys.path.append(ROOT_DIR)  # To find local version of the library\n",
    "from mrcnn import utils\n",
    "from mrcnn import visualize\n",
    "from mrcnn.visualize import display_images\n",
    "import mrcnn.model as modellib\n",
    "from mrcnn.model import log\n",
    "from mrcnn.config import Config\n",
    "\n",
    "\n",
    "%matplotlib inline "
   ]
  },
  {
   "cell_type": "code",
   "execution_count": 45,
   "metadata": {},
   "outputs": [],
   "source": [
    "import datetime\n",
    "import numpy as np\n",
    "\n",
    "# Import Mask RCNN\n",
    "from mrcnn.config import Config\n",
    "from mrcnn import model as modellib, utils\n",
    "\n",
    "# for mask\n",
    "import pathlib\n",
    "from skimage.io import imread, imsave, imshow\n",
    "import numpy as np\n",
    "from scipy import ndimage\n",
    "import matplotlib.pyplot as plt\n",
    "import matplotlib.patches as patchess\n",
    "\n",
    "import skimage\n",
    "\n",
    "# process xml file\n",
    "import xml.etree.ElementTree\n",
    "\n",
    "# Local path to trained weights file\n",
    "COCO_MODEL_PATH = os.path.join(ROOT_DIR, \"mask_rcnn_coco.h5\")\n",
    "# Download COCO trained weights from Releases if needed\n",
    "if not os.path.exists(COCO_MODEL_PATH):\n",
    "    utils.download_trained_weights(COCO_MODEL_PATH)\n",
    "\n",
    "# Directory to save logs and model checkpoints, if not provided\n",
    "# through the command line argument --logs\n",
    "DEFAULT_LOGS_DIR = os.path.join(ROOT_DIR, \"logs\")"
   ]
  },
  {
   "cell_type": "markdown",
   "metadata": {},
   "source": [
    "## Configurations"
   ]
  },
  {
   "cell_type": "code",
   "execution_count": 4,
   "metadata": {},
   "outputs": [
    {
     "name": "stdout",
     "output_type": "stream",
     "text": [
      "\n",
      "Configurations:\n",
      "BACKBONE                       resnet101\n",
      "BACKBONE_STRIDES               [4, 8, 16, 32, 64]\n",
      "BATCH_SIZE                     8\n",
      "BBOX_STD_DEV                   [0.1 0.1 0.2 0.2]\n",
      "DETECTION_MAX_INSTANCES        100\n",
      "DETECTION_MIN_CONFIDENCE       0.7\n",
      "DETECTION_NMS_THRESHOLD        0.3\n",
      "GPU_COUNT                      1\n",
      "GRADIENT_CLIP_NORM             5.0\n",
      "IMAGES_PER_GPU                 8\n",
      "IMAGE_MAX_DIM                  128\n",
      "IMAGE_META_SIZE                127\n",
      "IMAGE_MIN_DIM                  128\n",
      "IMAGE_MIN_SCALE                0\n",
      "IMAGE_RESIZE_MODE              square\n",
      "IMAGE_SHAPE                    [128 128   3]\n",
      "LEARNING_MOMENTUM              0.9\n",
      "LEARNING_RATE                  0.001\n",
      "LOSS_WEIGHTS                   {'rpn_class_loss': 1.0, 'rpn_bbox_loss': 1.0, 'mrcnn_class_loss': 1.0, 'mrcnn_bbox_loss': 1.0, 'mrcnn_mask_loss': 1.0}\n",
      "MASK_POOL_SIZE                 14\n",
      "MASK_SHAPE                     [28, 28]\n",
      "MAX_GT_INSTANCES               100\n",
      "MEAN_PIXEL                     [123.7 116.8 103.9]\n",
      "MINI_MASK_SHAPE                (56, 56)\n",
      "NAME                           symbols\n",
      "NUM_CLASSES                    115\n",
      "POOL_SIZE                      7\n",
      "POST_NMS_ROIS_INFERENCE        1000\n",
      "POST_NMS_ROIS_TRAINING         2000\n",
      "ROI_POSITIVE_RATIO             0.33\n",
      "RPN_ANCHOR_RATIOS              [0.5, 1, 2]\n",
      "RPN_ANCHOR_SCALES              (8, 16, 32, 64, 128)\n",
      "RPN_ANCHOR_STRIDE              1\n",
      "RPN_BBOX_STD_DEV               [0.1 0.1 0.2 0.2]\n",
      "RPN_NMS_THRESHOLD              0.7\n",
      "RPN_TRAIN_ANCHORS_PER_IMAGE    256\n",
      "STEPS_PER_EPOCH                100\n",
      "TRAIN_BN                       False\n",
      "TRAIN_ROIS_PER_IMAGE           32\n",
      "USE_MINI_MASK                  True\n",
      "USE_RPN_ROIS                   True\n",
      "VALIDATION_STEPS               5\n",
      "WEIGHT_DECAY                   0.0001\n",
      "\n",
      "\n"
     ]
    }
   ],
   "source": [
    "class ScoreConfig(Config):\n",
    "    \"\"\"Configuration for training on the toy shapes dataset.\n",
    "    Derives from the base Config class and overrides values specific\n",
    "    to the toy shapes dataset.\n",
    "    \"\"\"\n",
    "    # Give the configuration a recognizable name\n",
    "    NAME = \"symbols\"\n",
    "\n",
    "    # Train on 1 GPU and 8 images per GPU. We can put multiple images on each\n",
    "    # GPU because the images are small. Batch size is 8 (GPUs * images/GPU).\n",
    "    GPU_COUNT = 1\n",
    "    IMAGES_PER_GPU = 8\n",
    "\n",
    "    # Number of classes (including background)\n",
    "    NUM_CLASSES = 1 + 114  # background + 114 symbols\n",
    "\n",
    "    # Use small images for faster training. Set the limits of the small side\n",
    "    # the large side, and that determines the image shape.\n",
    "    IMAGE_MIN_DIM = 128\n",
    "    IMAGE_MAX_DIM = 128\n",
    "\n",
    "    # Use smaller anchors because our image and objects are small\n",
    "    RPN_ANCHOR_SCALES = (8, 16, 32, 64, 128)  # anchor side in pixels\n",
    "\n",
    "    # Reduce training ROIs per image because the images are small and have\n",
    "    # few objects. Aim to allow ROI sampling to pick 33% positive ROIs.\n",
    "    TRAIN_ROIS_PER_IMAGE = 32\n",
    "\n",
    "    # Use a small epoch since the data is simple\n",
    "    STEPS_PER_EPOCH = 100\n",
    "\n",
    "    # use small validation steps since the epoch is small\n",
    "    VALIDATION_STEPS = 5\n",
    "    \n",
    "config = ScoreConfig()\n",
    "config.display()"
   ]
  },
  {
   "cell_type": "markdown",
   "metadata": {},
   "source": [
    "## Notebook Preferences"
   ]
  },
  {
   "cell_type": "code",
   "execution_count": 5,
   "metadata": {},
   "outputs": [],
   "source": [
    "def get_ax(rows=1, cols=1, size=8):\n",
    "    \"\"\"Return a Matplotlib Axes array to be used in\n",
    "    all visualizations in the notebook. Provide a\n",
    "    central point to control graph sizes.\n",
    "    \n",
    "    Change the default size attribute to control the size\n",
    "    of rendered images\n",
    "    \"\"\"\n",
    "    _, ax = plt.subplots(rows, cols, figsize=(size*cols, size*rows))\n",
    "    return ax"
   ]
  },
  {
   "cell_type": "markdown",
   "metadata": {},
   "source": [
    "## Dataset\n",
    "\n",
    "Create a synthetic dataset\n",
    "\n",
    "Extend the Dataset class and add a method to load the shapes dataset, `load_shapes()`, and override the following methods:\n",
    "\n",
    "* load_image()\n",
    "* load_mask()\n",
    "* image_reference()"
   ]
  },
  {
   "cell_type": "code",
   "execution_count": 49,
   "metadata": {},
   "outputs": [],
   "source": [
    "class ScoreDataset(utils.Dataset):\n",
    "    \"\"\"Generates the shapes synthetic dataset. The dataset consists of simple\n",
    "    shapes (triangles, squares, circles) placed randomly on a blank surface.\n",
    "    The images are generated on the fly. No file access required.\n",
    "    \"\"\"\n",
    "\n",
    "    def load_score(self, dataset_dir, subset, split):\n",
    "        \"\"\"Load a subset of the DeepScore dataset.\n",
    "        dataset_dir: Root directory of the dataset.\n",
    "        subset: Subset to load: train or val\n",
    "        \"\"\"\n",
    "    \n",
    "        for key, value in class_dict.items():\n",
    "            self.add_class(\"symbol\", value, key)\n",
    "        # Train or validation dataset? \n",
    "        assert subset in [\"train\", \"val\"]\n",
    "        img_dir = pathlib.Path(dataset_dir).glob('*/images_png/*.png')\n",
    "        \n",
    "        img_sorted = sorted([x for x in img_dir])\n",
    "        xml_dir = pathlib.Path(dataset_dir).glob('*/xml_annotations/*.xml')\n",
    "        \n",
    "        xml_sorted = sorted([x for x in xml_dir])\n",
    "        if subset == \"train\":\n",
    "            img_sorted = img_sorted[:split]\n",
    "            xml_sorted = xml_sorted[:split]\n",
    "        if subset == \"val\":\n",
    "            img_sorted = img_sorted[split:]\n",
    "            xml_sorted = xml_sorted[split:]\n",
    "        \n",
    "        # add images\n",
    "        for i, image_path in enumerate(img_sorted):\n",
    "            image = imread(str(image_path))\n",
    "            \n",
    "            # load_mask() needs the image size to convert polygons to masks.\n",
    "            # Unfortunately, VIA doesn't include it in JSON, so we must read\n",
    "            # the image. This is only managable since the dataset is tiny.\n",
    "            image = skimage.io.imread(image_path)\n",
    "            height, width = image.shape[:2]\n",
    "            image_name = os.path.basename(image_path)\n",
    "            xml_path = xml_sorted[i]\n",
    "            symbols, _, _ = get_symbol_info(xml_path)\n",
    "            \n",
    "            self.add_image(\n",
    "                \"symbol\",\n",
    "                image_id=image_name,\n",
    "                path=image_path,\n",
    "                width=width, height=height,\n",
    "                symbols=symbols)\n",
    "        \n",
    "\n",
    "    def image_reference(self, image_id):\n",
    "        \"\"\"Return the score data of the image.\"\"\"\n",
    "        info = self.image_info[image_id]\n",
    "        if info[\"source\"] == \"symbol\":\n",
    "            return info[\"symbol\"]\n",
    "        else:\n",
    "            super(self.__class__).image_reference(self, image_id)\n",
    "\n",
    "    def load_mask(self, image_id, xml_sorted):\n",
    "        \"\"\"Generate instance masks for an image.\n",
    "        Returns:\n",
    "        masks: A bool array of shape [height, width, instance count] with\n",
    "            one mask per instance.\n",
    "        class_ids: a 1D array of class IDs of the instance masks.\n",
    "        \"\"\"        \n",
    "        image_info = self.image_info[image_id]\n",
    "        if image_info[\"source\"] != \"symbol\":\n",
    "            return super(self.__class__, self).load_mask(image_id)\n",
    "\n",
    "        # image_id == xml_id\n",
    "        symbols = image_info['symbols']\n",
    "        masks = np.zeros([info['height'], info['width'], len(symbols)], dtype=np.uint8)\n",
    "        for i, symbol in enumerate(symbols):\n",
    "            # draw a rectangle of ones on a blank image mask\n",
    "            # coords are row, col, so we should put (y, x), instead of (x, y)\n",
    "            xmin, xmax, ymin, ymax = symbol[1], symbol[2], symbol[3], symbol[4]\n",
    "            masks[ymin:ymax+1, xmin:xmax+1, i] = mask[ymin:ymax+1, xmin:xmax+1]\n",
    "        \n",
    "        # Map class names to class IDs.\n",
    "        class_ids = np.array([self.class_names.index(s[0]) for s in symbols])\n",
    "            \n",
    "        \n",
    "        return mask.astype(np.bool), class_ids.astype(np.int32)"
   ]
  },
  {
   "cell_type": "code",
   "execution_count": null,
   "metadata": {},
   "outputs": [],
   "source": [
    "def train(model):\n",
    "    \"\"\"Train the model.\"\"\"\n",
    "    # Training dataset.\n",
    "    dataset_train = ScoreDataset()\n",
    "    dataset_train.load_score(dataset_dir, \"train\", split)\n",
    "    dataset_train.prepare()\n",
    "\n",
    "    # Validation dataset\n",
    "    dataset_val = ScoreDataset()\n",
    "    dataset_val.load_score(dataset_dir, \"val\", split)\n",
    "    dataset_val.prepare()\n",
    "\n",
    "    # *** This training schedule is an example. Update to your needs ***\n",
    "    # Since we're using a very small dataset, and starting from\n",
    "    # COCO trained weights, we don't need to train too long. Also,\n",
    "    # no need to train all layers, just the heads should do it.\n",
    "    print(\"Training network heads\")\n",
    "    model.train(dataset_train, dataset_val,\n",
    "                learning_rate=config.LEARNING_RATE,\n",
    "                epochs=30,\n",
    "                layers='heads')"
   ]
  },
  {
   "cell_type": "markdown",
   "metadata": {},
   "source": [
    "## Load Dataset"
   ]
  },
  {
   "cell_type": "code",
   "execution_count": 17,
   "metadata": {},
   "outputs": [
    {
     "name": "stdout",
     "output_type": "stream",
     "text": [
      "../../DeepScores_archive0/images_png/lg-100016039-aug-beethoven--page-4.png\n",
      "10000\n",
      "../../DeepScores_archive0/pix_annotations_png/lg-100016039-aug-beethoven--page-4.png\n",
      "../../DeepScores_archive0/xml_annotations/lg-100016039-aug-beethoven--page-4.xml\n"
     ]
    }
   ],
   "source": [
    "# Glob the training data and load a single image path\n",
    "img_paths = pathlib.Path('../../').glob('*/images_png/*.png')\n",
    "img_sorted = sorted([x for x in img_paths])\n",
    "\n",
    "# mask and xml files\n",
    "mask_paths = pathlib.Path('../../').glob('*/pix_annotations_png/*.png')\n",
    "mask_sorted = sorted([x for x in mask_paths])\n",
    "\n",
    "xml_paths = pathlib.Path('../../').glob('*/xml_annotations/*.xml')\n",
    "xml_sorted = sorted([x for x in xml_paths])\n",
    "\n",
    "im_path = img_sorted[0]\n",
    "mask_path = mask_sorted[0]\n",
    "xml_path = xml_sorted[0]\n",
    "num_samples = len(img_sorted)\n",
    "print(im_path)\n",
    "print(len(img_sorted))\n",
    "print(mask_path)\n",
    "print(xml_path)\n",
    "im = imread(str(im_path))\n",
    "mask = imread(str(mask_path))\n",
    "root = xml.etree.ElementTree.parse(str(xml_path)).getroot()\n",
    "size = root.findall('size')\n",
    "width = float(size[0][0].text)\n",
    "height = float(size[0][1].text)"
   ]
  },
  {
   "cell_type": "code",
   "execution_count": 20,
   "metadata": {},
   "outputs": [],
   "source": [
    "# get the information of all symbols in one image\n",
    "def get_symbol_info(xml_path):\n",
    "    root = xml.etree.ElementTree.parse(str(xml_path)).getroot()\n",
    "    size = root.findall('size')\n",
    "    width = float(size[0][0].text)\n",
    "    height = float(size[0][1].text)\n",
    "\n",
    "    symbols = []\n",
    "    symbol_names = set() # use a set to store unique symbol names\n",
    "    rectangles = []\n",
    "\n",
    "    # get the bounding box for each object, multiply with its width and height to get the real pixel coords\n",
    "    for symbol in root.findall('object'):\n",
    "        name = symbol.find('name').text\n",
    "        xmin = round(float(symbol.find('bndbox')[0].text)*width)\n",
    "        xmax = round(float(symbol.find('bndbox')[1].text)*width)\n",
    "        ymin = round(float(symbol.find('bndbox')[2].text)*height)\n",
    "        ymax = round(float(symbol.find('bndbox')[3].text)*height)\n",
    "\n",
    "        current_rectangle = name, (xmin, ymin), xmax - xmin, ymax - ymin\n",
    "        current_symbol = name, xmin, xmax, ymin, ymax, height, width\n",
    "        rectangles.append(current_rectangle)\n",
    "        symbols.append(current_symbol)\n",
    "        symbol_names.add(name)\n",
    "    return symbols, symbol_names, rectangles"
   ]
  },
  {
   "cell_type": "code",
   "execution_count": 21,
   "metadata": {},
   "outputs": [],
   "source": [
    "class_dict = {}\n",
    "symbol_type = set()\n",
    "# form a universal symbol set fot the whole dataset, this can take 3 ~ 5 min\n",
    "for x in xml_sorted:\n",
    "    _, symbol_names,_ = get_symbol_info(x)\n",
    "    symbol_type = symbol_type.union(symbol_names)"
   ]
  },
  {
   "cell_type": "code",
   "execution_count": 22,
   "metadata": {},
   "outputs": [
    {
     "name": "stdout",
     "output_type": "stream",
     "text": [
      "Total number of symbols in the dataset: 114\n",
      "104\n"
     ]
    }
   ],
   "source": [
    "print('Total number of symbols in the dataset:', len(symbol_type))\n",
    "# assign integer numbers for each symbol class\n",
    "i = 0\n",
    "for item in symbol_type:\n",
    "    class_dict[item] = i\n",
    "    i += 1\n",
    "print(class_dict['fClef'])"
   ]
  },
  {
   "cell_type": "code",
   "execution_count": 40,
   "metadata": {},
   "outputs": [],
   "source": [
    "# load dataset\n",
    "# the directory where deepscore folder is in\n",
    "dataset_dir = '../../'\n",
    "# The former split number of data used as training data\n",
    "# The latter num_samples - split number of data used as validation data\n",
    "split = 8000"
   ]
  },
  {
   "cell_type": "code",
   "execution_count": null,
   "metadata": {},
   "outputs": [],
   "source": [
    "# Training dataset\n",
    "dataset_train = ScoreDataset()\n",
    "dataset_train.load_score(dataset_dir, \"train\", split)\n",
    "dataset_train.prepare()\n",
    "\n",
    "# Validation dataset\n",
    "dataset_val = ScoreDataset()\n",
    "dataset_val.load_shapes(dataset_dir, \"val\", split)\n",
    "dataset_val.prepare()"
   ]
  },
  {
   "cell_type": "code",
   "execution_count": null,
   "metadata": {},
   "outputs": [],
   "source": [
    "image_ids = np.random.choice(dataset_train.image_ids, 4)\n",
    "for image_id in image_ids:\n",
    "    image = dataset_train.load_image(image_id)\n",
    "    mask, class_ids = dataset_train.load_mask(image_id)\n",
    "    visualize.display_top_masks(image, mask, class_ids, dataset_train.class_names)"
   ]
  },
  {
   "cell_type": "code",
   "execution_count": null,
   "metadata": {},
   "outputs": [],
   "source": []
  }
 ],
 "metadata": {
  "kernelspec": {
   "display_name": "Python 3",
   "language": "python",
   "name": "python3"
  },
  "language_info": {
   "codemirror_mode": {
    "name": "ipython",
    "version": 3
   },
   "file_extension": ".py",
   "mimetype": "text/x-python",
   "name": "python",
   "nbconvert_exporter": "python",
   "pygments_lexer": "ipython3",
   "version": "3.6.4"
  }
 },
 "nbformat": 4,
 "nbformat_minor": 2
}
