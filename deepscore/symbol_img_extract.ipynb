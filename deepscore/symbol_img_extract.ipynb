{
 "cells": [
  {
   "cell_type": "code",
   "execution_count": 1,
   "metadata": {},
   "outputs": [],
   "source": [
    "import pathlib\n",
    "import os\n",
    "from skimage.io import imread, imsave, imshow\n",
    "import numpy as np\n",
    "from scipy import ndimage\n",
    "import matplotlib.pyplot as plt\n",
    "import matplotlib.patches as patches\n",
    "% matplotlib inline\n",
    "\n",
    "# process xml file\n",
    "import xml.etree.ElementTree\n",
    "\n",
    "# add progress bar when storing symbol data, installation from: https://github.com/tqdm/tqdm#installation\n",
    "from tqdm import tqdm"
   ]
  },
  {
   "cell_type": "code",
   "execution_count": 2,
   "metadata": {},
   "outputs": [
    {
     "name": "stdout",
     "output_type": "stream",
     "text": [
      "total number of images 10000\n",
      "..\\..\\Mask_RCNN\\images_png\\lg-100016039-aug-beethoven--page-4.png\n",
      "..\\..\\Mask_RCNN\\pix_annotations_png\\lg-100016039-aug-beethoven--page-4.png\n",
      "..\\..\\Mask_RCNN\\xml_annotations\\lg-100016039-aug-beethoven--page-4.xml\n"
     ]
    }
   ],
   "source": [
    "# Glob the training data and load a single image path\n",
    "# TODO: change this path to fit your dataset path\n",
    "training_img_paths = pathlib.Path('../../').glob('*/images_png/*.png')\n",
    "training_img_sorted = sorted([x for x in training_img_paths])\n",
    "print('total number of images', len(training_img_sorted))\n",
    "\n",
    "# mask and xml files\n",
    "training_mask_paths = pathlib.Path('../../').glob('*/pix_annotations_png/*.png')\n",
    "training_mask_sorted = sorted([x for x in training_mask_paths])\n",
    "\n",
    "training_xml_paths = pathlib.Path('../../').glob('*/xml_annotations/*.xml')\n",
    "training_xml_sorted = sorted([x for x in training_xml_paths])\n",
    "\n",
    "im_path = training_img_sorted[0]\n",
    "mask_path = training_mask_sorted[0]\n",
    "xml_path = training_xml_sorted[0]\n",
    "print(im_path)\n",
    "print(mask_path)\n",
    "print(xml_path)\n",
    "im = imread(str(im_path))\n",
    "mask = imread(str(mask_path))"
   ]
  },
  {
   "cell_type": "code",
   "execution_count": 7,
   "metadata": {},
   "outputs": [
    {
     "data": {
      "text/plain": [
       "<matplotlib.image.AxesImage at 0x1b08a328550>"
      ]
     },
     "execution_count": 7,
     "metadata": {},
     "output_type": "execute_result"
    },
    {
     "data": {
      "image/png": "[encoded data removed]",
      "text/plain": [
       "<matplotlib.figure.Figure at 0x1b08aab3ac8>"
      ]
     },
     "metadata": {},
     "output_type": "display_data"
    }
   ],
   "source": [
    "# show the image and mask to check they are consistent\n",
    "plt.figure(figsize = (6, 8))\n",
    "plt.subplot(211)\n",
    "plt.imshow(im)\n",
    "\n",
    "plt.subplot(212)\n",
    "plt.imshow(mask, cmap = 'gray')"
   ]
  },
  {
   "cell_type": "code",
   "execution_count": 8,
   "metadata": {},
   "outputs": [
    {
     "name": "stdout",
     "output_type": "stream",
     "text": [
      "Total number of symbols in the whole dataset: 114\n",
      "The integer value for fClef is: 85\n"
     ]
    }
   ],
   "source": [
    "# uncomment this cell if you want to load previous symbol dict\n",
    "class_dict = np.load('class_dict.npy').item()\n",
    "print('Total number of symbols in the whole dataset:', len(class_dict))\n",
    "print('The integer value for fClef is:', class_dict['fClef'])"
   ]
  },
  {
   "cell_type": "code",
   "execution_count": 3,
   "metadata": {},
   "outputs": [],
   "source": [
    "# get the information of all symbols in one image\n",
    "def get_symbol_info(xml_path):\n",
    "    root = xml.etree.ElementTree.parse(str(xml_path)).getroot()\n",
    "    size = root.findall('size')\n",
    "    width = float(size[0][0].text)\n",
    "    height = float(size[0][1].text)\n",
    "#     print(width, height)\n",
    "\n",
    "    symbols = []\n",
    "#     symbol_names = set() # use a set to store unique symbol names\n",
    "#     rectangles = []\n",
    "\n",
    "    # get the bounding box for each object, multiply with its width and height to get the real pixel coords\n",
    "    for symbol in root.findall('object'):\n",
    "        name = symbol.find('name').text\n",
    "        xmin = round(float(symbol.find('bndbox')[0].text)*width)\n",
    "        xmax = round(float(symbol.find('bndbox')[1].text)*width)\n",
    "        ymin = round(float(symbol.find('bndbox')[2].text)*height)\n",
    "        ymax = round(float(symbol.find('bndbox')[3].text)*height)\n",
    "\n",
    "#         current_rectangle = name, (xmin, ymin), xmax - xmin, ymax - ymin\n",
    "        current_symbol = name, xmin, xmax, ymin, ymax\n",
    "#         rectangles.append(current_rectangle)\n",
    "        symbols.append(current_symbol)\n",
    "#         symbol_names.add(name)\n",
    "    return symbols"
   ]
  },
  {
   "cell_type": "code",
   "execution_count": 4,
   "metadata": {},
   "outputs": [
    {
     "name": "stdout",
     "output_type": "stream",
     "text": [
      "[('accidentalSharp', 1802, 1827, 125, 193), ('noteheadBlack', 2060, 2089, 181, 206), ('noteheadWhole', 2060, 2100, 647, 673), ('noteheadWhole', 2060, 2100, 602, 627), ('noteheadWhole', 2060, 2100, 567, 593), ('noteheadBlack', 2060, 2089, 3039, 3065), ('noteheadBlack', 2060, 2089, 204, 229), ('accidentalSharp', 2027, 2052, 546, 614), ('accidentalSharp', 1998, 2022, 580, 648), ('accidentalSharp', 2027, 2052, 626, 694)]\n"
     ]
    }
   ],
   "source": [
    "symbols = get_symbol_info(xml_path)\n",
    "# symbols_sorted = sorted(symbols, key=lambda element: (element[1], element[2], element[3], element[4]))\n",
    "print(symbols[:10])"
   ]
  },
  {
   "cell_type": "code",
   "execution_count": 16,
   "metadata": {},
   "outputs": [
    {
     "name": "stdout",
     "output_type": "stream",
     "text": [
      "True\n"
     ]
    }
   ],
   "source": [
    "# _, filename = os.path.split(im_path)\n",
    "# print(type(filename))\n",
    "# data_dir = \"D:/Downloads/cs231n-project/dataset/symbol_data/\"\n",
    "# if not os.path.isdir(data_dir + 'blacknote'):\n",
    "#     os.makedirs(data_dir + 'blacknote')\n",
    "\n",
    "data_dir = \"D:/Downloads/DeepScores_archive0/Mask_RCNN\" \n",
    "print(os.path.isdir(data_dir))"
   ]
  },
  {
   "cell_type": "code",
   "execution_count": 6,
   "metadata": {},
   "outputs": [
    {
     "name": "stdout",
     "output_type": "stream",
     "text": [
      "total number of images in the dataset 10000\n"
     ]
    }
   ],
   "source": [
    "# prepare the correct data organization structure suitable for Pytorch training\n",
    "# TODO: change this folder name where you want to store the data\n",
    "train_dir = \"D:/Downloads/DeepScores_archive0/Mask_RCNN/symbol_data/train/\" # store train, val, test into different folders\n",
    "val_dir = \"D:/Downloads/DeepScores_archive0/Mask_RCNN/symbol_data/val/\"\n",
    "test_dir = \"D:/Downloads/DeepScores_archive0/Mask_RCNN/symbol_data/test/\"\n",
    "\n",
    "print('total number of images in the dataset', len(training_img_sorted))\n",
    "num_train = 8000\n",
    "num_val = 1000\n",
    "num_test = 1000\n"
   ]
  },
  {
   "cell_type": "code",
   "execution_count": null,
   "metadata": {},
   "outputs": [],
   "source": [
    "# prepare training data\n",
    "for ind in tqdm(range(num_train)):\n",
    "    im_path = training_img_sorted[ind]\n",
    "    xml_path = training_xml_sorted[ind]\n",
    "    im = imread(str(im_path))\n",
    "    symbols = get_symbol_info(xml_path)\n",
    "    for i, symbol in enumerate(symbols):\n",
    "        _, img_name = os.path.split(im_path)\n",
    "        name, xmin, xmax, ymin, ymax = symbol[0], symbol[1], symbol[2], symbol[3], symbol[4]\n",
    "        # if dir not exist, create one before storing the data\n",
    "        if not os.path.isdir(train_dir + name):\n",
    "            os.makedirs(train_dir + name)\n",
    "\n",
    "        # store the cropped single symbol into folder\n",
    "        filename = os.path.join(train_dir, name, img_name+str(i)+'.png')\n",
    "        imsave(filename, im[ymin:ymax+1, xmin:xmax+1, :])\n",
    "\n",
    "print('training data preparation finished!')"
   ]
  },
  {
   "cell_type": "code",
   "execution_count": 22,
   "metadata": {},
   "outputs": [
    {
     "name": "stderr",
     "output_type": "stream",
     "text": [
      "\n",
      "  0%|                                                                                          | 0/300 [00:00<?, ?it/s]\n",
      "  0%|▎                                                                                 | 1/300 [00:01<09:14,  1.86s/it]\n",
      "  1%|▌                                                                                 | 2/300 [00:02<06:52,  1.38s/it]\n",
      "  1%|▊                                                                                 | 3/300 [00:04<07:11,  1.45s/it]\n",
      "  1%|█                                                                                 | 4/300 [00:05<06:16,  1.27s/it]\n",
      "  2%|█▎                                                                                | 5/300 [00:05<05:21,  1.09s/it]\n",
      "  2%|█▋                                                                                | 6/300 [00:05<04:48,  1.02it/s]\n",
      "  2%|█▉                                                                                | 7/300 [00:06<04:38,  1.05it/s]\n",
      "  3%|██▏                                                                               | 8/300 [00:07<04:20,  1.12it/s]\n",
      "  3%|██▍                                                                               | 9/300 [00:07<04:05,  1.19it/s]\n",
      "  3%|██▋                                                                              | 10/300 [00:08<03:55,  1.23it/s]\n",
      "  4%|██▉                                                                              | 11/300 [00:08<03:44,  1.29it/s]\n",
      "  4%|███▏                                                                             | 12/300 [00:08<03:30,  1.37it/s]\n",
      "  4%|███▌                                                                             | 13/300 [00:09<03:20,  1.43it/s]\n",
      "  5%|███▊                                                                             | 14/300 [00:09<03:18,  1.44it/s]\n",
      "  5%|████                                                                             | 15/300 [00:10<03:15,  1.46it/s]\n",
      "  5%|████▎                                                                            | 16/300 [00:10<03:13,  1.46it/s]\n",
      "  6%|████▌                                                                            | 17/300 [00:11<03:14,  1.45it/s]\n",
      "  6%|████▊                                                                            | 18/300 [00:12<03:16,  1.44it/s]\n",
      "  6%|█████▏                                                                           | 19/300 [00:13<03:18,  1.42it/s]\n",
      "  7%|█████▍                                                                           | 20/300 [00:13<03:12,  1.45it/s]\n",
      "  7%|█████▋                                                                           | 21/300 [00:14<03:06,  1.50it/s]\n",
      "  7%|█████▉                                                                           | 22/300 [00:14<03:06,  1.49it/s]\n",
      "  8%|██████▏                                                                          | 23/300 [00:15<03:01,  1.53it/s]\n",
      "  8%|██████▍                                                                          | 24/300 [00:15<02:58,  1.54it/s]\n",
      "  8%|██████▊                                                                          | 25/300 [00:16<03:00,  1.53it/s]\n",
      "  9%|███████                                                                          | 26/300 [00:17<02:59,  1.53it/s]\n",
      "  9%|███████▎                                                                         | 27/300 [00:17<02:54,  1.56it/s]\n",
      "  9%|███████▌                                                                         | 28/300 [00:18<02:56,  1.54it/s]\n",
      " 10%|███████▊                                                                         | 29/300 [00:18<02:54,  1.56it/s]\n",
      " 10%|████████                                                                         | 30/300 [00:18<02:50,  1.59it/s]\n",
      " 10%|████████▎                                                                        | 31/300 [00:19<02:47,  1.61it/s]\n",
      " 11%|████████▋                                                                        | 32/300 [00:20<02:50,  1.57it/s]\n",
      " 11%|████████▉                                                                        | 33/300 [00:20<02:48,  1.58it/s]\n",
      " 11%|█████████▏                                                                       | 34/300 [00:21<02:48,  1.58it/s]\n",
      " 12%|█████████▍                                                                       | 35/300 [00:22<02:47,  1.59it/s]\n",
      " 12%|█████████▋                                                                       | 36/300 [00:22<02:48,  1.57it/s]\n",
      " 12%|█████████▉                                                                       | 37/300 [00:23<02:46,  1.58it/s]\n",
      " 13%|██████████▎                                                                      | 38/300 [00:23<02:43,  1.60it/s]\n",
      " 13%|██████████▌                                                                      | 39/300 [00:24<02:41,  1.62it/s]\n",
      " 13%|██████████▊                                                                      | 40/300 [00:24<02:40,  1.62it/s]\n",
      " 14%|███████████                                                                      | 41/300 [00:25<02:38,  1.64it/s]\n",
      " 14%|███████████▎                                                                     | 42/300 [00:25<02:36,  1.65it/s]\n",
      " 14%|███████████▌                                                                     | 43/300 [00:25<02:34,  1.66it/s]\n",
      " 15%|███████████▉                                                                     | 44/300 [00:26<02:32,  1.68it/s]\n",
      " 15%|████████████▏                                                                    | 45/300 [00:26<02:31,  1.69it/s]\n",
      " 15%|████████████▍                                                                    | 46/300 [00:26<02:28,  1.71it/s]\n",
      " 16%|████████████▋                                                                    | 47/300 [00:28<02:30,  1.68it/s]\n",
      " 16%|████████████▉                                                                    | 48/300 [00:29<02:33,  1.64it/s]\n",
      " 16%|█████████████▏                                                                   | 49/300 [00:32<02:44,  1.53it/s]\n",
      " 17%|█████████████▌                                                                   | 50/300 [00:33<02:46,  1.50it/s]\n",
      " 17%|█████████████▊                                                                   | 51/300 [00:36<02:57,  1.40it/s]\n",
      " 17%|██████████████                                                                   | 52/300 [00:37<02:58,  1.39it/s]\n",
      " 18%|██████████████▎                                                                  | 53/300 [00:38<03:00,  1.37it/s]\n",
      " 18%|██████████████▌                                                                  | 54/300 [00:39<03:01,  1.35it/s]\n",
      " 18%|██████████████▊                                                                  | 55/300 [00:42<03:07,  1.31it/s]\n",
      " 19%|███████████████                                                                  | 56/300 [00:45<03:16,  1.24it/s]\n",
      " 19%|███████████████▍                                                                 | 57/300 [00:48<03:24,  1.19it/s]\n",
      " 19%|███████████████▋                                                                 | 58/300 [00:48<03:22,  1.19it/s]\n",
      " 20%|███████████████▉                                                                 | 59/300 [00:49<03:23,  1.18it/s]\n",
      " 20%|████████████████▏                                                                | 60/300 [00:51<03:24,  1.17it/s]\n",
      " 20%|████████████████▍                                                                | 61/300 [00:53<03:28,  1.15it/s]\n",
      " 21%|████████████████▋                                                                | 62/300 [00:55<03:31,  1.12it/s]\n",
      " 21%|█████████████████                                                                | 63/300 [00:56<03:34,  1.11it/s]\n",
      " 21%|█████████████████▎                                                               | 64/300 [00:59<03:37,  1.08it/s]\n",
      " 22%|█████████████████▌                                                               | 65/300 [01:01<03:42,  1.06it/s]\n",
      " 22%|█████████████████▊                                                               | 66/300 [01:05<03:52,  1.00it/s]\n",
      " 22%|██████████████████                                                               | 67/300 [01:07<03:54,  1.00s/it]\n",
      " 23%|██████████████████▎                                                              | 68/300 [01:08<03:55,  1.01s/it]\n",
      " 23%|██████████████████▋                                                              | 69/300 [01:09<03:54,  1.01s/it]\n",
      " 23%|██████████████████▉                                                              | 70/300 [01:12<03:57,  1.03s/it]\n",
      " 24%|███████████████████▏                                                             | 71/300 [01:14<03:58,  1.04s/it]\n",
      " 24%|███████████████████▍                                                             | 72/300 [01:14<03:55,  1.04s/it]\n",
      " 24%|███████████████████▋                                                             | 73/300 [01:15<03:54,  1.03s/it]\n",
      " 25%|███████████████████▉                                                             | 74/300 [01:16<03:52,  1.03s/it]\n",
      " 25%|████████████████████▎                                                            | 75/300 [01:17<03:53,  1.04s/it]\n",
      " 25%|████████████████████▌                                                            | 76/300 [01:18<03:52,  1.04s/it]\n",
      " 26%|████████████████████▊                                                            | 77/300 [01:20<03:52,  1.04s/it]\n",
      " 26%|█████████████████████                                                            | 78/300 [01:21<03:51,  1.04s/it]\n",
      " 26%|█████████████████████▎                                                           | 79/300 [01:21<03:48,  1.03s/it]\n",
      " 27%|█████████████████████▌                                                           | 80/300 [01:23<03:49,  1.04s/it]\n",
      " 27%|█████████████████████▊                                                           | 81/300 [01:24<03:49,  1.05s/it]\n",
      " 27%|██████████████████████▏                                                          | 82/300 [01:26<03:48,  1.05s/it]\n",
      " 28%|██████████████████████▍                                                          | 83/300 [01:26<03:45,  1.04s/it]\n",
      " 28%|██████████████████████▋                                                          | 84/300 [01:27<03:46,  1.05s/it]\n",
      " 28%|██████████████████████▉                                                          | 85/300 [01:28<03:43,  1.04s/it]\n",
      " 29%|███████████████████████▏                                                         | 86/300 [01:28<03:40,  1.03s/it]\n",
      " 29%|███████████████████████▍                                                         | 87/300 [01:28<03:37,  1.02s/it]\n",
      " 29%|███████████████████████▊                                                         | 88/300 [01:30<03:37,  1.03s/it]\n",
      " 30%|████████████████████████                                                         | 89/300 [01:31<03:37,  1.03s/it]\n",
      " 30%|████████████████████████▎                                                        | 90/300 [01:32<03:35,  1.03s/it]\n",
      " 30%|████████████████████████▌                                                        | 91/300 [01:33<03:33,  1.02s/it]\n",
      " 31%|████████████████████████▊                                                        | 92/300 [01:33<03:30,  1.01s/it]\n",
      " 31%|█████████████████████████                                                        | 93/300 [01:36<03:34,  1.04s/it]\n",
      " 31%|█████████████████████████▍                                                       | 94/300 [01:37<03:34,  1.04s/it]\n",
      " 32%|█████████████████████████▋                                                       | 95/300 [01:38<03:33,  1.04s/it]\n",
      " 32%|█████████████████████████▉                                                       | 96/300 [01:39<03:32,  1.04s/it]\n",
      " 32%|██████████████████████████▏                                                      | 97/300 [01:40<03:30,  1.04s/it]\n",
      " 33%|██████████████████████████▍                                                      | 98/300 [01:40<03:28,  1.03s/it]\n",
      " 33%|██████████████████████████▋                                                      | 99/300 [01:42<03:27,  1.03s/it]\n",
      " 33%|██████████████████████████▋                                                     | 100/300 [01:42<03:25,  1.03s/it]\n",
      " 34%|██████████████████████████▉                                                     | 101/300 [01:43<03:24,  1.03s/it]\n",
      " 34%|███████████████████████████▏                                                    | 102/300 [01:45<03:25,  1.04s/it]\n",
      " 34%|███████████████████████████▍                                                    | 103/300 [01:46<03:23,  1.03s/it]\n",
      " 35%|███████████████████████████▋                                                    | 104/300 [01:47<03:22,  1.03s/it]\n",
      " 35%|████████████████████████████                                                    | 105/300 [01:47<03:20,  1.03s/it]\n",
      " 35%|████████████████████████████▎                                                   | 106/300 [01:48<03:19,  1.03s/it]\n",
      " 36%|████████████████████████████▌                                                   | 107/300 [01:50<03:19,  1.03s/it]\n",
      " 36%|████████████████████████████▊                                                   | 108/300 [01:51<03:18,  1.03s/it]\n",
      " 36%|█████████████████████████████                                                   | 109/300 [01:53<03:18,  1.04s/it]\n",
      " 37%|█████████████████████████████▎                                                  | 110/300 [01:54<03:17,  1.04s/it]\n",
      " 37%|█████████████████████████████▌                                                  | 111/300 [01:55<03:16,  1.04s/it]\n",
      " 37%|█████████████████████████████▊                                                  | 112/300 [01:56<03:15,  1.04s/it]\n",
      " 38%|██████████████████████████████▏                                                 | 113/300 [01:57<03:13,  1.04s/it]\n",
      " 38%|██████████████████████████████▍                                                 | 114/300 [01:58<03:13,  1.04s/it]\n",
      " 38%|██████████████████████████████▋                                                 | 115/300 [01:59<03:12,  1.04s/it]\n",
      " 39%|██████████████████████████████▉                                                 | 116/300 [02:00<03:11,  1.04s/it]\n",
      " 39%|███████████████████████████████▏                                                | 117/300 [02:01<03:09,  1.04s/it]\n",
      " 39%|███████████████████████████████▍                                                | 118/300 [02:02<03:08,  1.04s/it]\n",
      " 40%|███████████████████████████████▋                                                | 119/300 [02:02<03:06,  1.03s/it]\n",
      " 40%|████████████████████████████████                                                | 120/300 [02:03<03:05,  1.03s/it]\n",
      " 40%|████████████████████████████████▎                                               | 121/300 [02:03<03:03,  1.02s/it]\n",
      " 41%|████████████████████████████████▌                                               | 122/300 [02:06<03:04,  1.04s/it]\n",
      " 41%|████████████████████████████████▊                                               | 123/300 [02:07<03:03,  1.04s/it]\n",
      " 41%|█████████████████████████████████                                               | 124/300 [02:08<03:02,  1.04s/it]\n",
      " 42%|█████████████████████████████████▎                                              | 125/300 [02:11<03:03,  1.05s/it]\n",
      " 42%|█████████████████████████████████▌                                              | 126/300 [02:12<03:03,  1.05s/it]\n",
      " 42%|█████████████████████████████████▊                                              | 127/300 [02:13<03:01,  1.05s/it]\n",
      " 43%|██████████████████████████████████▏                                             | 128/300 [02:13<02:59,  1.05s/it]\n",
      " 43%|██████████████████████████████████▍                                             | 129/300 [02:15<03:00,  1.05s/it]\n",
      " 43%|██████████████████████████████████▋                                             | 130/300 [02:17<02:59,  1.05s/it]\n",
      " 44%|██████████████████████████████████▉                                             | 131/300 [02:18<02:58,  1.05s/it]\n",
      " 44%|███████████████████████████████████▏                                            | 132/300 [02:19<02:57,  1.06s/it]\n",
      " 44%|███████████████████████████████████▍                                            | 133/300 [02:23<02:59,  1.08s/it]\n",
      " 45%|███████████████████████████████████▋                                            | 134/300 [02:23<02:57,  1.07s/it]\n",
      " 45%|████████████████████████████████████                                            | 135/300 [02:24<02:56,  1.07s/it]\n"
     ]
    },
    {
     "name": "stderr",
     "output_type": "stream",
     "text": [
      " 45%|████████████████████████████████████▎                                           | 136/300 [02:26<02:56,  1.08s/it]\n",
      " 46%|████████████████████████████████████▌                                           | 137/300 [02:28<02:56,  1.08s/it]\n",
      " 46%|████████████████████████████████████▊                                           | 138/300 [02:29<02:55,  1.09s/it]\n",
      " 46%|█████████████████████████████████████                                           | 139/300 [02:30<02:54,  1.08s/it]\n",
      " 47%|█████████████████████████████████████▎                                          | 140/300 [02:31<02:53,  1.08s/it]\n",
      " 47%|█████████████████████████████████████▌                                          | 141/300 [02:34<02:53,  1.09s/it]\n",
      " 47%|█████████████████████████████████████▊                                          | 142/300 [02:35<02:53,  1.10s/it]\n",
      " 48%|██████████████████████████████████████▏                                         | 143/300 [02:36<02:51,  1.10s/it]\n",
      " 48%|██████████████████████████████████████▍                                         | 144/300 [02:38<02:51,  1.10s/it]\n",
      " 48%|██████████████████████████████████████▋                                         | 145/300 [02:39<02:50,  1.10s/it]\n",
      " 49%|██████████████████████████████████████▉                                         | 146/300 [02:40<02:49,  1.10s/it]\n",
      " 49%|███████████████████████████████████████▏                                        | 147/300 [02:42<02:49,  1.11s/it]\n",
      " 49%|███████████████████████████████████████▍                                        | 148/300 [02:43<02:47,  1.10s/it]C:\\Users\\johnl\\Anaconda3\\lib\\site-packages\\skimage\\io\\_io.py:132: UserWarning: D:/Downloads/DeepScores_archive0/Mask_RCNN/symbol_data/val/articStaccatoBelow\\lg-692291212817757934-aug-emmentaler--page-4.png437.png is a low contrast image\n",
      "  warn('%s is a low contrast image' % fname)\n",
      "C:\\Users\\johnl\\Anaconda3\\lib\\site-packages\\skimage\\io\\_io.py:132: UserWarning: D:/Downloads/DeepScores_archive0/Mask_RCNN/symbol_data/val/articStaccatoBelow\\lg-692291212817757934-aug-emmentaler--page-4.png552.png is a low contrast image\n",
      "  warn('%s is a low contrast image' % fname)\n",
      "C:\\Users\\johnl\\Anaconda3\\lib\\site-packages\\skimage\\io\\_io.py:132: UserWarning: D:/Downloads/DeepScores_archive0/Mask_RCNN/symbol_data/val/articStaccatoBelow\\lg-692291212817757934-aug-emmentaler--page-4.png560.png is a low contrast image\n",
      "  warn('%s is a low contrast image' % fname)\n",
      "C:\\Users\\johnl\\Anaconda3\\lib\\site-packages\\skimage\\io\\_io.py:132: UserWarning: D:/Downloads/DeepScores_archive0/Mask_RCNN/symbol_data/val/articStaccatoBelow\\lg-692291212817757934-aug-emmentaler--page-4.png572.png is a low contrast image\n",
      "  warn('%s is a low contrast image' % fname)\n",
      "C:\\Users\\johnl\\Anaconda3\\lib\\site-packages\\skimage\\io\\_io.py:132: UserWarning: D:/Downloads/DeepScores_archive0/Mask_RCNN/symbol_data/val/articStaccatoBelow\\lg-692291212817757934-aug-emmentaler--page-4.png586.png is a low contrast image\n",
      "  warn('%s is a low contrast image' % fname)\n",
      "C:\\Users\\johnl\\Anaconda3\\lib\\site-packages\\skimage\\io\\_io.py:132: UserWarning: D:/Downloads/DeepScores_archive0/Mask_RCNN/symbol_data/val/articStaccatoBelow\\lg-692291212817757934-aug-emmentaler--page-4.png592.png is a low contrast image\n",
      "  warn('%s is a low contrast image' % fname)\n",
      "\n",
      " 50%|███████████████████████████████████████▋                                        | 149/300 [02:45<02:47,  1.11s/it]C:\\Users\\johnl\\Anaconda3\\lib\\site-packages\\skimage\\io\\_io.py:132: UserWarning: D:/Downloads/DeepScores_archive0/Mask_RCNN/symbol_data/val/articStaccatoBelow\\lg-692291212817757934-aug-lilyjazz--page-4.png398.png is a low contrast image\n",
      "  warn('%s is a low contrast image' % fname)\n",
      "C:\\Users\\johnl\\Anaconda3\\lib\\site-packages\\skimage\\io\\_io.py:132: UserWarning: D:/Downloads/DeepScores_archive0/Mask_RCNN/symbol_data/val/articStaccatoBelow\\lg-692291212817757934-aug-lilyjazz--page-4.png552.png is a low contrast image\n",
      "  warn('%s is a low contrast image' % fname)\n",
      "C:\\Users\\johnl\\Anaconda3\\lib\\site-packages\\skimage\\io\\_io.py:132: UserWarning: D:/Downloads/DeepScores_archive0/Mask_RCNN/symbol_data/val/articStaccatoBelow\\lg-692291212817757934-aug-lilyjazz--page-4.png586.png is a low contrast image\n",
      "  warn('%s is a low contrast image' % fname)\n",
      "\n",
      " 50%|████████████████████████████████████████                                        | 150/300 [02:48<02:48,  1.13s/it]\n",
      " 50%|████████████████████████████████████████▎                                       | 151/300 [02:50<02:48,  1.13s/it]\n",
      " 51%|████████████████████████████████████████▌                                       | 152/300 [02:53<02:49,  1.14s/it]\n",
      " 51%|████████████████████████████████████████▊                                       | 153/300 [02:56<02:49,  1.15s/it]\n",
      " 51%|█████████████████████████████████████████                                       | 154/300 [02:58<02:48,  1.16s/it]\n",
      " 52%|█████████████████████████████████████████▎                                      | 155/300 [02:59<02:48,  1.16s/it]\n",
      " 52%|█████████████████████████████████████████▌                                      | 156/300 [03:00<02:46,  1.16s/it]\n",
      " 52%|█████████████████████████████████████████▊                                      | 157/300 [03:01<02:45,  1.16s/it]\n",
      " 53%|██████████████████████████████████████████▏                                     | 158/300 [03:03<02:44,  1.16s/it]\n",
      " 53%|██████████████████████████████████████████▍                                     | 159/300 [03:04<02:43,  1.16s/it]\n",
      " 53%|██████████████████████████████████████████▋                                     | 160/300 [03:05<02:42,  1.16s/it]\n",
      " 54%|██████████████████████████████████████████▉                                     | 161/300 [03:07<02:42,  1.17s/it]\n",
      " 54%|███████████████████████████████████████████▏                                    | 162/300 [03:09<02:41,  1.17s/it]\n",
      " 54%|███████████████████████████████████████████▍                                    | 163/300 [03:10<02:40,  1.17s/it]\n",
      " 55%|███████████████████████████████████████████▋                                    | 164/300 [03:12<02:39,  1.17s/it]\n",
      " 55%|████████████████████████████████████████████                                    | 165/300 [03:13<02:38,  1.17s/it]\n",
      " 55%|████████████████████████████████████████████▎                                   | 166/300 [03:14<02:36,  1.17s/it]\n",
      " 56%|████████████████████████████████████████████▌                                   | 167/300 [03:15<02:35,  1.17s/it]\n",
      " 56%|████████████████████████████████████████████▊                                   | 168/300 [03:16<02:34,  1.17s/it]\n",
      " 56%|█████████████████████████████████████████████                                   | 169/300 [03:16<02:32,  1.16s/it]\n",
      " 57%|█████████████████████████████████████████████▎                                  | 170/300 [03:17<02:31,  1.16s/it]\n",
      " 57%|█████████████████████████████████████████████▌                                  | 171/300 [03:18<02:29,  1.16s/it]\n",
      " 57%|█████████████████████████████████████████████▊                                  | 172/300 [03:18<02:28,  1.16s/it]\n",
      " 58%|██████████████████████████████████████████████▏                                 | 173/300 [03:19<02:26,  1.15s/it]\n",
      " 58%|██████████████████████████████████████████████▍                                 | 174/300 [03:19<02:24,  1.15s/it]\n",
      " 58%|██████████████████████████████████████████████▋                                 | 175/300 [03:20<02:23,  1.14s/it]\n",
      " 59%|██████████████████████████████████████████████▉                                 | 176/300 [03:21<02:21,  1.14s/it]\n",
      " 59%|███████████████████████████████████████████████▏                                | 177/300 [03:22<02:20,  1.14s/it]\n",
      " 59%|███████████████████████████████████████████████▍                                | 178/300 [03:23<02:19,  1.15s/it]\n",
      " 60%|███████████████████████████████████████████████▋                                | 179/300 [03:24<02:18,  1.14s/it]\n",
      " 60%|████████████████████████████████████████████████                                | 180/300 [03:26<02:17,  1.15s/it]\n",
      " 60%|████████████████████████████████████████████████▎                               | 181/300 [03:26<02:15,  1.14s/it]\n",
      " 61%|████████████████████████████████████████████████▌                               | 182/300 [03:27<02:14,  1.14s/it]\n",
      " 61%|████████████████████████████████████████████████▊                               | 183/300 [03:27<02:12,  1.14s/it]\n",
      " 61%|█████████████████████████████████████████████████                               | 184/300 [03:28<02:11,  1.13s/it]\n",
      " 62%|█████████████████████████████████████████████████▎                              | 185/300 [03:28<02:09,  1.13s/it]\n",
      " 62%|█████████████████████████████████████████████████▌                              | 186/300 [03:29<02:08,  1.13s/it]\n",
      " 62%|█████████████████████████████████████████████████▊                              | 187/300 [03:30<02:06,  1.12s/it]\n",
      " 63%|██████████████████████████████████████████████████▏                             | 188/300 [03:30<02:05,  1.12s/it]\n",
      " 63%|██████████████████████████████████████████████████▍                             | 189/300 [03:32<02:04,  1.12s/it]\n",
      " 63%|██████████████████████████████████████████████████▋                             | 190/300 [03:33<02:03,  1.13s/it]\n",
      " 64%|██████████████████████████████████████████████████▉                             | 191/300 [03:34<02:02,  1.12s/it]\n",
      " 64%|███████████████████████████████████████████████████▏                            | 192/300 [03:36<02:01,  1.13s/it]\n",
      " 64%|███████████████████████████████████████████████████▍                            | 193/300 [03:36<02:00,  1.12s/it]\n",
      " 65%|███████████████████████████████████████████████████▋                            | 194/300 [03:38<01:59,  1.12s/it]\n",
      " 65%|████████████████████████████████████████████████████                            | 195/300 [03:39<01:58,  1.12s/it]\n",
      " 65%|████████████████████████████████████████████████████▎                           | 196/300 [03:40<01:56,  1.12s/it]\n",
      " 66%|████████████████████████████████████████████████████▌                           | 197/300 [03:42<01:56,  1.13s/it]\n",
      " 66%|████████████████████████████████████████████████████▊                           | 198/300 [03:43<01:55,  1.13s/it]\n",
      " 66%|█████████████████████████████████████████████████████                           | 199/300 [03:44<01:53,  1.13s/it]\n",
      " 67%|█████████████████████████████████████████████████████▎                          | 200/300 [03:45<01:52,  1.13s/it]\n",
      " 67%|█████████████████████████████████████████████████████▌                          | 201/300 [03:46<01:51,  1.13s/it]\n",
      " 67%|█████████████████████████████████████████████████████▊                          | 202/300 [03:47<01:50,  1.13s/it]\n",
      " 68%|██████████████████████████████████████████████████████▏                         | 203/300 [03:50<01:49,  1.13s/it]\n",
      " 68%|██████████████████████████████████████████████████████▍                         | 204/300 [03:50<01:48,  1.13s/it]\n",
      " 68%|██████████████████████████████████████████████████████▋                         | 205/300 [03:51<01:47,  1.13s/it]\n",
      " 69%|██████████████████████████████████████████████████████▉                         | 206/300 [03:52<01:46,  1.13s/it]\n",
      " 69%|███████████████████████████████████████████████████████▏                        | 207/300 [03:53<01:44,  1.13s/it]\n",
      " 69%|███████████████████████████████████████████████████████▍                        | 208/300 [03:54<01:43,  1.13s/it]\n",
      " 70%|███████████████████████████████████████████████████████▋                        | 209/300 [03:55<01:42,  1.12s/it]\n",
      " 70%|████████████████████████████████████████████████████████                        | 210/300 [03:55<01:40,  1.12s/it]\n",
      " 70%|████████████████████████████████████████████████████████▎                       | 211/300 [03:56<01:39,  1.12s/it]\n",
      " 71%|████████████████████████████████████████████████████████▌                       | 212/300 [03:57<01:38,  1.12s/it]\n",
      " 71%|████████████████████████████████████████████████████████▊                       | 213/300 [03:58<01:37,  1.12s/it]\n",
      " 71%|█████████████████████████████████████████████████████████                       | 214/300 [03:59<01:36,  1.12s/it]\n",
      " 72%|█████████████████████████████████████████████████████████▎                      | 215/300 [04:01<01:35,  1.12s/it]\n",
      " 72%|█████████████████████████████████████████████████████████▌                      | 216/300 [04:02<01:34,  1.12s/it]\n",
      " 72%|█████████████████████████████████████████████████████████▊                      | 217/300 [04:03<01:33,  1.12s/it]\n",
      " 73%|██████████████████████████████████████████████████████████▏                     | 218/300 [04:04<01:31,  1.12s/it]\n",
      " 73%|██████████████████████████████████████████████████████████▍                     | 219/300 [04:05<01:30,  1.12s/it]\n",
      " 73%|██████████████████████████████████████████████████████████▋                     | 220/300 [04:06<01:29,  1.12s/it]\n",
      " 74%|██████████████████████████████████████████████████████████▉                     | 221/300 [04:08<01:28,  1.12s/it]\n",
      " 74%|███████████████████████████████████████████████████████████▏                    | 222/300 [04:10<01:27,  1.13s/it]\n",
      " 74%|███████████████████████████████████████████████████████████▍                    | 223/300 [04:11<01:26,  1.13s/it]\n",
      " 75%|███████████████████████████████████████████████████████████▋                    | 224/300 [04:13<01:25,  1.13s/it]\n",
      " 75%|████████████████████████████████████████████████████████████                    | 225/300 [04:14<01:24,  1.13s/it]\n",
      " 75%|████████████████████████████████████████████████████████████▎                   | 226/300 [04:15<01:23,  1.13s/it]\n",
      " 76%|████████████████████████████████████████████████████████████▌                   | 227/300 [04:16<01:22,  1.13s/it]\n",
      " 76%|████████████████████████████████████████████████████████████▊                   | 228/300 [04:18<01:21,  1.13s/it]\n",
      " 76%|█████████████████████████████████████████████████████████████                   | 229/300 [04:20<01:20,  1.14s/it]\n",
      " 77%|█████████████████████████████████████████████████████████████▎                  | 230/300 [04:21<01:19,  1.14s/it]\n",
      " 77%|█████████████████████████████████████████████████████████████▌                  | 231/300 [04:22<01:18,  1.14s/it]\n",
      " 77%|█████████████████████████████████████████████████████████████▊                  | 232/300 [04:24<01:17,  1.14s/it]\n",
      " 78%|██████████████████████████████████████████████████████████████▏                 | 233/300 [04:25<01:16,  1.14s/it]\n",
      " 78%|██████████████████████████████████████████████████████████████▍                 | 234/300 [04:27<01:15,  1.14s/it]\n",
      " 78%|██████████████████████████████████████████████████████████████▋                 | 235/300 [04:28<01:14,  1.14s/it]\n",
      " 79%|██████████████████████████████████████████████████████████████▉                 | 236/300 [04:30<01:13,  1.14s/it]\n",
      " 79%|███████████████████████████████████████████████████████████████▏                | 237/300 [04:31<01:12,  1.15s/it]\n",
      " 79%|███████████████████████████████████████████████████████████████▍                | 238/300 [04:33<01:11,  1.15s/it]\n",
      " 80%|███████████████████████████████████████████████████████████████▋                | 239/300 [04:34<01:10,  1.15s/it]\n",
      " 80%|████████████████████████████████████████████████████████████████                | 240/300 [04:35<01:08,  1.15s/it]"
     ]
    },
    {
     "ename": "MemoryError",
     "evalue": "",
     "output_type": "error",
     "traceback": [
      "\u001b[1;31m---------------------------------------------------------------------------\u001b[0m",
      "\u001b[1;31mMemoryError\u001b[0m                               Traceback (most recent call last)",
      "\u001b[1;32m<ipython-input-22-92c47df0ee76>\u001b[0m in \u001b[0;36m<module>\u001b[1;34m()\u001b[0m\n\u001b[0;32m      3\u001b[0m     \u001b[0mim_path\u001b[0m \u001b[1;33m=\u001b[0m \u001b[0mtraining_img_sorted\u001b[0m\u001b[1;33m[\u001b[0m\u001b[0mind\u001b[0m\u001b[1;33m+\u001b[0m\u001b[0mnum_train\u001b[0m\u001b[1;33m]\u001b[0m\u001b[1;33m\u001b[0m\u001b[0m\n\u001b[0;32m      4\u001b[0m     \u001b[0mxml_path\u001b[0m \u001b[1;33m=\u001b[0m \u001b[0mtraining_xml_sorted\u001b[0m\u001b[1;33m[\u001b[0m\u001b[0mind\u001b[0m\u001b[1;33m+\u001b[0m\u001b[0mnum_train\u001b[0m\u001b[1;33m]\u001b[0m\u001b[1;33m\u001b[0m\u001b[0m\n\u001b[1;32m----> 5\u001b[1;33m     \u001b[0mim\u001b[0m \u001b[1;33m=\u001b[0m \u001b[0mimread\u001b[0m\u001b[1;33m(\u001b[0m\u001b[0mstr\u001b[0m\u001b[1;33m(\u001b[0m\u001b[0mim_path\u001b[0m\u001b[1;33m)\u001b[0m\u001b[1;33m)\u001b[0m\u001b[1;33m\u001b[0m\u001b[0m\n\u001b[0m\u001b[0;32m      6\u001b[0m     \u001b[0msymbols\u001b[0m \u001b[1;33m=\u001b[0m \u001b[0mget_symbol_info\u001b[0m\u001b[1;33m(\u001b[0m\u001b[0mxml_path\u001b[0m\u001b[1;33m)\u001b[0m\u001b[1;33m\u001b[0m\u001b[0m\n\u001b[0;32m      7\u001b[0m     \u001b[1;32mfor\u001b[0m \u001b[0mi\u001b[0m\u001b[1;33m,\u001b[0m \u001b[0msymbol\u001b[0m \u001b[1;32min\u001b[0m \u001b[0menumerate\u001b[0m\u001b[1;33m(\u001b[0m\u001b[0msymbols\u001b[0m\u001b[1;33m)\u001b[0m\u001b[1;33m:\u001b[0m\u001b[1;33m\u001b[0m\u001b[0m\n",
      "\u001b[1;32m~\\Anaconda3\\lib\\site-packages\\skimage\\io\\_io.py\u001b[0m in \u001b[0;36mimread\u001b[1;34m(fname, as_grey, plugin, flatten, **plugin_args)\u001b[0m\n\u001b[0;32m     59\u001b[0m \u001b[1;33m\u001b[0m\u001b[0m\n\u001b[0;32m     60\u001b[0m     \u001b[1;32mwith\u001b[0m \u001b[0mfile_or_url_context\u001b[0m\u001b[1;33m(\u001b[0m\u001b[0mfname\u001b[0m\u001b[1;33m)\u001b[0m \u001b[1;32mas\u001b[0m \u001b[0mfname\u001b[0m\u001b[1;33m:\u001b[0m\u001b[1;33m\u001b[0m\u001b[0m\n\u001b[1;32m---> 61\u001b[1;33m         \u001b[0mimg\u001b[0m \u001b[1;33m=\u001b[0m \u001b[0mcall_plugin\u001b[0m\u001b[1;33m(\u001b[0m\u001b[1;34m'imread'\u001b[0m\u001b[1;33m,\u001b[0m \u001b[0mfname\u001b[0m\u001b[1;33m,\u001b[0m \u001b[0mplugin\u001b[0m\u001b[1;33m=\u001b[0m\u001b[0mplugin\u001b[0m\u001b[1;33m,\u001b[0m \u001b[1;33m**\u001b[0m\u001b[0mplugin_args\u001b[0m\u001b[1;33m)\u001b[0m\u001b[1;33m\u001b[0m\u001b[0m\n\u001b[0m\u001b[0;32m     62\u001b[0m \u001b[1;33m\u001b[0m\u001b[0m\n\u001b[0;32m     63\u001b[0m     \u001b[1;32mif\u001b[0m \u001b[1;32mnot\u001b[0m \u001b[0mhasattr\u001b[0m\u001b[1;33m(\u001b[0m\u001b[0mimg\u001b[0m\u001b[1;33m,\u001b[0m \u001b[1;34m'ndim'\u001b[0m\u001b[1;33m)\u001b[0m\u001b[1;33m:\u001b[0m\u001b[1;33m\u001b[0m\u001b[0m\n",
      "\u001b[1;32m~\\Anaconda3\\lib\\site-packages\\skimage\\io\\manage_plugins.py\u001b[0m in \u001b[0;36mcall_plugin\u001b[1;34m(kind, *args, **kwargs)\u001b[0m\n\u001b[0;32m    209\u001b[0m                                (plugin, kind))\n\u001b[0;32m    210\u001b[0m \u001b[1;33m\u001b[0m\u001b[0m\n\u001b[1;32m--> 211\u001b[1;33m     \u001b[1;32mreturn\u001b[0m \u001b[0mfunc\u001b[0m\u001b[1;33m(\u001b[0m\u001b[1;33m*\u001b[0m\u001b[0margs\u001b[0m\u001b[1;33m,\u001b[0m \u001b[1;33m**\u001b[0m\u001b[0mkwargs\u001b[0m\u001b[1;33m)\u001b[0m\u001b[1;33m\u001b[0m\u001b[0m\n\u001b[0m\u001b[0;32m    212\u001b[0m \u001b[1;33m\u001b[0m\u001b[0m\n\u001b[0;32m    213\u001b[0m \u001b[1;33m\u001b[0m\u001b[0m\n",
      "\u001b[1;32m~\\Anaconda3\\lib\\site-packages\\skimage\\io\\_plugins\\pil_plugin.py\u001b[0m in \u001b[0;36mimread\u001b[1;34m(fname, dtype, img_num, **kwargs)\u001b[0m\n\u001b[0;32m     35\u001b[0m         \u001b[1;32mwith\u001b[0m \u001b[0mopen\u001b[0m\u001b[1;33m(\u001b[0m\u001b[0mfname\u001b[0m\u001b[1;33m,\u001b[0m \u001b[1;34m'rb'\u001b[0m\u001b[1;33m)\u001b[0m \u001b[1;32mas\u001b[0m \u001b[0mf\u001b[0m\u001b[1;33m:\u001b[0m\u001b[1;33m\u001b[0m\u001b[0m\n\u001b[0;32m     36\u001b[0m             \u001b[0mim\u001b[0m \u001b[1;33m=\u001b[0m \u001b[0mImage\u001b[0m\u001b[1;33m.\u001b[0m\u001b[0mopen\u001b[0m\u001b[1;33m(\u001b[0m\u001b[0mf\u001b[0m\u001b[1;33m)\u001b[0m\u001b[1;33m\u001b[0m\u001b[0m\n\u001b[1;32m---> 37\u001b[1;33m             \u001b[1;32mreturn\u001b[0m \u001b[0mpil_to_ndarray\u001b[0m\u001b[1;33m(\u001b[0m\u001b[0mim\u001b[0m\u001b[1;33m,\u001b[0m \u001b[0mdtype\u001b[0m\u001b[1;33m=\u001b[0m\u001b[0mdtype\u001b[0m\u001b[1;33m,\u001b[0m \u001b[0mimg_num\u001b[0m\u001b[1;33m=\u001b[0m\u001b[0mimg_num\u001b[0m\u001b[1;33m)\u001b[0m\u001b[1;33m\u001b[0m\u001b[0m\n\u001b[0m\u001b[0;32m     38\u001b[0m     \u001b[1;32melse\u001b[0m\u001b[1;33m:\u001b[0m\u001b[1;33m\u001b[0m\u001b[0m\n\u001b[0;32m     39\u001b[0m         \u001b[0mim\u001b[0m \u001b[1;33m=\u001b[0m \u001b[0mImage\u001b[0m\u001b[1;33m.\u001b[0m\u001b[0mopen\u001b[0m\u001b[1;33m(\u001b[0m\u001b[0mfname\u001b[0m\u001b[1;33m)\u001b[0m\u001b[1;33m\u001b[0m\u001b[0m\n",
      "\u001b[1;32m~\\Anaconda3\\lib\\site-packages\\skimage\\io\\_plugins\\pil_plugin.py\u001b[0m in \u001b[0;36mpil_to_ndarray\u001b[1;34m(im, dtype, img_num)\u001b[0m\n\u001b[0;32m    109\u001b[0m \u001b[1;33m\u001b[0m\u001b[0m\n\u001b[0;32m    110\u001b[0m         \u001b[1;32melse\u001b[0m\u001b[1;33m:\u001b[0m\u001b[1;33m\u001b[0m\u001b[0m\n\u001b[1;32m--> 111\u001b[1;33m             \u001b[0mframe\u001b[0m \u001b[1;33m=\u001b[0m \u001b[0mnp\u001b[0m\u001b[1;33m.\u001b[0m\u001b[0marray\u001b[0m\u001b[1;33m(\u001b[0m\u001b[0mframe\u001b[0m\u001b[1;33m,\u001b[0m \u001b[0mdtype\u001b[0m\u001b[1;33m=\u001b[0m\u001b[0mdtype\u001b[0m\u001b[1;33m)\u001b[0m\u001b[1;33m\u001b[0m\u001b[0m\n\u001b[0m\u001b[0;32m    112\u001b[0m \u001b[1;33m\u001b[0m\u001b[0m\n\u001b[0;32m    113\u001b[0m         \u001b[0mframes\u001b[0m\u001b[1;33m.\u001b[0m\u001b[0mappend\u001b[0m\u001b[1;33m(\u001b[0m\u001b[0mframe\u001b[0m\u001b[1;33m)\u001b[0m\u001b[1;33m\u001b[0m\u001b[0m\n",
      "\u001b[1;31mMemoryError\u001b[0m: "
     ]
    }
   ],
   "source": [
    "# prepare val data\n",
    "for ind in tqdm(range(300)):\n",
    "    im_path = training_img_sorted[ind+num_train]\n",
    "    xml_path = training_xml_sorted[ind+num_train]\n",
    "    im = imread(str(im_path))\n",
    "    symbols = get_symbol_info(xml_path)\n",
    "    for i, symbol in enumerate(symbols):\n",
    "        _, img_name = os.path.split(im_path)\n",
    "        name, xmin, xmax, ymin, ymax = symbol[0], symbol[1], symbol[2], symbol[3], symbol[4]\n",
    "        # if dir not exist, create one before storing the data\n",
    "        if not os.path.isdir(val_dir + name):\n",
    "            os.makedirs(val_dir + name)\n",
    "\n",
    "        # store the cropped single symbol into folder\n",
    "        filename = os.path.join(val_dir, name, img_name+str(i)+'.png')\n",
    "        imsave(filename, im[ymin:ymax+1, xmin:xmax+1, :])\n",
    "\n",
    "print('val data preparation finished!')"
   ]
  },
  {
   "cell_type": "code",
   "execution_count": 7,
   "metadata": {},
   "outputs": [
    {
     "name": "stderr",
     "output_type": "stream",
     "text": [
      "C:\\Users\\johnl\\Anaconda3\\lib\\site-packages\\skimage\\io\\_io.py:132: UserWarning: D:/Downloads/DeepScores_archive0/Mask_RCNN/symbol_data/test/articStaccatoBelow\\lg-81042921-aug-emmentaler--page-9.png224.png is a low contrast image\n",
      "  warn('%s is a low contrast image' % fname)\n",
      "C:\\Users\\johnl\\Anaconda3\\lib\\site-packages\\skimage\\io\\_io.py:132: UserWarning: D:/Downloads/DeepScores_archive0/Mask_RCNN/symbol_data/test/articStaccatoAbove\\lg-81042921-aug-gonville--page-4.png413.png is a low contrast image\n",
      "  warn('%s is a low contrast image' % fname)\n",
      "C:\\Users\\johnl\\Anaconda3\\lib\\site-packages\\skimage\\io\\_io.py:132: UserWarning: D:/Downloads/DeepScores_archive0/Mask_RCNN/symbol_data/test/articStaccatoAbove\\lg-85787536-aug-beethoven--page-1.png3.png is a low contrast image\n",
      "  warn('%s is a low contrast image' % fname)\n",
      "C:\\Users\\johnl\\Anaconda3\\lib\\site-packages\\skimage\\io\\_io.py:132: UserWarning: D:/Downloads/DeepScores_archive0/Mask_RCNN/symbol_data/test/articStaccatoAbove\\lg-85787536-aug-beethoven--page-1.png153.png is a low contrast image\n",
      "  warn('%s is a low contrast image' % fname)\n",
      "C:\\Users\\johnl\\Anaconda3\\lib\\site-packages\\skimage\\io\\_io.py:132: UserWarning: D:/Downloads/DeepScores_archive0/Mask_RCNN/symbol_data/test/articStaccatoAbove\\lg-85787536-aug-beethoven--page-1.png315.png is a low contrast image\n",
      "  warn('%s is a low contrast image' % fname)\n",
      "C:\\Users\\johnl\\Anaconda3\\lib\\site-packages\\skimage\\io\\_io.py:132: UserWarning: D:/Downloads/DeepScores_archive0/Mask_RCNN/symbol_data/test/augmentationDot\\lg-85787536-aug-gonville--page-5.png113.png is a low contrast image\n",
      "  warn('%s is a low contrast image' % fname)\n"
     ]
    },
    {
     "ename": "IndexError",
     "evalue": "cannot do a non-empty take from an empty axes.",
     "output_type": "error",
     "traceback": [
      "\u001b[1;31m---------------------------------------------------------------------------\u001b[0m",
      "\u001b[1;31mIndexError\u001b[0m                                Traceback (most recent call last)",
      "\u001b[1;32m<ipython-input-7-3ba8e65a2ce6>\u001b[0m in \u001b[0;36m<module>\u001b[1;34m()\u001b[0m\n\u001b[0;32m     14\u001b[0m         \u001b[1;31m# store the cropped single symbol into folder\u001b[0m\u001b[1;33m\u001b[0m\u001b[1;33m\u001b[0m\u001b[0m\n\u001b[0;32m     15\u001b[0m         \u001b[0mfilename\u001b[0m \u001b[1;33m=\u001b[0m \u001b[0mos\u001b[0m\u001b[1;33m.\u001b[0m\u001b[0mpath\u001b[0m\u001b[1;33m.\u001b[0m\u001b[0mjoin\u001b[0m\u001b[1;33m(\u001b[0m\u001b[0mtest_dir\u001b[0m\u001b[1;33m,\u001b[0m \u001b[0mname\u001b[0m\u001b[1;33m,\u001b[0m \u001b[0mimg_name\u001b[0m\u001b[1;33m+\u001b[0m\u001b[0mstr\u001b[0m\u001b[1;33m(\u001b[0m\u001b[0mi\u001b[0m\u001b[1;33m)\u001b[0m\u001b[1;33m+\u001b[0m\u001b[1;34m'.png'\u001b[0m\u001b[1;33m)\u001b[0m\u001b[1;33m\u001b[0m\u001b[0m\n\u001b[1;32m---> 16\u001b[1;33m         \u001b[0mimsave\u001b[0m\u001b[1;33m(\u001b[0m\u001b[0mfilename\u001b[0m\u001b[1;33m,\u001b[0m \u001b[0mim\u001b[0m\u001b[1;33m[\u001b[0m\u001b[0mymin\u001b[0m\u001b[1;33m:\u001b[0m\u001b[0mymax\u001b[0m\u001b[1;33m+\u001b[0m\u001b[1;36m1\u001b[0m\u001b[1;33m,\u001b[0m \u001b[0mxmin\u001b[0m\u001b[1;33m:\u001b[0m\u001b[0mxmax\u001b[0m\u001b[1;33m+\u001b[0m\u001b[1;36m1\u001b[0m\u001b[1;33m,\u001b[0m \u001b[1;33m:\u001b[0m\u001b[1;33m]\u001b[0m\u001b[1;33m)\u001b[0m\u001b[1;33m\u001b[0m\u001b[0m\n\u001b[0m\u001b[0;32m     17\u001b[0m \u001b[1;33m\u001b[0m\u001b[0m\n\u001b[0;32m     18\u001b[0m \u001b[0mprint\u001b[0m\u001b[1;33m(\u001b[0m\u001b[1;34m'test data preparation finished!'\u001b[0m\u001b[1;33m)\u001b[0m\u001b[1;33m\u001b[0m\u001b[0m\n",
      "\u001b[1;32m~\\Anaconda3\\lib\\site-packages\\skimage\\io\\_io.py\u001b[0m in \u001b[0;36mimsave\u001b[1;34m(fname, arr, plugin, **plugin_args)\u001b[0m\n\u001b[0;32m    129\u001b[0m         \u001b[1;32mif\u001b[0m \u001b[0mfname\u001b[0m\u001b[1;33m.\u001b[0m\u001b[0mlower\u001b[0m\u001b[1;33m(\u001b[0m\u001b[1;33m)\u001b[0m\u001b[1;33m.\u001b[0m\u001b[0mendswith\u001b[0m\u001b[1;33m(\u001b[0m\u001b[1;33m(\u001b[0m\u001b[1;34m'.tiff'\u001b[0m\u001b[1;33m,\u001b[0m \u001b[1;34m'.tif'\u001b[0m\u001b[1;33m)\u001b[0m\u001b[1;33m)\u001b[0m\u001b[1;33m:\u001b[0m\u001b[1;33m\u001b[0m\u001b[0m\n\u001b[0;32m    130\u001b[0m             \u001b[0mplugin\u001b[0m \u001b[1;33m=\u001b[0m \u001b[1;34m'tifffile'\u001b[0m\u001b[1;33m\u001b[0m\u001b[0m\n\u001b[1;32m--> 131\u001b[1;33m     \u001b[1;32mif\u001b[0m \u001b[0mis_low_contrast\u001b[0m\u001b[1;33m(\u001b[0m\u001b[0marr\u001b[0m\u001b[1;33m)\u001b[0m\u001b[1;33m:\u001b[0m\u001b[1;33m\u001b[0m\u001b[0m\n\u001b[0m\u001b[0;32m    132\u001b[0m         \u001b[0mwarn\u001b[0m\u001b[1;33m(\u001b[0m\u001b[1;34m'%s is a low contrast image'\u001b[0m \u001b[1;33m%\u001b[0m \u001b[0mfname\u001b[0m\u001b[1;33m)\u001b[0m\u001b[1;33m\u001b[0m\u001b[0m\n\u001b[0;32m    133\u001b[0m     \u001b[1;32mreturn\u001b[0m \u001b[0mcall_plugin\u001b[0m\u001b[1;33m(\u001b[0m\u001b[1;34m'imsave'\u001b[0m\u001b[1;33m,\u001b[0m \u001b[0mfname\u001b[0m\u001b[1;33m,\u001b[0m \u001b[0marr\u001b[0m\u001b[1;33m,\u001b[0m \u001b[0mplugin\u001b[0m\u001b[1;33m=\u001b[0m\u001b[0mplugin\u001b[0m\u001b[1;33m,\u001b[0m \u001b[1;33m**\u001b[0m\u001b[0mplugin_args\u001b[0m\u001b[1;33m)\u001b[0m\u001b[1;33m\u001b[0m\u001b[0m\n",
      "\u001b[1;32m~\\Anaconda3\\lib\\site-packages\\skimage\\exposure\\exposure.py\u001b[0m in \u001b[0;36mis_low_contrast\u001b[1;34m(image, fraction_threshold, lower_percentile, upper_percentile, method)\u001b[0m\n\u001b[0;32m    502\u001b[0m \u001b[1;33m\u001b[0m\u001b[0m\n\u001b[0;32m    503\u001b[0m     \u001b[0mdlimits\u001b[0m \u001b[1;33m=\u001b[0m \u001b[0mdtype_limits\u001b[0m\u001b[1;33m(\u001b[0m\u001b[0mimage\u001b[0m\u001b[1;33m,\u001b[0m \u001b[0mclip_negative\u001b[0m\u001b[1;33m=\u001b[0m\u001b[1;32mFalse\u001b[0m\u001b[1;33m)\u001b[0m\u001b[1;33m\u001b[0m\u001b[0m\n\u001b[1;32m--> 504\u001b[1;33m     \u001b[0mlimits\u001b[0m \u001b[1;33m=\u001b[0m \u001b[0mnp\u001b[0m\u001b[1;33m.\u001b[0m\u001b[0mpercentile\u001b[0m\u001b[1;33m(\u001b[0m\u001b[0mimage\u001b[0m\u001b[1;33m,\u001b[0m \u001b[1;33m[\u001b[0m\u001b[0mlower_percentile\u001b[0m\u001b[1;33m,\u001b[0m \u001b[0mupper_percentile\u001b[0m\u001b[1;33m]\u001b[0m\u001b[1;33m)\u001b[0m\u001b[1;33m\u001b[0m\u001b[0m\n\u001b[0m\u001b[0;32m    505\u001b[0m     \u001b[0mratio\u001b[0m \u001b[1;33m=\u001b[0m \u001b[1;33m(\u001b[0m\u001b[0mlimits\u001b[0m\u001b[1;33m[\u001b[0m\u001b[1;36m1\u001b[0m\u001b[1;33m]\u001b[0m \u001b[1;33m-\u001b[0m \u001b[0mlimits\u001b[0m\u001b[1;33m[\u001b[0m\u001b[1;36m0\u001b[0m\u001b[1;33m]\u001b[0m\u001b[1;33m)\u001b[0m \u001b[1;33m/\u001b[0m \u001b[1;33m(\u001b[0m\u001b[0mdlimits\u001b[0m\u001b[1;33m[\u001b[0m\u001b[1;36m1\u001b[0m\u001b[1;33m]\u001b[0m \u001b[1;33m-\u001b[0m \u001b[0mdlimits\u001b[0m\u001b[1;33m[\u001b[0m\u001b[1;36m0\u001b[0m\u001b[1;33m]\u001b[0m\u001b[1;33m)\u001b[0m\u001b[1;33m\u001b[0m\u001b[0m\n\u001b[0;32m    506\u001b[0m \u001b[1;33m\u001b[0m\u001b[0m\n",
      "\u001b[1;32m~\\Anaconda3\\lib\\site-packages\\numpy\\lib\\function_base.py\u001b[0m in \u001b[0;36mpercentile\u001b[1;34m(a, q, axis, out, overwrite_input, interpolation, keepdims)\u001b[0m\n\u001b[0;32m   4289\u001b[0m     r, k = _ureduce(a, func=_percentile, q=q, axis=axis, out=out,\n\u001b[0;32m   4290\u001b[0m                     \u001b[0moverwrite_input\u001b[0m\u001b[1;33m=\u001b[0m\u001b[0moverwrite_input\u001b[0m\u001b[1;33m,\u001b[0m\u001b[1;33m\u001b[0m\u001b[0m\n\u001b[1;32m-> 4291\u001b[1;33m                     interpolation=interpolation)\n\u001b[0m\u001b[0;32m   4292\u001b[0m     \u001b[1;32mif\u001b[0m \u001b[0mkeepdims\u001b[0m\u001b[1;33m:\u001b[0m\u001b[1;33m\u001b[0m\u001b[0m\n\u001b[0;32m   4293\u001b[0m         \u001b[1;32mreturn\u001b[0m \u001b[0mr\u001b[0m\u001b[1;33m.\u001b[0m\u001b[0mreshape\u001b[0m\u001b[1;33m(\u001b[0m\u001b[0mq\u001b[0m\u001b[1;33m.\u001b[0m\u001b[0mshape\u001b[0m \u001b[1;33m+\u001b[0m \u001b[0mk\u001b[0m\u001b[1;33m)\u001b[0m\u001b[1;33m\u001b[0m\u001b[0m\n",
      "\u001b[1;32m~\\Anaconda3\\lib\\site-packages\\numpy\\lib\\function_base.py\u001b[0m in \u001b[0;36m_ureduce\u001b[1;34m(a, func, **kwargs)\u001b[0m\n\u001b[0;32m   4031\u001b[0m         \u001b[0mkeepdim\u001b[0m \u001b[1;33m=\u001b[0m \u001b[1;33m(\u001b[0m\u001b[1;36m1\u001b[0m\u001b[1;33m,\u001b[0m\u001b[1;33m)\u001b[0m \u001b[1;33m*\u001b[0m \u001b[0ma\u001b[0m\u001b[1;33m.\u001b[0m\u001b[0mndim\u001b[0m\u001b[1;33m\u001b[0m\u001b[0m\n\u001b[0;32m   4032\u001b[0m \u001b[1;33m\u001b[0m\u001b[0m\n\u001b[1;32m-> 4033\u001b[1;33m     \u001b[0mr\u001b[0m \u001b[1;33m=\u001b[0m \u001b[0mfunc\u001b[0m\u001b[1;33m(\u001b[0m\u001b[0ma\u001b[0m\u001b[1;33m,\u001b[0m \u001b[1;33m**\u001b[0m\u001b[0mkwargs\u001b[0m\u001b[1;33m)\u001b[0m\u001b[1;33m\u001b[0m\u001b[0m\n\u001b[0m\u001b[0;32m   4034\u001b[0m     \u001b[1;32mreturn\u001b[0m \u001b[0mr\u001b[0m\u001b[1;33m,\u001b[0m \u001b[0mkeepdim\u001b[0m\u001b[1;33m\u001b[0m\u001b[0m\n\u001b[0;32m   4035\u001b[0m \u001b[1;33m\u001b[0m\u001b[0m\n",
      "\u001b[1;32m~\\Anaconda3\\lib\\site-packages\\numpy\\lib\\function_base.py\u001b[0m in \u001b[0;36m_percentile\u001b[1;34m(a, q, axis, out, overwrite_input, interpolation, keepdims)\u001b[0m\n\u001b[0;32m   4403\u001b[0m             \u001b[0mn\u001b[0m \u001b[1;33m=\u001b[0m \u001b[0mnp\u001b[0m\u001b[1;33m.\u001b[0m\u001b[0misnan\u001b[0m\u001b[1;33m(\u001b[0m\u001b[0map\u001b[0m\u001b[1;33m[\u001b[0m\u001b[1;33m-\u001b[0m\u001b[1;36m1\u001b[0m\u001b[1;33m:\u001b[0m\u001b[1;33m,\u001b[0m \u001b[1;33m...\u001b[0m\u001b[1;33m]\u001b[0m\u001b[1;33m)\u001b[0m\u001b[1;33m\u001b[0m\u001b[0m\n\u001b[0;32m   4404\u001b[0m \u001b[1;33m\u001b[0m\u001b[0m\n\u001b[1;32m-> 4405\u001b[1;33m         \u001b[0mx1\u001b[0m \u001b[1;33m=\u001b[0m \u001b[0mtake\u001b[0m\u001b[1;33m(\u001b[0m\u001b[0map\u001b[0m\u001b[1;33m,\u001b[0m \u001b[0mindices_below\u001b[0m\u001b[1;33m,\u001b[0m \u001b[0maxis\u001b[0m\u001b[1;33m=\u001b[0m\u001b[0maxis\u001b[0m\u001b[1;33m)\u001b[0m \u001b[1;33m*\u001b[0m \u001b[0mweights_below\u001b[0m\u001b[1;33m\u001b[0m\u001b[0m\n\u001b[0m\u001b[0;32m   4406\u001b[0m         \u001b[0mx2\u001b[0m \u001b[1;33m=\u001b[0m \u001b[0mtake\u001b[0m\u001b[1;33m(\u001b[0m\u001b[0map\u001b[0m\u001b[1;33m,\u001b[0m \u001b[0mindices_above\u001b[0m\u001b[1;33m,\u001b[0m \u001b[0maxis\u001b[0m\u001b[1;33m=\u001b[0m\u001b[0maxis\u001b[0m\u001b[1;33m)\u001b[0m \u001b[1;33m*\u001b[0m \u001b[0mweights_above\u001b[0m\u001b[1;33m\u001b[0m\u001b[0m\n\u001b[0;32m   4407\u001b[0m \u001b[1;33m\u001b[0m\u001b[0m\n",
      "\u001b[1;32m~\\Anaconda3\\lib\\site-packages\\numpy\\core\\fromnumeric.py\u001b[0m in \u001b[0;36mtake\u001b[1;34m(a, indices, axis, out, mode)\u001b[0m\n\u001b[0;32m    157\u001b[0m            [5, 7]])\n\u001b[0;32m    158\u001b[0m     \"\"\"\n\u001b[1;32m--> 159\u001b[1;33m     \u001b[1;32mreturn\u001b[0m \u001b[0m_wrapfunc\u001b[0m\u001b[1;33m(\u001b[0m\u001b[0ma\u001b[0m\u001b[1;33m,\u001b[0m \u001b[1;34m'take'\u001b[0m\u001b[1;33m,\u001b[0m \u001b[0mindices\u001b[0m\u001b[1;33m,\u001b[0m \u001b[0maxis\u001b[0m\u001b[1;33m=\u001b[0m\u001b[0maxis\u001b[0m\u001b[1;33m,\u001b[0m \u001b[0mout\u001b[0m\u001b[1;33m=\u001b[0m\u001b[0mout\u001b[0m\u001b[1;33m,\u001b[0m \u001b[0mmode\u001b[0m\u001b[1;33m=\u001b[0m\u001b[0mmode\u001b[0m\u001b[1;33m)\u001b[0m\u001b[1;33m\u001b[0m\u001b[0m\n\u001b[0m\u001b[0;32m    160\u001b[0m \u001b[1;33m\u001b[0m\u001b[0m\n\u001b[0;32m    161\u001b[0m \u001b[1;33m\u001b[0m\u001b[0m\n",
      "\u001b[1;32m~\\Anaconda3\\lib\\site-packages\\numpy\\core\\fromnumeric.py\u001b[0m in \u001b[0;36m_wrapfunc\u001b[1;34m(obj, method, *args, **kwds)\u001b[0m\n\u001b[0;32m     50\u001b[0m \u001b[1;32mdef\u001b[0m \u001b[0m_wrapfunc\u001b[0m\u001b[1;33m(\u001b[0m\u001b[0mobj\u001b[0m\u001b[1;33m,\u001b[0m \u001b[0mmethod\u001b[0m\u001b[1;33m,\u001b[0m \u001b[1;33m*\u001b[0m\u001b[0margs\u001b[0m\u001b[1;33m,\u001b[0m \u001b[1;33m**\u001b[0m\u001b[0mkwds\u001b[0m\u001b[1;33m)\u001b[0m\u001b[1;33m:\u001b[0m\u001b[1;33m\u001b[0m\u001b[0m\n\u001b[0;32m     51\u001b[0m     \u001b[1;32mtry\u001b[0m\u001b[1;33m:\u001b[0m\u001b[1;33m\u001b[0m\u001b[0m\n\u001b[1;32m---> 52\u001b[1;33m         \u001b[1;32mreturn\u001b[0m \u001b[0mgetattr\u001b[0m\u001b[1;33m(\u001b[0m\u001b[0mobj\u001b[0m\u001b[1;33m,\u001b[0m \u001b[0mmethod\u001b[0m\u001b[1;33m)\u001b[0m\u001b[1;33m(\u001b[0m\u001b[1;33m*\u001b[0m\u001b[0margs\u001b[0m\u001b[1;33m,\u001b[0m \u001b[1;33m**\u001b[0m\u001b[0mkwds\u001b[0m\u001b[1;33m)\u001b[0m\u001b[1;33m\u001b[0m\u001b[0m\n\u001b[0m\u001b[0;32m     53\u001b[0m \u001b[1;33m\u001b[0m\u001b[0m\n\u001b[0;32m     54\u001b[0m     \u001b[1;31m# An AttributeError occurs if the object does not have\u001b[0m\u001b[1;33m\u001b[0m\u001b[1;33m\u001b[0m\u001b[0m\n",
      "\u001b[1;31mIndexError\u001b[0m: cannot do a non-empty take from an empty axes."
     ]
    }
   ],
   "source": [
    "# prepare test data\n",
    "for ind in range(num_test):\n",
    "    im_path = training_img_sorted[ind+num_train+num_val]\n",
    "    xml_path = training_xml_sorted[ind+num_train+num_val]\n",
    "    im = imread(str(im_path))\n",
    "    symbols = get_symbol_info(xml_path)\n",
    "    for i, symbol in enumerate(symbols):\n",
    "        _, img_name = os.path.split(im_path)\n",
    "        name, xmin, xmax, ymin, ymax = symbol[0], symbol[1], symbol[2], symbol[3], symbol[4]\n",
    "        # if dir not exist, create one before storing the data\n",
    "        if not os.path.isdir(test_dir + name):\n",
    "            os.makedirs(test_dir + name)\n",
    "\n",
    "        # store the cropped single symbol into folder\n",
    "        filename = os.path.join(test_dir, name, img_name+str(i)+'.png')\n",
    "        imsave(filename, im[ymin:ymax+1, xmin:xmax+1, :])\n",
    "\n",
    "print('test data preparation finished!')"
   ]
  },
  {
   "cell_type": "code",
   "execution_count": 46,
   "metadata": {},
   "outputs": [
    {
     "name": "stdout",
     "output_type": "stream",
     "text": [
      "114\n"
     ]
    }
   ],
   "source": [
    "# # save the symbol_type set for convenience\n",
    "# np.save('symbol_type.npy', symbol_type) \n",
    "\n",
    "# # Load\n",
    "# read_symbol_type = np.load('symbol_type.npy').item()\n",
    "# print(len(read_symbol_type))"
   ]
  },
  {
   "cell_type": "code",
   "execution_count": 8,
   "metadata": {
    "scrolled": true
   },
   "outputs": [
    {
     "name": "stdout",
     "output_type": "stream",
     "text": [
      "There are 104 symbols in the score\n"
     ]
    },
    {
     "data": {
      "text/plain": [
       "<matplotlib.figure.Figure at 0x258e4ac5208>"
      ]
     },
     "metadata": {},
     "output_type": "display_data"
    },
    {
     "data": {
      "image/png": "[encoded data removed]",
      "text/plain": [
       "<matplotlib.figure.Figure at 0x258e4ac50f0>"
      ]
     },
     "metadata": {},
     "output_type": "display_data"
    }
   ],
   "source": [
    "# # draw the bounding box to make sure the coordinates extracted are correct\n",
    "# # Create figure and axes\n",
    "# plt.figure(figsize = (12, 20))\n",
    "# fig,ax = plt.subplots(1)\n",
    "\n",
    "# # Display the image\n",
    "# ax.imshow(im)\n",
    "# print('There are %d symbols in the score' % len(rectangles))\n",
    "# for rectan in rectangles:\n",
    "#     # Create a Rectangle patch\n",
    "#     rect = patches.Rectangle(rectan[1],rectan[2],rectan[3],linewidth=1,edgecolor='r',facecolor='none')\n",
    "\n",
    "#     # Add the patch to the Axes\n",
    "#     ax.add_patch(rect)\n",
    "\n",
    "# plt.show()"
   ]
  }
 ],
 "metadata": {
  "kernelspec": {
   "display_name": "Python 3",
   "language": "python",
   "name": "python3"
  },
  "language_info": {
   "codemirror_mode": {
    "name": "ipython",
    "version": 3
   },
   "file_extension": ".py",
   "mimetype": "text/x-python",
   "name": "python",
   "nbconvert_exporter": "python",
   "pygments_lexer": "ipython3",
   "version": "3.6.4"
  }
 },
 "nbformat": 4,
 "nbformat_minor": 2
}
