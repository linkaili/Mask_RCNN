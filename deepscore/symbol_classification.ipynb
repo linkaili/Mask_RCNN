{
 "cells": [
  {
   "cell_type": "markdown",
   "metadata": {},
   "source": [
    "# Symbol Classification"
   ]
  },
  {
   "cell_type": "code",
   "execution_count": 1,
   "metadata": {},
   "outputs": [],
   "source": [
    "import os\n",
    "import numpy as np\n",
    "from skimage.io import imread, imshow\n",
    "from skimage.transform import resize\n",
    "import matplotlib.pyplot as plt\n",
    "% matplotlib inline\n",
    "\n",
    "# pytorch\n",
    "import torch\n",
    "import torch.nn as nn\n",
    "import torch.optim as optim\n",
    "import torchvision.models as models\n",
    "from torch.utils.data import Dataset, DataLoader, TensorDataset\n",
    "from torch.utils.data import sampler\n",
    "\n",
    "import torchvision.datasets as dset\n",
    "import torch.nn.functional as F  # useful stateless functions\n",
    "from torchvision import transforms\n",
    "from sklearn.metrics import confusion_matrix"
   ]
  },
  {
   "cell_type": "markdown",
   "metadata": {},
   "source": [
    "## Load data and create dataset"
   ]
  },
  {
   "cell_type": "code",
   "execution_count": 6,
   "metadata": {},
   "outputs": [
    {
     "name": "stdout",
     "output_type": "stream",
     "text": [
      "['accidentalDoubleFlat', 'accidentalDoubleSharp', 'accidentalFlat', 'accidentalFlatSmall', 'accidentalNatural', 'accidentalNaturalSmall', 'accidentalSharp', 'accidentalSharpSmall', 'arpeggiato', 'articAccentAbove', 'articAccentBelow', 'articMarcatoAbove', 'articMarcatoBelow', 'articStaccatissimoAbove', 'articStaccatoAbove', 'articStaccatoBelow', 'articTenutoAbove', 'articTenutoBelow', 'augmentationDot', 'brace', 'cClefAlto', 'cClefTenor', 'cClefTenorChange', 'caesura', 'clef15', 'clef8', 'coda', 'dynamicFF', 'dynamicFFF', 'dynamicFFFF', 'dynamicForte', 'dynamicFortePiano', 'dynamicMF', 'dynamicMP', 'dynamicMezzo', 'dynamicPP', 'dynamicPPP', 'dynamicPiano', 'dynamicSforzando1', 'dynamicSforzato', 'fClef', 'fClefChange', 'fermataAbove', 'fermataBelow', 'fingering0', 'fingering1', 'fingering2', 'fingering3', 'fingering4', 'fingering5', 'flag128thUp', 'flag16thDown', 'flag16thUp', 'flag32ndDown', 'flag32ndUp', 'flag64thDown', 'flag64thUp', 'flag8thDown', 'flag8thUp', 'gClef', 'gClefChange', 'graceNoteAcciaccaturaStemDown', 'graceNoteAcciaccaturaStemUp', 'graceNoteAppoggiaturaStemDown', 'graceNoteAppoggiaturaStemUp', 'keyFlat', 'keyNatural', 'keySharp', 'keyboardPedalPed', 'keyboardPedalUp', 'noteheadBlack', 'noteheadBlackSmall', 'noteheadDoubleWhole', 'noteheadHalf', 'noteheadWhole', 'ornamentMordent', 'ornamentTrill', 'ornamentTurn', 'repeatDot', 'rest128th', 'rest16th', 'rest32nd', 'rest64th', 'rest8th', 'restHBar', 'restHalf', 'restQuarter', 'restWhole', 'segno', 'stringsDownBow', 'stringsUpBow', 'timeSig1', 'timeSig2', 'timeSig3', 'timeSig4', 'timeSig5', 'timeSig6', 'timeSig7', 'timeSig8', 'timeSig9', 'timeSigCommon', 'timeSigCutCommon', 'tuplet3', 'tuplet6', 'unpitchedPercussionClef1']\n"
     ]
    }
   ],
   "source": [
    "# Data loading code\n",
    "data_dir = \"D:/Downloads/DeepScores_archive0/Mask_RCNN/symbol_data\"\n",
    "traindir = os.path.join(data_dir, 'train')\n",
    "valdir = os.path.join(data_dir, 'val')\n",
    "testdir = os.path.join(data_dir, 'test')\n",
    "\n",
    "# pretrained model requies input image to be at least 224x224\n",
    "img_size = (224,224)\n",
    "\n",
    "# need normalization to use pretrained model\n",
    "normalize = transforms.Normalize(mean=[0.485, 0.456, 0.406],\n",
    "                                 std=[0.229, 0.224, 0.225])\n",
    "# image augmentation needed\n",
    "data_transforms = transforms.Compose([\n",
    "#         transforms.Grayscale(num_output_channels=1), # can convert the image to grayscale to reduce size\n",
    "        transforms.Resize(224),\n",
    "        transforms.ToTensor(),\n",
    "        normalize,\n",
    "    ])\n",
    "\n",
    "# form train and val data\n",
    "image_datasets = {x: dset.ImageFolder(os.path.join(data_dir, x),\n",
    "                                          data_transforms)\n",
    "                  for x in ['train', 'val']}\n",
    "\n",
    "dataloaders = {x: torch.utils.data.DataLoader(image_datasets[x], batch_size=30,\n",
    "                                             shuffle=True, num_workers=4)\n",
    "              for x in ['train', 'val']}\n",
    "\n",
    "class_names = image_datasets['train'].classes\n",
    "print(class_names) # check the dataset is formed correctly"
   ]
  },
  {
   "cell_type": "markdown",
   "metadata": {},
   "source": [
    "## Build nn to train the data"
   ]
  },
  {
   "cell_type": "markdown",
   "metadata": {},
   "source": [
    "You have an option to use GPU by setting the flag to True below. It is not necessary to use GPU for this assignment. Note that if your computer does not have CUDA enabled, torch.cuda.is_available() will return False and this notebook will fallback to CPU mode.\n",
    "\n",
    "The global variables dtype and device will control the data types throughout this assignment."
   ]
  },
  {
   "cell_type": "code",
   "execution_count": 4,
   "metadata": {},
   "outputs": [
    {
     "name": "stdout",
     "output_type": "stream",
     "text": [
      "using device: cuda\n",
      "<class 'torch.utils.data.dataloader.DataLoader'>\n"
     ]
    }
   ],
   "source": [
    "USE_GPU = True\n",
    "\n",
    "dtype = torch.float32 # we will be using float throughout this tutorial\n",
    "\n",
    "if USE_GPU and torch.cuda.is_available():\n",
    "    device = torch.device('cuda')\n",
    "else:\n",
    "    device = torch.device('cpu')\n",
    "\n",
    "# Constant to control how frequently we print train loss\n",
    "print_every = 50\n",
    "\n",
    "print('using device:', device)\n",
    "\n",
    "print(type(dataloaders['train']))"
   ]
  },
  {
   "cell_type": "markdown",
   "metadata": {},
   "source": [
    "# PyTorch Module API\n",
    "\n",
    "Barebone PyTorch requires that we track all the parameter tensors by hand. This is fine for small networks with a few tensors, but it would be extremely inconvenient and error-prone to track tens or hundreds of tensors in larger networks.\n",
    "\n",
    "PyTorch provides the `nn.Module` API for you to define arbitrary network architectures, while tracking every learnable parameters for you. In Part II, we implemented SGD ourselves. PyTorch also provides the `torch.optim` package that implements all the common optimizers, such as RMSProp, Adagrad, and Adam. It even supports approximate second-order methods like L-BFGS! You can refer to the [doc](http://pytorch.org/docs/master/optim.html) for the exact specifications of each optimizer.\n",
    "\n",
    "To use the Module API, follow the steps below:\n",
    "\n",
    "1. Subclass `nn.Module`. Give your network class an intuitive name like `TwoLayerFC`. \n",
    "\n",
    "2. In the constructor `__init__()`, define all the layers you need as class attributes. Layer objects like `nn.Linear` and `nn.Conv2d` are themselves `nn.Module` subclasses and contain learnable parameters, so that you don't have to instantiate the raw tensors yourself. `nn.Module` will track these internal parameters for you. Refer to the [doc](http://pytorch.org/docs/master/nn.html) to learn more about the dozens of builtin layers. **Warning**: don't forget to call the `super().__init__()` first!\n",
    "\n",
    "3. In the `forward()` method, define the *connectivity* of your network. You should use the attributes defined in `__init__` as function calls that take tensor as input and output the \"transformed\" tensor. Do *not* create any new layers with learnable parameters in `forward()`! All of them must be declared upfront in `__init__`. \n",
    "\n",
    "After you define your Module subclass, you can instantiate it as an object and call it just like the NN forward function in part II."
   ]
  },
  {
   "cell_type": "markdown",
   "metadata": {},
   "source": [
    "### Module API: Training Loop\n",
    "We also use a slightly different training loop. Rather than updating the values of the weights ourselves, we use an Optimizer object from the `torch.optim` package, which abstract the notion of an optimization algorithm and provides implementations of most of the algorithms commonly used to optimize neural networks."
   ]
  },
  {
   "cell_type": "code",
   "execution_count": 7,
   "metadata": {},
   "outputs": [],
   "source": [
    "def train_part34(model, optimizer, epochs=1):\n",
    "    \"\"\"\n",
    "    Train a model on CIFAR-10 using the PyTorch Module API.\n",
    "    \n",
    "    Inputs:\n",
    "    - model: A PyTorch Module giving the model to train.\n",
    "    - optimizer: An Optimizer object we will use to train the model\n",
    "    - epochs: (Optional) A Python integer giving the number of epochs to train for\n",
    "    \n",
    "    Returns: Nothing, but prints model accuracies during training.\n",
    "    \"\"\"\n",
    "    model = model.to(device=device)  # move the model parameters to CPU/GPU\n",
    "    # store the loss and accuracy history \n",
    "    loss_history = []\n",
    "    train_acc_history = []\n",
    "    val_acc_history = []\n",
    "    for e in range(epochs):             \n",
    "        for t, (x, y) in enumerate(dataloaders['train']):\n",
    "            model.train()  # put model to training mode\n",
    "            x = x.to(device=device)  # move to device, e.g. GPU\n",
    "            y = y.to(device=device)\n",
    "\n",
    "            scores = model(x)\n",
    "            loss = F.cross_entropy(scores, y)\n",
    "            loss_history.append(loss.item())\n",
    "\n",
    "            # Zero out all of the gradients for the variables which the optimizer\n",
    "            # will update.\n",
    "            optimizer.zero_grad()\n",
    "\n",
    "            # This is the backwards pass: compute the gradient of the loss with\n",
    "            # respect to each  parameter of the model.\n",
    "            loss.backward()\n",
    "\n",
    "            # Actually update the parameters of the model using the gradients\n",
    "            # computed by the backwards pass.\n",
    "            optimizer.step()\n",
    "\n",
    "            if t % print_every == 0:\n",
    "                print('Iteration %d, loss = %.4f' % (t, loss.item()))\n",
    "                print('Train accuracy') \n",
    "                train_acc = check_accuracy_part34(data_train, model)\n",
    "                train_acc_history.append(train_acc)\n",
    "                print('Val accuracy') \n",
    "                val_acc = check_accuracy_part34(data_val, model)\n",
    "                val_acc_history.append(val_acc)\n",
    "                print()\n",
    "    return loss_history, train_acc_history, val_acc_history"
   ]
  },
  {
   "cell_type": "markdown",
   "metadata": {},
   "source": [
    "### Module API: Check Accuracy\n",
    "Given the validation or test set, we can check the classification accuracy of a neural network. \n",
    "\n",
    "This version is slightly different from the one in part II. You don't manually pass in the parameters anymore."
   ]
  },
  {
   "cell_type": "code",
   "execution_count": 8,
   "metadata": {},
   "outputs": [],
   "source": [
    "def check_accuracy_part34(loader, model):\n",
    "#     if loader.dataset.train:\n",
    "#         print('Checking accuracy on validation set')\n",
    "#     else:\n",
    "#         print('Checking accuracy on test set')   \n",
    "    num_correct = 0\n",
    "    num_samples = 0\n",
    "    model.eval()  # set model to evaluation mode\n",
    "    with torch.no_grad():\n",
    "        for x, y in loader:\n",
    "            x = x.to(device=device)  # move to device, e.g. GPU\n",
    "            y = y.to(device=device)\n",
    "            scores = model(x)\n",
    "            _, preds = scores.max(1)\n",
    "            num_correct += (preds == y).sum()\n",
    "            num_samples += preds.size(0)\n",
    "        acc = float(num_correct) / num_samples\n",
    "        print('Got %d / %d correct (%.2f)' % (num_correct, num_samples, 100 * acc))\n",
    "        return 100*acc"
   ]
  },
  {
   "cell_type": "code",
   "execution_count": 28,
   "metadata": {},
   "outputs": [
    {
     "name": "stdout",
     "output_type": "stream",
     "text": [
      "Before flattening:  tensor([[[[  0.,   1.],\n",
      "          [  2.,   3.],\n",
      "          [  4.,   5.]]],\n",
      "\n",
      "\n",
      "        [[[  6.,   7.],\n",
      "          [  8.,   9.],\n",
      "          [ 10.,  11.]]]])\n",
      "After flattening:  tensor([[  0.,   1.,   2.,   3.,   4.,   5.],\n",
      "        [  6.,   7.,   8.,   9.,  10.,  11.]])\n"
     ]
    }
   ],
   "source": [
    "def flatten(x):\n",
    "    N = x.shape[0] # read in N, C, H, W\n",
    "    return x.view(N, -1)  # \"flatten\" the C * H * W values into a single vector per image\n",
    "\n",
    "def test_flatten():\n",
    "    x = torch.arange(12).view(2, 1, 3, 2)\n",
    "    print('Before flattening: ', x)\n",
    "    print('After flattening: ', flatten(x))\n",
    "\n",
    "# We need to wrap `flatten` function in a module in order to stack it\n",
    "# in nn.Sequential\n",
    "class Flatten(nn.Module):\n",
    "    def forward(self, x):\n",
    "        return flatten(x)\n",
    "    \n",
    "test_flatten()"
   ]
  },
  {
   "cell_type": "markdown",
   "metadata": {},
   "source": [
    "### Different Network Structures\n",
    "#### Two Layer CNN - SGD"
   ]
  },
  {
   "cell_type": "code",
   "execution_count": 29,
   "metadata": {},
   "outputs": [
    {
     "name": "stdout",
     "output_type": "stream",
     "text": [
      "Iteration 0, loss = 2.8265\n",
      "Train accuracy\n",
      "Got 331 / 3500 correct (9.46)\n",
      "Val accuracy\n",
      "Got 80 / 600 correct (13.33)\n",
      "\n",
      "Iteration 50, loss = 0.3766\n",
      "Train accuracy\n",
      "Got 3106 / 3500 correct (88.74)\n",
      "Val accuracy\n",
      "Got 509 / 600 correct (84.83)\n",
      "\n",
      "Iteration 100, loss = 0.2301\n",
      "Train accuracy\n",
      "Got 3334 / 3500 correct (95.26)\n",
      "Val accuracy\n",
      "Got 555 / 600 correct (92.50)\n",
      "\n",
      "Iteration 0, loss = 0.7021\n",
      "Train accuracy\n",
      "Got 3250 / 3500 correct (92.86)\n",
      "Val accuracy\n",
      "Got 543 / 600 correct (90.50)\n",
      "\n",
      "Iteration 50, loss = 0.1434\n",
      "Train accuracy\n",
      "Got 3429 / 3500 correct (97.97)\n",
      "Val accuracy\n",
      "Got 565 / 600 correct (94.17)\n",
      "\n",
      "Iteration 100, loss = 0.1812\n",
      "Train accuracy\n",
      "Got 3436 / 3500 correct (98.17)\n",
      "Val accuracy\n",
      "Got 572 / 600 correct (95.33)\n",
      "\n"
     ]
    },
    {
     "data": {
      "image/png": "[encoded data removed]",
      "text/plain": [
       "<matplotlib.figure.Figure at 0x7f6a9174ec88>"
      ]
     },
     "metadata": {},
     "output_type": "display_data"
    }
   ],
   "source": [
    "channel_1 = 8\n",
    "channel_2 = 8\n",
    "learning_rate = 1e-2\n",
    "\n",
    "model = None\n",
    "optimizer = None\n",
    "\n",
    "################################################################################\n",
    "# TODO: Rewrite the 2-layer ConvNet with bias from Part III with the           #\n",
    "# Sequential API.                                                              #\n",
    "################################################################################\n",
    "two_cnn_model = nn.Sequential(\n",
    "    nn.Conv2d(1, channel_1, 5, stride = 1, padding=2, bias=True),\n",
    "    nn.ReLU(),\n",
    "    nn.Conv2d(channel_1, channel_2, 3, stride = 1, padding=1, bias=True),\n",
    "    nn.ReLU(),\n",
    "    Flatten(),\n",
    "    nn.Linear(channel_2 * resize_shape * resize_shape, num_class),    \n",
    ")\n",
    "\n",
    "# you can use Nesterov momentum in optim.SGD\n",
    "optimizer = optim.SGD(two_cnn_model.parameters(), lr=learning_rate,\n",
    "                     momentum=0.9, nesterov=True)\n",
    "################################################################################\n",
    "#                                 END OF YOUR CODE                             \n",
    "################################################################################\n",
    "\n",
    "loss_history, train_acc_history, val_acc_history = train_part34(two_cnn_model, optimizer, epochs = 2)\n",
    "\n",
    "# plot loss history\n",
    "plt.subplot(2, 1, 1)\n",
    "plt.plot(loss_history, 'o')\n",
    "plt.xlabel('iteration')\n",
    "plt.ylabel('loss')\n",
    "plt.title('Two Layer CNN, Optimizer = SGD')\n",
    "\n",
    "plt.subplot(2, 1, 2)\n",
    "plt.plot(train_acc_history, '-o')\n",
    "plt.plot(val_acc_history, '-o')\n",
    "plt.legend(['train', 'val'], loc='upper left')\n",
    "plt.xlabel('epoch')\n",
    "plt.ylabel('accuracy')\n",
    "plt.show()"
   ]
  },
  {
   "cell_type": "markdown",
   "metadata": {},
   "source": [
    "#### One Layer CNN - SGD"
   ]
  },
  {
   "cell_type": "code",
   "execution_count": 43,
   "metadata": {},
   "outputs": [
    {
     "name": "stdout",
     "output_type": "stream",
     "text": [
      "Iteration 0, loss = 2.8729\n",
      "Train accuracy\n",
      "Got 494 / 3500 correct (14.11)\n",
      "Val accuracy\n",
      "Got 85 / 600 correct (14.17)\n",
      "\n",
      "Iteration 50, loss = 0.3787\n",
      "Train accuracy\n",
      "Got 3208 / 3500 correct (91.66)\n",
      "Val accuracy\n",
      "Got 523 / 600 correct (87.17)\n",
      "\n",
      "Iteration 100, loss = 0.3922\n",
      "Train accuracy\n",
      "Got 3428 / 3500 correct (97.94)\n",
      "Val accuracy\n",
      "Got 577 / 600 correct (96.17)\n",
      "\n",
      "Iteration 0, loss = 0.0418\n",
      "Train accuracy\n",
      "Got 3426 / 3500 correct (97.89)\n",
      "Val accuracy\n",
      "Got 567 / 600 correct (94.50)\n",
      "\n",
      "Iteration 50, loss = 0.1172\n",
      "Train accuracy\n",
      "Got 3461 / 3500 correct (98.89)\n",
      "Val accuracy\n",
      "Got 581 / 600 correct (96.83)\n",
      "\n",
      "Iteration 100, loss = 0.1107\n",
      "Train accuracy\n",
      "Got 3479 / 3500 correct (99.40)\n",
      "Val accuracy\n",
      "Got 582 / 600 correct (97.00)\n",
      "\n"
     ]
    },
    {
     "data": {
      "image/png": "[encoded data removed]",
      "text/plain": [
       "<matplotlib.figure.Figure at 0x7f82d2c97358>"
      ]
     },
     "metadata": {},
     "output_type": "display_data"
    }
   ],
   "source": [
    "channel_1 = 8\n",
    "channel_2 = 8\n",
    "learning_rate = 1e-2\n",
    "\n",
    "model = None\n",
    "optimizer = None\n",
    "\n",
    "################################################################################\n",
    "# TODO: Rewrite the 2-layer ConvNet with bias from Part III with the           #\n",
    "# Sequential API.                                                              #\n",
    "################################################################################\n",
    "one_cnn_model = nn.Sequential(\n",
    "    nn.Conv2d(1, channel_1, 5, stride = 1, padding=2, bias=True),\n",
    "    nn.ReLU(),\n",
    "    Flatten(),\n",
    "    nn.Linear(channel_1 * resize_shape * resize_shape, num_class),    \n",
    ")\n",
    "\n",
    "# you can use Nesterov momentum in optim.SGD\n",
    "optimizer = optim.SGD(one_cnn_model.parameters(), lr=learning_rate,\n",
    "                     momentum=0.9, nesterov=True)\n",
    "################################################################################\n",
    "#                                 END OF YOUR CODE                             \n",
    "################################################################################\n",
    "\n",
    "loss_history, train_acc_history, val_acc_history = train_part34(one_cnn_model, optimizer, epochs = 2)\n",
    "\n",
    "# plot the loss and acc history\n",
    "plt.subplot(2, 1, 1)\n",
    "plt.plot(loss_history, 'o')\n",
    "plt.xlabel('iteration')\n",
    "plt.ylabel('loss')\n",
    "plt.title('One Layer CNN, Optimizer = SGD')\n",
    "\n",
    "plt.subplot(2, 1, 2)\n",
    "plt.plot(train_acc_history, '-o')\n",
    "plt.plot(val_acc_history, '-o')\n",
    "plt.legend(['train', 'val'], loc='upper left')\n",
    "plt.xlabel('epoch')\n",
    "plt.ylabel('accuracy')\n",
    "plt.show()"
   ]
  },
  {
   "cell_type": "markdown",
   "metadata": {},
   "source": [
    "#### Two Layer Fully Connected Nerual Network"
   ]
  },
  {
   "cell_type": "code",
   "execution_count": 44,
   "metadata": {},
   "outputs": [
    {
     "name": "stdout",
     "output_type": "stream",
     "text": [
      "Iteration 0, loss = 2.7521\n",
      "Train accuracy\n",
      "Got 302 / 3500 correct (8.63)\n",
      "Val accuracy\n",
      "Got 55 / 600 correct (9.17)\n",
      "\n",
      "Iteration 50, loss = 0.7047\n",
      "Train accuracy\n",
      "Got 2961 / 3500 correct (84.60)\n",
      "Val accuracy\n",
      "Got 502 / 600 correct (83.67)\n",
      "\n",
      "Iteration 100, loss = 0.5109\n",
      "Train accuracy\n",
      "Got 3146 / 3500 correct (89.89)\n",
      "Val accuracy\n",
      "Got 532 / 600 correct (88.67)\n",
      "\n",
      "Iteration 0, loss = 0.1270\n",
      "Train accuracy\n",
      "Got 3273 / 3500 correct (93.51)\n",
      "Val accuracy\n",
      "Got 541 / 600 correct (90.17)\n",
      "\n",
      "Iteration 50, loss = 0.5939\n",
      "Train accuracy\n",
      "Got 3307 / 3500 correct (94.49)\n",
      "Val accuracy\n",
      "Got 557 / 600 correct (92.83)\n",
      "\n",
      "Iteration 100, loss = 0.3320\n",
      "Train accuracy\n",
      "Got 3383 / 3500 correct (96.66)\n",
      "Val accuracy\n",
      "Got 565 / 600 correct (94.17)\n",
      "\n"
     ]
    },
    {
     "data": {
      "image/png": "[encoded data removed]",
      "text/plain": [
       "<matplotlib.figure.Figure at 0x7f82d2d4f0f0>"
      ]
     },
     "metadata": {},
     "output_type": "display_data"
    }
   ],
   "source": [
    "hidden_layer_size = 50\n",
    "learning_rate = 1e-2\n",
    "\n",
    "fcn_model = nn.Sequential(\n",
    "    Flatten(),\n",
    "    nn.Linear(1 * resize_shape * resize_shape, hidden_layer_size),\n",
    "    nn.ReLU(),\n",
    "    nn.Linear(hidden_layer_size, num_class),\n",
    ")\n",
    "\n",
    "# you can use Nesterov momentum in optim.SGD\n",
    "optimizer = optim.SGD(fcn_model.parameters(), lr=learning_rate,\n",
    "                     momentum=0.9, nesterov=True)\n",
    "\n",
    "loss_history, train_acc_history, val_acc_history = train_part34(fcn_model, optimizer, epochs = 2)\n",
    "\n",
    "# plot the loss and acc history\n",
    "plt.subplot(2, 1, 1)\n",
    "plt.plot(loss_history, 'o')\n",
    "plt.xlabel('iteration')\n",
    "plt.ylabel('loss')\n",
    "plt.title('Two Layer Fully Connected Layer, Optimizer = SGD')\n",
    "\n",
    "plt.subplot(2, 1, 2)\n",
    "plt.plot(train_acc_history, '-o')\n",
    "plt.plot(val_acc_history, '-o')\n",
    "plt.legend(['train', 'val'], loc='upper left')\n",
    "plt.xlabel('epoch')\n",
    "plt.ylabel('accuracy')\n",
    "plt.show()"
   ]
  },
  {
   "cell_type": "markdown",
   "metadata": {},
   "source": [
    "#### Two Layer CNN - adam optimizer"
   ]
  },
  {
   "cell_type": "code",
   "execution_count": 45,
   "metadata": {},
   "outputs": [
    {
     "name": "stdout",
     "output_type": "stream",
     "text": [
      "Iteration 0, loss = 2.8670\n",
      "Train accuracy\n",
      "Got 326 / 3500 correct (9.31)\n",
      "Val accuracy\n",
      "Got 56 / 600 correct (9.33)\n",
      "\n",
      "Iteration 50, loss = 0.5358\n",
      "Train accuracy\n",
      "Got 3227 / 3500 correct (92.20)\n",
      "Val accuracy\n",
      "Got 533 / 600 correct (88.83)\n",
      "\n",
      "Iteration 100, loss = 0.3866\n",
      "Train accuracy\n",
      "Got 3367 / 3500 correct (96.20)\n",
      "Val accuracy\n",
      "Got 565 / 600 correct (94.17)\n",
      "\n",
      "Iteration 0, loss = 0.0939\n",
      "Train accuracy\n",
      "Got 3399 / 3500 correct (97.11)\n",
      "Val accuracy\n",
      "Got 563 / 600 correct (93.83)\n",
      "\n",
      "Iteration 50, loss = 0.2173\n",
      "Train accuracy\n",
      "Got 3448 / 3500 correct (98.51)\n",
      "Val accuracy\n",
      "Got 577 / 600 correct (96.17)\n",
      "\n",
      "Iteration 100, loss = 0.0761\n",
      "Train accuracy\n",
      "Got 3474 / 3500 correct (99.26)\n",
      "Val accuracy\n",
      "Got 583 / 600 correct (97.17)\n",
      "\n"
     ]
    },
    {
     "data": {
      "image/png": "[encoded data removed]",
      "text/plain": [
       "<matplotlib.figure.Figure at 0x7f82d001b048>"
      ]
     },
     "metadata": {},
     "output_type": "display_data"
    }
   ],
   "source": [
    "channel_1 = 8\n",
    "channel_2 = 8\n",
    "learning_rate = 1e-3\n",
    "\n",
    "model = None\n",
    "optimizer = None\n",
    "\n",
    "################################################################################\n",
    "# TODO: Rewrite the 2-layer ConvNet with bias from Part III with the           #\n",
    "# Sequential API.                                                              #\n",
    "################################################################################\n",
    "two_cnn_model2 = nn.Sequential(\n",
    "    nn.Conv2d(1, channel_1, 5, stride = 1, padding=2, bias=True),\n",
    "    nn.ReLU(),\n",
    "    nn.Conv2d(channel_1, channel_2, 3, stride = 1, padding=1, bias=True),\n",
    "    nn.ReLU(),\n",
    "    Flatten(),\n",
    "    nn.Linear(channel_2 * resize_shape * resize_shape, num_class),    \n",
    ")\n",
    "\n",
    "# you can use Nesterov momentum in optim.SGD\n",
    "optimizer = optim.Adam(two_cnn_model2.parameters(), lr=learning_rate, betas=(0.9, 0.999), eps=1e-08, weight_decay=0, amsgrad=False)\n",
    "################################################################################\n",
    "#                                 END OF YOUR CODE                             \n",
    "################################################################################\n",
    "\n",
    "loss_history, train_acc_history, val_acc_history = train_part34(two_cnn_model2, optimizer, epochs = 2)\n",
    "\n",
    "# plot the loss and acc history\n",
    "plt.subplot(2, 1, 1)\n",
    "plt.plot(loss_history, 'o')\n",
    "plt.xlabel('iteration')\n",
    "plt.ylabel('loss')\n",
    "plt.title('Two Layer CNN, Optimizer = Adam')\n",
    "\n",
    "plt.subplot(2, 1, 2)\n",
    "plt.plot(train_acc_history, '-o')\n",
    "plt.plot(val_acc_history, '-o')\n",
    "plt.legend(['train', 'val'], loc='upper left')\n",
    "plt.xlabel('epoch')\n",
    "plt.ylabel('accuracy')\n",
    "plt.show()"
   ]
  },
  {
   "cell_type": "code",
   "execution_count": 48,
   "metadata": {},
   "outputs": [
    {
     "name": "stdout",
     "output_type": "stream",
     "text": [
      "Got 654 / 691 correct (94.65)\n",
      "Test accuracy of 2 Layer CNN with SGD: 94.65\n",
      "Got 671 / 691 correct (97.11)\n",
      "Test accuracy of 2 Layer CNN with Adam: 97.11\n",
      "Got 672 / 691 correct (97.25)\n",
      "Test accuracy of 1 Layer CNN with SGD: 97.25\n",
      "Got 656 / 691 correct (94.93)\n",
      "Test accuracy of 2 Layer FCN with SGD: 94.93\n"
     ]
    }
   ],
   "source": [
    "print('Test accuracy of 2 Layer CNN with SGD: %.2f' % check_accuracy_part34(data_test, two_cnn_model))\n",
    "print('Test accuracy of 2 Layer CNN with Adam: %.2f' % check_accuracy_part34(data_test, two_cnn_model2))\n",
    "print('Test accuracy of 1 Layer CNN with SGD: %.2f' % check_accuracy_part34(data_test, one_cnn_model))\n",
    "print('Test accuracy of 2 Layer FCN with SGD: %.2f' % check_accuracy_part34(data_test, fcn_model))"
   ]
  },
  {
   "cell_type": "code",
   "execution_count": 65,
   "metadata": {},
   "outputs": [
    {
     "name": "stdout",
     "output_type": "stream",
     "text": [
      "Confusion matrix, without normalization\n",
      "[[38  0  0  0  0  0  0  0  0  0  0  0  0  0  0  0]\n",
      " [ 0 49  0  0  0  0  0  0  0  0  0  0  0  0  0  0]\n",
      " [ 0  0 53  0  0  0  0  1  0  0  0  0  0  0  0  0]\n",
      " [ 0  0  0 73  0  0  0  0  0  0  0  0  0  0  0  0]\n",
      " [ 0  0  0  0 51  0  0  0  0  0  0  0  1  0  0  0]\n",
      " [ 0  0  0  0  0 26  0  1  0  0  0  0  1  0  0  0]\n",
      " [ 0  0  0  0  1  0  8  1  0  0  0  0  0  0  0  0]\n",
      " [ 1  0  0  0  2  0  0 59  0  0  0  0  0  7  0  0]\n",
      " [ 0  0  0  0  0  0  0  0 33  0  0  0  0  0  0  0]\n",
      " [ 0  0  0  0  0  0  0  0  0 49  0  0  0  0  0  0]\n",
      " [ 0  0  0  0  0  0  0  0  0  0 35  0  0  0  0  0]\n",
      " [ 0  0  0  0  0  0  0  0  0  0  0 40  0  0  0  0]\n",
      " [ 0  0  0  0  0  0  0  0  0  0  0  0 83  1  0  0]\n",
      " [ 0  0  0  1  0  0  0  1  0  0  0  0  0 52  0  0]\n",
      " [ 0  0  0  0  0  0  0  0  0  0  0  0  0  0 11  0]\n",
      " [ 0  0  0  0  0  0  0  0  0  0  0  0  0  0  0 12]]\n"
     ]
    },
    {
     "ename": "NameError",
     "evalue": "name 'itertools' is not defined",
     "output_type": "error",
     "traceback": [
      "\u001b[0;31m---------------------------------------------------------------------------\u001b[0m",
      "\u001b[0;31mNameError\u001b[0m                                 Traceback (most recent call last)",
      "\u001b[0;32m<ipython-input-65-babbf59c5491>\u001b[0m in \u001b[0;36m<module>\u001b[0;34m()\u001b[0m\n\u001b[1;32m     55\u001b[0m \u001b[0mplt\u001b[0m\u001b[0;34m.\u001b[0m\u001b[0mfigure\u001b[0m\u001b[0;34m(\u001b[0m\u001b[0mfigsize\u001b[0m \u001b[0;34m=\u001b[0m \u001b[0;34m(\u001b[0m\u001b[0;36m8\u001b[0m\u001b[0;34m,\u001b[0m\u001b[0;36m8\u001b[0m\u001b[0;34m)\u001b[0m\u001b[0;34m)\u001b[0m\u001b[0;34m\u001b[0m\u001b[0m\n\u001b[1;32m     56\u001b[0m plot_confusion_matrix(cm, classes=label_type,\n\u001b[0;32m---> 57\u001b[0;31m                       title='Confusion matrix, without normalization')\n\u001b[0m",
      "\u001b[0;32m<ipython-input-65-babbf59c5491>\u001b[0m in \u001b[0;36mplot_confusion_matrix\u001b[0;34m(cm, classes, normalize, title, cmap)\u001b[0m\n\u001b[1;32m     25\u001b[0m     \u001b[0mfmt\u001b[0m \u001b[0;34m=\u001b[0m \u001b[0;34m'.2f'\u001b[0m \u001b[0;32mif\u001b[0m \u001b[0mnormalize\u001b[0m \u001b[0;32melse\u001b[0m \u001b[0;34m'd'\u001b[0m\u001b[0;34m\u001b[0m\u001b[0m\n\u001b[1;32m     26\u001b[0m     \u001b[0mthresh\u001b[0m \u001b[0;34m=\u001b[0m \u001b[0mcm\u001b[0m\u001b[0;34m.\u001b[0m\u001b[0mmax\u001b[0m\u001b[0;34m(\u001b[0m\u001b[0;34m)\u001b[0m \u001b[0;34m/\u001b[0m \u001b[0;36m2.\u001b[0m\u001b[0;34m\u001b[0m\u001b[0m\n\u001b[0;32m---> 27\u001b[0;31m     \u001b[0;32mfor\u001b[0m \u001b[0mi\u001b[0m\u001b[0;34m,\u001b[0m \u001b[0mj\u001b[0m \u001b[0;32min\u001b[0m \u001b[0mitertools\u001b[0m\u001b[0;34m.\u001b[0m\u001b[0mproduct\u001b[0m\u001b[0;34m(\u001b[0m\u001b[0mrange\u001b[0m\u001b[0;34m(\u001b[0m\u001b[0mcm\u001b[0m\u001b[0;34m.\u001b[0m\u001b[0mshape\u001b[0m\u001b[0;34m[\u001b[0m\u001b[0;36m0\u001b[0m\u001b[0;34m]\u001b[0m\u001b[0;34m)\u001b[0m\u001b[0;34m,\u001b[0m \u001b[0mrange\u001b[0m\u001b[0;34m(\u001b[0m\u001b[0mcm\u001b[0m\u001b[0;34m.\u001b[0m\u001b[0mshape\u001b[0m\u001b[0;34m[\u001b[0m\u001b[0;36m1\u001b[0m\u001b[0;34m]\u001b[0m\u001b[0;34m)\u001b[0m\u001b[0;34m)\u001b[0m\u001b[0;34m:\u001b[0m\u001b[0;34m\u001b[0m\u001b[0m\n\u001b[0m\u001b[1;32m     28\u001b[0m         plt.text(j, i, format(cm[i, j], fmt),\n\u001b[1;32m     29\u001b[0m                  \u001b[0mhorizontalalignment\u001b[0m\u001b[0;34m=\u001b[0m\u001b[0;34m\"center\"\u001b[0m\u001b[0;34m,\u001b[0m\u001b[0;34m\u001b[0m\u001b[0m\n",
      "\u001b[0;31mNameError\u001b[0m: name 'itertools' is not defined"
     ]
    },
    {
     "data": {
      "image/png": "[encoded data removed]",
      "text/plain": [
       "<matplotlib.figure.Figure at 0x7f82d8e59f28>"
      ]
     },
     "metadata": {},
     "output_type": "display_data"
    }
   ],
   "source": [
    "# plot the confusion matrix in a nice way\n",
    "def plot_confusion_matrix(cm, classes,\n",
    "                          normalize=False,\n",
    "                          title='Confusion matrix',\n",
    "                          cmap=plt.cm.Blues):\n",
    "    \"\"\"\n",
    "    This function prints and plots the confusion matrix.\n",
    "    Normalization can be applied by setting `normalize=True`.\n",
    "    \"\"\"\n",
    "    if normalize:\n",
    "        cm = cm.astype('float') / cm.sum(axis=1)[:, np.newaxis]\n",
    "        print(\"Normalized confusion matrix\")\n",
    "    else:\n",
    "        print('Confusion matrix, without normalization')\n",
    "\n",
    "    print(cm)\n",
    "\n",
    "    plt.imshow(cm, interpolation='nearest', cmap=cmap)\n",
    "    plt.title(title)\n",
    "    plt.colorbar()\n",
    "    tick_marks = np.arange(len(classes))\n",
    "    plt.xticks(tick_marks, classes, rotation=45)\n",
    "    plt.yticks(tick_marks, classes)\n",
    "\n",
    "    fmt = '.2f' if normalize else 'd'\n",
    "    thresh = cm.max() / 2.\n",
    "    for i, j in itertools.product(range(cm.shape[0]), range(cm.shape[1])):\n",
    "        plt.text(j, i, format(cm[i, j], fmt),\n",
    "                 horizontalalignment=\"center\",\n",
    "                 color=\"white\" if cm[i, j] > thresh else \"black\")\n",
    "\n",
    "    plt.tight_layout()\n",
    "    plt.ylabel('True label')\n",
    "    plt.xlabel('Predicted label')\n",
    "\n",
    "# Compute confusion matrix\n",
    "one_cnn_model.eval()  # one layer cnn turned out to perform the best on test data\n",
    "y_preds = []\n",
    "y_true = []\n",
    "with torch.no_grad():\n",
    "    for x, y in data_test:\n",
    "        x = x.to(device=device, dtype=dtype)  # move to device, e.g. GPU\n",
    "        y = y.to(device=device, dtype=torch.long)\n",
    "        y_true.append(y.numpy())\n",
    "        scores = one_cnn_model(x)\n",
    "        _, preds = scores.max(1)\n",
    "        y_preds.append(preds.numpy())\n",
    "        \n",
    "# print(np.concatenate(y_preds, axis = 0))\n",
    "# print('  s')\n",
    "# print(y_true)\n",
    "cm = confusion_matrix(np.concatenate(y_true, axis = 0), np.concatenate(y_preds, axis = 0))\n",
    "\n",
    "# Plot non-normalized confusion matrix\n",
    "plt.figure(figsize = (8,8))\n",
    "plot_confusion_matrix(cm, classes=label_type,\n",
    "                      title='Confusion matrix, without normalization')"
   ]
  },
  {
   "cell_type": "code",
   "execution_count": 61,
   "metadata": {},
   "outputs": [
    {
     "data": {
      "text/plain": [
       "['rests2',\n",
       " 'trebleClef',\n",
       " 'sharps',\n",
       " 'notesOpen',\n",
       " 'notes',\n",
       " 'staccatissimo',\n",
       " 'accent',\n",
       " 'bassClef',\n",
       " 'unknown',\n",
       " 'rests1',\n",
       " 'flat',\n",
       " 'notesFlags',\n",
       " 'naturals',\n",
       " 'beams',\n",
       " 'relation',\n",
       " 'time',\n",
       " 'altoClef']"
      ]
     },
     "execution_count": 61,
     "metadata": {},
     "output_type": "execute_result"
    }
   ],
   "source": [
    "label_type"
   ]
  }
 ],
 "metadata": {
  "kernelspec": {
   "display_name": "Python 3",
   "language": "python",
   "name": "python3"
  },
  "language_info": {
   "codemirror_mode": {
    "name": "ipython",
    "version": 3
   },
   "file_extension": ".py",
   "mimetype": "text/x-python",
   "name": "python",
   "nbconvert_exporter": "python",
   "pygments_lexer": "ipython3",
   "version": "3.6.4"
  }
 },
 "nbformat": 4,
 "nbformat_minor": 2
}
