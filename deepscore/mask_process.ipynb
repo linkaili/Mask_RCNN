{
 "cells": [
  {
   "cell_type": "code",
   "execution_count": 2,
   "metadata": {},
   "outputs": [],
   "source": [
    "import pathlib\n",
    "from skimage.io import imread, imsave, imshow\n",
    "import numpy as np\n",
    "from scipy import ndimage\n",
    "import matplotlib.pyplot as plt\n",
    "import matplotlib.patches as patches\n",
    "% matplotlib inline\n",
    "# process xml file\n",
    "import xml.etree.ElementTree"
   ]
  },
  {
   "cell_type": "code",
   "execution_count": 9,
   "metadata": {},
   "outputs": [
    {
     "name": "stdout",
     "output_type": "stream",
     "text": [
      "../../DeepScores_archive0/images_png/lg-100016039-aug-beethoven--page-4.png\n",
      "10000\n",
      "../../DeepScores_archive0/pix_annotations_png/lg-100016039-aug-beethoven--page-4.png\n",
      "../../DeepScores_archive0/xml_annotations/lg-100016039-aug-beethoven--page-4.xml\n"
     ]
    },
    {
     "ename": "NameError",
     "evalue": "name 'xml' is not defined",
     "output_type": "error",
     "traceback": [
      "\u001b[0;31m---------------------------------------------------------------------------\u001b[0m",
      "\u001b[0;31mNameError\u001b[0m                                 Traceback (most recent call last)",
      "\u001b[0;32m<ipython-input-9-3f38ced0067a>\u001b[0m in \u001b[0;36m<module>\u001b[0;34m()\u001b[0m\n\u001b[1;32m     19\u001b[0m \u001b[0mim\u001b[0m \u001b[0;34m=\u001b[0m \u001b[0mimread\u001b[0m\u001b[0;34m(\u001b[0m\u001b[0mstr\u001b[0m\u001b[0;34m(\u001b[0m\u001b[0mim_path\u001b[0m\u001b[0;34m)\u001b[0m\u001b[0;34m)\u001b[0m\u001b[0;34m\u001b[0m\u001b[0m\n\u001b[1;32m     20\u001b[0m \u001b[0mmask\u001b[0m \u001b[0;34m=\u001b[0m \u001b[0mimread\u001b[0m\u001b[0;34m(\u001b[0m\u001b[0mstr\u001b[0m\u001b[0;34m(\u001b[0m\u001b[0mmask_path\u001b[0m\u001b[0;34m)\u001b[0m\u001b[0;34m)\u001b[0m\u001b[0;34m\u001b[0m\u001b[0m\n\u001b[0;32m---> 21\u001b[0;31m \u001b[0mroot\u001b[0m \u001b[0;34m=\u001b[0m \u001b[0mxml\u001b[0m\u001b[0;34m.\u001b[0m\u001b[0metree\u001b[0m\u001b[0;34m.\u001b[0m\u001b[0mElementTree\u001b[0m\u001b[0;34m.\u001b[0m\u001b[0mparse\u001b[0m\u001b[0;34m(\u001b[0m\u001b[0mstr\u001b[0m\u001b[0;34m(\u001b[0m\u001b[0mxml_path\u001b[0m\u001b[0;34m)\u001b[0m\u001b[0;34m)\u001b[0m\u001b[0;34m.\u001b[0m\u001b[0mgetroot\u001b[0m\u001b[0;34m(\u001b[0m\u001b[0;34m)\u001b[0m\u001b[0;34m\u001b[0m\u001b[0m\n\u001b[0m\u001b[1;32m     22\u001b[0m \u001b[0msize\u001b[0m \u001b[0;34m=\u001b[0m \u001b[0mroot\u001b[0m\u001b[0;34m.\u001b[0m\u001b[0mfindall\u001b[0m\u001b[0;34m(\u001b[0m\u001b[0;34m'size'\u001b[0m\u001b[0;34m)\u001b[0m\u001b[0;34m\u001b[0m\u001b[0m\n\u001b[1;32m     23\u001b[0m \u001b[0mwidth\u001b[0m \u001b[0;34m=\u001b[0m \u001b[0mfloat\u001b[0m\u001b[0;34m(\u001b[0m\u001b[0msize\u001b[0m\u001b[0;34m[\u001b[0m\u001b[0;36m0\u001b[0m\u001b[0;34m]\u001b[0m\u001b[0;34m[\u001b[0m\u001b[0;36m0\u001b[0m\u001b[0;34m]\u001b[0m\u001b[0;34m.\u001b[0m\u001b[0mtext\u001b[0m\u001b[0;34m)\u001b[0m\u001b[0;34m\u001b[0m\u001b[0m\n",
      "\u001b[0;31mNameError\u001b[0m: name 'xml' is not defined"
     ]
    }
   ],
   "source": [
    "# Glob the training data and load a single image path\n",
    "training_img_paths = pathlib.Path('../../').glob('*/images_png/*.png')\n",
    "training_img_sorted = sorted([x for x in training_img_paths])\n",
    "\n",
    "# mask and xml files\n",
    "training_mask_paths = pathlib.Path('../../').glob('*/pix_annotations_png/*.png')\n",
    "training_mask_sorted = sorted([x for x in training_mask_paths])\n",
    "\n",
    "training_xml_paths = pathlib.Path('../../').glob('*/xml_annotations/*.xml')\n",
    "training_xml_sorted = sorted([x for x in training_xml_paths])\n",
    "\n",
    "im_path = training_img_sorted[0]\n",
    "mask_path = training_mask_sorted[0]\n",
    "xml_path = training_xml_sorted[0]\n",
    "print(im_path)\n",
    "print(len(training_img_sorted))\n",
    "print(mask_path)\n",
    "print(xml_path)\n",
    "im = imread(str(im_path))\n",
    "mask = imread(str(mask_path))\n",
    "root = xml.etree.ElementTree.parse(str(xml_path)).getroot()\n",
    "size = root.findall('size')\n",
    "width = float(size[0][0].text)\n",
    "height = float(size[0][1].text)"
   ]
  },
  {
   "cell_type": "code",
   "execution_count": 6,
   "metadata": {},
   "outputs": [
    {
     "data": {
      "text/plain": [
       "<matplotlib.image.AxesImage at 0x10c355d30>"
      ]
     },
     "execution_count": 6,
     "metadata": {},
     "output_type": "execute_result"
    },
    {
     "data": {
      "image/png": "[encoded data removed]",
      "text/plain": [
       "<matplotlib.figure.Figure at 0x10c26db38>"
      ]
     },
     "metadata": {},
     "output_type": "display_data"
    }
   ],
   "source": [
    "# show the image and mask to check they are consistent\n",
    "plt.figure(figsize = (6, 8))\n",
    "plt.subplot(211)\n",
    "plt.imshow(im)\n",
    "\n",
    "plt.subplot(212)\n",
    "plt.imshow(mask, cmap = 'gray')"
   ]
  },
  {
   "cell_type": "code",
   "execution_count": 7,
   "metadata": {},
   "outputs": [],
   "source": [
    "# process xml file\n",
    "import xml.etree.ElementTree"
   ]
  },
  {
   "cell_type": "code",
   "execution_count": 49,
   "metadata": {},
   "outputs": [],
   "source": [
    "# get the information of all symbols in one image\n",
    "def get_symbol_info(xml_path):\n",
    "    root = xml.etree.ElementTree.parse(str(xml_path)).getroot()\n",
    "    size = root.findall('size')\n",
    "    width = float(size[0][0].text)\n",
    "    height = float(size[0][1].text)\n",
    "\n",
    "    symbols = []\n",
    "    symbol_names = set() # use a set to store unique symbol names\n",
    "    rectangles = []\n",
    "\n",
    "    # get the bounding box for each object, multiply with its width and height to get the real pixel coords\n",
    "    for symbol in root.findall('object'):\n",
    "        name = symbol.find('name').text\n",
    "        xmin = round(float(symbol.find('bndbox')[0].text)*width)\n",
    "        xmax = round(float(symbol.find('bndbox')[1].text)*width)\n",
    "        ymin = round(float(symbol.find('bndbox')[2].text)*height)\n",
    "        ymax = round(float(symbol.find('bndbox')[3].text)*height)\n",
    "\n",
    "        current_rectangle = name, (xmin, ymin), xmax - xmin, ymax - ymin\n",
    "        current_symbol = name, xmin, xmax, ymin, ymax, height, width\n",
    "        rectangles.append(current_rectangle)\n",
    "        symbols.append(current_symbol)\n",
    "        symbol_names.add(name)\n",
    "    return symbols, symbol_names, rectangles"
   ]
  },
  {
   "cell_type": "code",
   "execution_count": 47,
   "metadata": {},
   "outputs": [
    {
     "name": "stdout",
     "output_type": "stream",
     "text": [
      "2707.0 3828.0\n",
      "There are 104 symbols in the score\n"
     ]
    },
    {
     "data": {
      "text/plain": [
       "<matplotlib.figure.Figure at 0x10caaa0b8>"
      ]
     },
     "metadata": {},
     "output_type": "display_data"
    },
    {
     "data": {
      "image/png": "[encoded data removed]",
      "text/plain": [
       "<matplotlib.figure.Figure at 0x10d1d0b38>"
      ]
     },
     "metadata": {},
     "output_type": "display_data"
    }
   ],
   "source": [
    "# draw the bounding box to make sure the coordinates extracted are correct\n",
    "# Create figure and axes\n",
    "plt.figure(figsize = (12, 20))\n",
    "fig,ax = plt.subplots(1)\n",
    "\n",
    "symbols, symbol_names, rectangles = get_symbol_info(xml_path)\n",
    "\n",
    "# Display the image\n",
    "ax.imshow(im)\n",
    "print('There are %d symbols in the score' % len(rectangles))\n",
    "for rectan in rectangles:\n",
    "    # Create a Rectangle patch\n",
    "    rect = patches.Rectangle(rectan[1],rectan[2],rectan[3],linewidth=1,edgecolor='r',facecolor='none')\n",
    "\n",
    "    # Add the patch to the Axes\n",
    "    ax.add_patch(rect)\n",
    "\n",
    "plt.show()"
   ]
  },
  {
   "cell_type": "code",
   "execution_count": 15,
   "metadata": {},
   "outputs": [
    {
     "name": "stdout",
     "output_type": "stream",
     "text": [
      "[('brace', 99, 122, 204, 615, 3828.0, 2707.0), ('fClef', 147, 212, 522, 601, 3828.0, 2707.0), ('fClef', 147, 212, 1373, 1451, 3828.0, 2707.0), ('gClef', 151, 213, 159, 332, 3828.0, 2707.0), ('gClef', 151, 213, 919, 1092, 3828.0, 2707.0), ('gClef', 151, 213, 1736, 1909, 3828.0, 2707.0), ('unpitchedPercussionClef1', 166, 193, 3029, 3075, 3828.0, 2707.0), ('accidentalSharp', 226, 251, 954, 1022, 3828.0, 2707.0), ('accidentalSharp', 256, 281, 194, 262, 3828.0, 2707.0), ('accidentalSharp', 256, 281, 920, 988, 3828.0, 2707.0), ('accidentalSharp', 256, 281, 1362, 1430, 3828.0, 2707.0), ('noteheadBlack', 289, 317, 158, 183, 3828.0, 2707.0), ('noteheadBlack', 289, 317, 215, 240, 3828.0, 2707.0), ('noteheadWhole', 289, 329, 941, 967, 3828.0, 2707.0), ('noteheadWhole', 289, 329, 976, 1001, 3828.0, 2707.0), ('noteheadWhole', 289, 329, 1349, 1375, 3828.0, 2707.0), ('noteheadWhole', 289, 329, 1384, 1409, 3828.0, 2707.0), ('noteheadWhole', 289, 329, 1429, 1455, 3828.0, 2707.0), ('flag8thDown', 290, 312, 240, 307, 3828.0, 2707.0), ('accidentalSharp', 343, 368, 194, 262, 3828.0, 2707.0), ('accidentalSharp', 373, 397, 159, 227, 3828.0, 2707.0), ('noteheadBlack', 405, 434, 181, 206, 3828.0, 2707.0), ('noteheadBlack', 405, 434, 215, 240, 3828.0, 2707.0), ('augmentationDot', 445, 457, 188, 199, 3828.0, 2707.0), ('augmentationDot', 445, 457, 211, 222, 3828.0, 2707.0), ('restWhole', 539, 569, 546, 559, 3828.0, 2707.0), ('restWhole', 539, 569, 1805, 1817, 3828.0, 2707.0), ('restWhole', 539, 569, 3029, 3042, 3828.0, 2707.0), ('noteheadBlack', 609, 638, 158, 183, 3828.0, 2707.0), ('noteheadBlack', 609, 638, 215, 240, 3828.0, 2707.0), ('noteheadBlack', 750, 778, 181, 206, 3828.0, 2707.0), ('noteheadBlack', 750, 778, 215, 240, 3828.0, 2707.0), ('accidentalSharp', 912, 937, 194, 262, 3828.0, 2707.0), ('accidentalSharp', 941, 966, 159, 227, 3828.0, 2707.0), ('accidentalSharp', 941, 966, 592, 660, 3828.0, 2707.0), ('accidentalSharp', 941, 966, 1362, 1430, 3828.0, 2707.0), ('noteheadBlack', 974, 1003, 181, 206, 3828.0, 2707.0), ('noteheadBlack', 974, 1003, 215, 240, 3828.0, 2707.0), ('noteheadWhole', 974, 1014, 579, 604, 3828.0, 2707.0), ('noteheadWhole', 974, 1014, 613, 639, 3828.0, 2707.0), ('noteheadWhole', 974, 1014, 659, 684, 3828.0, 2707.0), ('noteheadWhole', 974, 1014, 1349, 1375, 3828.0, 2707.0), ('noteheadWhole', 974, 1014, 1384, 1409, 3828.0, 2707.0), ('noteheadWhole', 974, 1014, 1429, 1455, 3828.0, 2707.0), ('augmentationDot', 1014, 1026, 188, 199, 3828.0, 2707.0), ('augmentationDot', 1014, 1026, 211, 222, 3828.0, 2707.0), ('restWhole', 1104, 1133, 988, 1001, 3828.0, 2707.0), ('restWhole', 1104, 1133, 1805, 1817, 3828.0, 2707.0), ('restWhole', 1104, 1133, 3029, 3042, 3828.0, 2707.0), ('noteheadBlack', 1106, 1135, 181, 206, 3828.0, 2707.0), ('noteheadBlack', 1106, 1135, 215, 240, 3828.0, 2707.0), ('augmentationDot', 1146, 1157, 188, 199, 3828.0, 2707.0), ('augmentationDot', 1146, 1157, 211, 222, 3828.0, 2707.0), ('noteheadBlack', 1237, 1266, 158, 183, 3828.0, 2707.0), ('noteheadBlack', 1237, 1266, 215, 240, 3828.0, 2707.0), ('noteheadBlack', 1374, 1403, 158, 183, 3828.0, 2707.0), ('noteheadBlack', 1374, 1403, 215, 240, 3828.0, 2707.0), ('noteheadWhole', 1374, 1414, 1349, 1375, 3828.0, 2707.0), ('noteheadWhole', 1374, 1414, 1384, 1409, 3828.0, 2707.0), ('noteheadWhole', 1374, 1414, 1429, 1455, 3828.0, 2707.0), ('flag8thDown', 1375, 1398, 240, 307, 3828.0, 2707.0), ('accidentalSharp', 1429, 1453, 194, 262, 3828.0, 2707.0), ('accidentalSharp', 1458, 1483, 159, 227, 3828.0, 2707.0), ('noteheadBlack', 1491, 1520, 181, 206, 3828.0, 2707.0), ('noteheadBlack', 1491, 1520, 215, 240, 3828.0, 2707.0), ('augmentationDot', 1531, 1542, 188, 199, 3828.0, 2707.0), ('augmentationDot', 1531, 1542, 211, 222, 3828.0, 2707.0), ('restWhole', 1646, 1676, 546, 559, 3828.0, 2707.0), ('restWhole', 1646, 1676, 988, 1001, 3828.0, 2707.0), ('restWhole', 1646, 1676, 1805, 1817, 3828.0, 2707.0), ('restWhole', 1646, 1676, 3029, 3042, 3828.0, 2707.0), ('noteheadBlack', 1695, 1724, 158, 183, 3828.0, 2707.0), ('noteheadBlack', 1695, 1724, 215, 240, 3828.0, 2707.0), ('accidentalSharp', 1802, 1827, 125, 193, 3828.0, 2707.0), ('noteheadBlack', 1835, 1864, 147, 172, 3828.0, 2707.0), ('noteheadBlack', 1835, 1864, 215, 240, 3828.0, 2707.0), ('accidentalSharp', 1998, 2022, 580, 648, 3828.0, 2707.0), ('accidentalSharp', 2027, 2052, 159, 227, 3828.0, 2707.0), ('accidentalSharp', 2027, 2052, 546, 614, 3828.0, 2707.0), ('accidentalSharp', 2027, 2052, 626, 694, 3828.0, 2707.0), ('noteheadBlack', 2060, 2089, 181, 206, 3828.0, 2707.0), ('noteheadBlack', 2060, 2089, 204, 229, 3828.0, 2707.0), ('noteheadBlack', 2060, 2089, 3039, 3065, 3828.0, 2707.0), ('noteheadWhole', 2060, 2100, 567, 593, 3828.0, 2707.0), ('noteheadWhole', 2060, 2100, 602, 627, 3828.0, 2707.0), ('noteheadWhole', 2060, 2100, 647, 673, 3828.0, 2707.0), ('augmentationDot', 2100, 2111, 188, 199, 3828.0, 2707.0), ('augmentationDot', 2100, 2111, 211, 222, 3828.0, 2707.0), ('noteheadBlack', 2129, 2158, 3039, 3065, 3828.0, 2707.0), ('noteheadBlack', 2198, 2227, 3039, 3065, 3828.0, 2707.0), ('restWhole', 2262, 2291, 988, 1001, 3828.0, 2707.0), ('restWhole', 2262, 2291, 1397, 1409, 3828.0, 2707.0), ('restWhole', 2262, 2291, 1805, 1817, 3828.0, 2707.0), ('noteheadBlack', 2267, 2296, 181, 206, 3828.0, 2707.0), ('noteheadBlack', 2267, 2296, 204, 229, 3828.0, 2707.0), ('noteheadBlack', 2267, 2296, 3039, 3065, 3828.0, 2707.0), ('augmentationDot', 2307, 2319, 188, 199, 3828.0, 2707.0), ('augmentationDot', 2307, 2319, 211, 222, 3828.0, 2707.0), ('noteheadBlack', 2336, 2365, 3039, 3065, 3828.0, 2707.0), ('flag8thDown', 2338, 2360, 3062, 3128, 3828.0, 2707.0), ('rest8th', 2406, 2433, 3033, 3076, 3828.0, 2707.0), ('restQuarter', 2471, 2495, 3012, 3081, 3828.0, 2707.0), ('noteheadBlack', 2473, 2502, 158, 183, 3828.0, 2707.0), ('noteheadBlack', 2473, 2502, 204, 229, 3828.0, 2707.0)]\n"
     ]
    }
   ],
   "source": [
    "# symbolprops = regionprops(labels)\n",
    "# print(len(symbolprops))\n",
    "# for symbolprop in symbolprops:\n",
    "#     print(symbolprop.bbox_area)\n",
    "\n",
    "symbols_sorted = sorted(symbols, key=lambda element: (element[1], element[2], element[4], element[4]))\n",
    "print(symbols_sorted)"
   ]
  },
  {
   "cell_type": "code",
   "execution_count": 22,
   "metadata": {},
   "outputs": [],
   "source": [
    "# generate different mask for each single symbol\n",
    "# labels, nlabels = ndimage.label(mask)\n",
    "# print(np.min(labels), np.max(labels))\n",
    "\n",
    "# label_arrays = []\n",
    "# for label_num in range(1, nlabels+1):\n",
    "#     label_mask = np.where(labels == label_num, 1, 0)\n",
    "#     label_arrays.append(label_mask)\n",
    "\n",
    "# print('There are %d separate components.' % (nlabels))\n",
    "# imshow(labels)\n",
    "\n",
    "# build masks for individual symbol\n",
    "masks = np.zeros((int(height), int(width), len(symbols)), dtype=np.uint8)\n",
    "class_dict = []\n",
    "for i, symbol in enumerate(symbols):\n",
    "    # draw a rectangle of ones on a blank image mask\n",
    "    # coords are row, col, so we should put (y, x), instead of (x, y)\n",
    "    xmin, xmax, ymin, ymax = symbol[1], symbol[2], symbol[3], symbol[4]\n",
    "#     # r & c are coords of vertices of the rectangle\n",
    "#     r = np.array([ymin-1, ymin-1, ymax+1, ymax+1, ymin-1])\n",
    "#     c = np.array([xmin-1, xmax+1, xmax+1, xmin-1, xmin-1])\n",
    "#     rr, cc = polygon(r, c) \n",
    "#     temp_mask[rr, cc] = 1\n",
    "    masks[ymin:ymax+1, xmin:xmax+1, i] = mask[ymin:ymax+1, xmin:xmax+1]\n",
    "    class_dict.append(symbol[0])"
   ]
  },
  {
   "cell_type": "code",
   "execution_count": 23,
   "metadata": {},
   "outputs": [
    {
     "data": {
      "text/plain": [
       "<matplotlib.image.AxesImage at 0x10d2a0978>"
      ]
     },
     "execution_count": 23,
     "metadata": {},
     "output_type": "execute_result"
    },
    {
     "data": {
      "image/png": "[encoded data removed]",
      "text/plain": [
       "<matplotlib.figure.Figure at 0x10d27e8d0>"
      ]
     },
     "metadata": {},
     "output_type": "display_data"
    }
   ],
   "source": [
    "plt.figure(figsize=(12,18))\n",
    "plt.imshow(masks[:,:,12])"
   ]
  },
  {
   "cell_type": "code",
   "execution_count": 26,
   "metadata": {},
   "outputs": [],
   "source": [
    "class_dict = {}\n",
    "symbol_type = set()\n",
    "# form a universal symbol set fot the whole dataset, this can take 3 ~ 5 min\n",
    "for xml_path in training_xml_sorted:\n",
    "    _, symbol_names,_ = get_symbol_info(xml_path)\n",
    "    symbol_type = symbol_type.union(symbol_names)"
   ]
  },
  {
   "cell_type": "code",
   "execution_count": 28,
   "metadata": {},
   "outputs": [
    {
     "name": "stdout",
     "output_type": "stream",
     "text": [
      "Total number of symbols in the dataset: 114\n",
      "67\n"
     ]
    }
   ],
   "source": [
    "print('Total number of symbols in the dataset:', len(symbol_type))\n",
    "# assign integer numbers for each symbol class\n",
    "i = 0\n",
    "for item in symbol_type:\n",
    "    class_dict[item] = i\n",
    "    i += 1\n",
    "print(class_dict['fClef'])"
   ]
  },
  {
   "cell_type": "code",
   "execution_count": 33,
   "metadata": {},
   "outputs": [
    {
     "name": "stdout",
     "output_type": "stream",
     "text": [
      "114\n",
      "{'restQuarter', 'accidentalSharpSmall', 'keyboardPedalPed', 'dynamicMF', 'articMarcatoBelow', 'accidentalNatural', 'noteheadDoubleWhole', 'flag8thDown', 'fermataBelow', 'noteheadHalf', 'articTenutoBelow', 'flag16thDown', 'segno', 'repeatDot', 'timeSig5', 'keyboardPedalUp', 'dynamicPiano', 'ornamentTurnInverted', 'tuplet6', 'dynamicFortePiano', 'gClefChange', 'timeSig1', 'flag16thUp', 'rest128th', 'noteheadWhole', 'brace', 'keySharp', 'articMarcatoAbove', 'dynamicPPPP', 'timeSig4', 'coda', 'clef8', 'timeSig7', 'rest64th', 'fClef', 'articStaccatissimoBelow', 'timeSig6', 'flag64thDown', 'restWhole', 'caesura', 'dynamicSforzato', 'fingering0', 'ornamentTurn', 'fermataAbove', 'dynamicMP', 'accidentalFlat', 'fClefChange', 'cClefAltoChange', 'accidentalDoubleSharp', 'accidentalFlatSmall', 'cClefTenor', 'noteheadBlackSmall', 'keyFlat', 'dynamicForte', 'dynamicPP', 'flag128thDown', 'articStaccatissimoAbove', 'dynamicPPPPP', 'augmentationDot', 'flag32ndDown', 'articAccentAbove', 'timeSig0', 'rest32nd', 'graceNoteAcciaccaturaStemDown', 'dynamicFFFFF', 'accidentalSharp', 'keyNatural', 'fingering3', 'tuplet3', 'flag128thUp', 'dynamicFFFF', 'cClefTenorChange', 'timeSigCommon', 'restHBar', 'timeSig3', 'timeSig9', 'timeSig8', 'unpitchedPercussionClef1', 'arpeggiato', 'articStaccatoBelow', 'stringsUpBow', 'accidentalNaturalSmall', 'timeSig2', 'clef15', 'articStaccatoAbove', 'rest8th', 'fingering4', 'flag64thUp', 'graceNoteAppoggiaturaStemUp', 'dynamicSforzando1', 'stringsDownBow', 'dynamicFF', 'accidentalDoubleFlat', 'articTenutoAbove', 'cClefAlto', 'fingering5', 'restHalf', 'ornamentMordent', 'fingering2', 'flag32ndUp', 'flag8thUp', 'fingering1', 'timeSigCutCommon', 'articAccentBelow', 'dynamicPPP', 'graceNoteAcciaccaturaStemUp', 'gClef', 'rest16th', 'graceNoteAppoggiaturaStemDown', 'dynamicMezzo', 'dynamicFFF', 'ornamentTrill', 'restDoubleWhole', 'noteheadBlack'}\n"
     ]
    }
   ],
   "source": [
    "# save the symbol_type set for convenience\n",
    "np.save('symbol_type.npy', symbol_type) \n",
    "\n",
    "# Load\n",
    "read_symbol_type = np.load('symbol_type.npy').item()\n",
    "print(len(read_symbol_type))\n",
    "print(read_symbol_type)"
   ]
  },
  {
   "cell_type": "markdown",
   "metadata": {},
   "source": [
    "# Mask R-CNN for DeepScore"
   ]
  },
  {
   "cell_type": "markdown",
   "metadata": {},
   "source": [
    "## Dataset Class"
   ]
  },
  {
   "cell_type": "code",
   "execution_count": null,
   "metadata": {},
   "outputs": [],
   "source": []
  },
  {
   "cell_type": "code",
   "execution_count": 36,
   "metadata": {},
   "outputs": [
    {
     "name": "stderr",
     "output_type": "stream",
     "text": [
      "/anaconda3/lib/python3.6/site-packages/h5py/__init__.py:36: FutureWarning: Conversion of the second argument of issubdtype from `float` to `np.floating` is deprecated. In future, it will be treated as `np.float64 == np.dtype(float).type`.\n",
      "  from ._conv import register_converters as _register_converters\n"
     ]
    }
   ],
   "source": [
    "from mrcnn import utils\n",
    "class ScoreDataset(utils.Dataset):\n",
    "    \"\"\"Generates the shapes synthetic dataset. The dataset consists of simple\n",
    "    shapes (triangles, squares, circles) placed randomly on a blank surface.\n",
    "    The images are generated on the fly. No file access required.\n",
    "    \"\"\"\n",
    "\n",
    "    def load_score(self, img_sorted):\n",
    "        \"\"\"Load a subset of the DeepScore dataset.\n",
    "        dataset_dir: Root directory of the dataset.\n",
    "        subset: Subset to load: train or val\n",
    "        \"\"\"\n",
    "    \n",
    "        for key, value in class_dict.items():\n",
    "            self.add_class(\"symbol\", value, key)\n",
    "        # Train or validation dataset?      \n",
    "        img_sorted = sorted([x for x in dataset_dir])\n",
    "        \n",
    "        # add images\n",
    "        for i, image_path in enumerate(img_sorted):\n",
    "            image = imread(str(im_path))\n",
    "            \n",
    "            # load_mask() needs the image size to convert polygons to masks.\n",
    "            # Unfortunately, VIA doesn't include it in JSON, so we must read\n",
    "            # the image. This is only managable since the dataset is tiny.\n",
    "            image_path = os.path.join(dataset_dir, a['filename'])\n",
    "            image = skimage.io.imread(image_path)\n",
    "            height, width = image.shape[:2]\n",
    "            \n",
    "            self.add_image(\n",
    "                \"balloon\",\n",
    "                image_id=i,\n",
    "                path=image_path,\n",
    "                width=width, height=height)\n",
    "        \n",
    "\n",
    "    def image_reference(self, image_id):\n",
    "        \"\"\"Return the score data of the image.\"\"\"\n",
    "        info = self.image_info[image_id]\n",
    "        if info[\"source\"] == \"symbol\":\n",
    "            return info[\"symbol\"]\n",
    "        else:\n",
    "            super(self.__class__).image_reference(self, image_id)\n",
    "\n",
    "    def load_mask(self, image_id, xml_sorted):\n",
    "        \"\"\"Generate instance masks for an image.\n",
    "        Returns:\n",
    "        masks: A bool array of shape [height, width, instance count] with\n",
    "            one mask per instance.\n",
    "        class_ids: a 1D array of class IDs of the instance masks.\n",
    "        \"\"\"        \n",
    "        image_info = self.image_info[image_id]\n",
    "        if image_info[\"source\"] != \"symbol\":\n",
    "            return super(self.__class__, self).load_mask(image_id)\n",
    "\n",
    "        # image_id == xml_id\n",
    "        xml_path = xml_sorted[image_id]\n",
    "        symbols, symbol_names, _ = get_symbol_info(s)\n",
    "        masks = np.zeros([info['height'], info['width'], len(symbols)], dtype=np.uint8)\n",
    "        for i, symbol in enumerate(symbols):\n",
    "            # draw a rectangle of ones on a blank image mask\n",
    "            # coords are row, col, so we should put (y, x), instead of (x, y)\n",
    "            xmin, xmax, ymin, ymax = symbol[1], symbol[2], symbol[3], symbol[4]\n",
    "            masks[ymin:ymax+1, xmin:xmax+1, i] = mask[ymin:ymax+1, xmin:xmax+1]\n",
    "        \n",
    "        # Map class names to class IDs.\n",
    "        class_ids = np.array([self.class_names.index(s[0]) for s in symbols])\n",
    "            \n",
    "        \n",
    "        return mask.astype(np.bool), class_ids.astype(np.int32)\n",
    "\n"
   ]
  },
  {
   "cell_type": "code",
   "execution_count": 51,
   "metadata": {},
   "outputs": [
    {
     "name": "stdout",
     "output_type": "stream",
     "text": [
      "10000\n"
     ]
    }
   ],
   "source": [
    "## Split dataset into training and validation\n",
    "split = 8000\n",
    "train_img_data = training_img_sorted[:8000]\n",
    "val_img_data = training_img_sorted[8000:]\n",
    "\n",
    "train_xml_data = training_xml_sorted[:8000]\n",
    "val_xml_data = training_img_sorted[8000:]"
   ]
  },
  {
   "cell_type": "code",
   "execution_count": null,
   "metadata": {},
   "outputs": [],
   "source": [
    "def train(model):\n",
    "    \"\"\"Train the model.\"\"\"\n",
    "    # Training dataset.\n",
    "    dataset_train = ScoreDataset()\n",
    "    dataset_train.load_score(train_img_data)\n",
    "    dataset_train.prepare()\n",
    "\n",
    "    # Validation dataset\n",
    "    dataset_val = ScoreDataset()\n",
    "    dataset_val.load_score(train_xml_data)\n",
    "    dataset_val.prepare()\n",
    "\n",
    "    # *** This training schedule is an example. Update to your needs ***\n",
    "    # Since we're using a very small dataset, and starting from\n",
    "    # COCO trained weights, we don't need to train too long. Also,\n",
    "    # no need to train all layers, just the heads should do it.\n",
    "    print(\"Training network heads\")\n",
    "    model.train(dataset_train, dataset_val,\n",
    "                learning_rate=config.LEARNING_RATE,\n",
    "                epochs=30,\n",
    "                layers='heads')"
   ]
  }
 ],
 "metadata": {
  "kernelspec": {
   "display_name": "Python 3",
   "language": "python",
   "name": "python3"
  },
  "language_info": {
   "codemirror_mode": {
    "name": "ipython",
    "version": 3
   },
   "file_extension": ".py",
   "mimetype": "text/x-python",
   "name": "python",
   "nbconvert_exporter": "python",
   "pygments_lexer": "ipython3",
   "version": "3.6.4"
  }
 },
 "nbformat": 4,
 "nbformat_minor": 2
}
